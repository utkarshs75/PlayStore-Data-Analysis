{
  "nbformat": 4,
  "nbformat_minor": 0,
  "metadata": {
    "colab": {
      "name": "Play Store App review Analysis.ipynb",
      "provenance": [],
      "collapsed_sections": [],
      "mount_file_id": "1satGtLYEIadPAz1TRnSyDz0JOQv5ei6h",
      "authorship_tag": "ABX9TyOndk92dtwZWWWwCBKDmxzz",
      "include_colab_link": true
    },
    "kernelspec": {
      "name": "python3",
      "display_name": "Python 3"
    },
    "language_info": {
      "name": "python"
    }
  },
  "cells": [
    {
      "cell_type": "markdown",
      "metadata": {
        "id": "view-in-github",
        "colab_type": "text"
      },
      "source": [
        "<a href=\"https://colab.research.google.com/github/utkarshs75/PlayStore-Data-Analysis/blob/main/Play_Store_App_review_Analysis.ipynb\" target=\"_parent\"><img src=\"https://colab.research.google.com/assets/colab-badge.svg\" alt=\"Open In Colab\"/></a>"
      ]
    },
    {
      "cell_type": "markdown",
      "source": [
        "## <b> The Play Store apps data has enormous potential to drive app-making businesses to success. Actionable insights can be drawn for developers to work on and capture the Android market. </b>\n",
        "\n",
        "## <b> Each app (row) has values for catergory, rating, size, and more. Another dataset contains customer reviews of the android apps.</b>\n",
        "\n",
        "## <b> Explore and analyze the data to discover key factors responsible for app engagement and success. </b>"
      ],
      "metadata": {
        "id": "Vku0MAVgvNSb"
      }
    },
    {
      "cell_type": "code",
      "execution_count": 1,
      "metadata": {
        "id": "8cv8LBHJvDuA"
      },
      "outputs": [],
      "source": [
        "import numpy as np\n",
        "import pandas as pd\n",
        "import matplotlib.pyplot as plt\n",
        "import seaborn as sns\n",
        "%matplotlib inline"
      ]
    },
    {
      "cell_type": "code",
      "source": [
        "from google.colab import drive\n",
        "drive.mount('/content/drive')"
      ],
      "metadata": {
        "id": "beHL4c3Na7Kb"
      },
      "execution_count": 3,
      "outputs": []
    },
    {
      "cell_type": "code",
      "source": [
        "path1 = '/content/drive/MyDrive/AB_Capstone/Play Store Data.csv'\n",
        "path2 = '/content/drive/MyDrive/AB_Capstone/User Reviews.csv'\n",
        "data = pd.read_csv(path1)\n",
        "rev = pd.read_csv(path2)"
      ],
      "metadata": {
        "id": "Zy-qlMS8vycJ"
      },
      "execution_count": 2,
      "outputs": []
    },
    {
      "cell_type": "code",
      "source": [
        "data"
      ],
      "metadata": {
        "id": "2q10CrZEeaw1",
        "colab": {
          "base_uri": "https://localhost:8080/",
          "height": 658
        },
        "outputId": "95eb0b2b-481d-4d42-a8c6-94a9e47bf467"
      },
      "execution_count": 3,
      "outputs": [
        {
          "output_type": "execute_result",
          "data": {
            "text/plain": [
              "                                                     App             Category  \\\n",
              "0         Photo Editor & Candy Camera & Grid & ScrapBook       ART_AND_DESIGN   \n",
              "1                                    Coloring book moana       ART_AND_DESIGN   \n",
              "2      U Launcher Lite – FREE Live Cool Themes, Hide ...       ART_AND_DESIGN   \n",
              "3                                  Sketch - Draw & Paint       ART_AND_DESIGN   \n",
              "4                  Pixel Draw - Number Art Coloring Book       ART_AND_DESIGN   \n",
              "...                                                  ...                  ...   \n",
              "10836                                   Sya9a Maroc - FR               FAMILY   \n",
              "10837                   Fr. Mike Schmitz Audio Teachings               FAMILY   \n",
              "10838                             Parkinson Exercices FR              MEDICAL   \n",
              "10839                      The SCP Foundation DB fr nn5n  BOOKS_AND_REFERENCE   \n",
              "10840      iHoroscope - 2018 Daily Horoscope & Astrology            LIFESTYLE   \n",
              "\n",
              "       Rating Reviews                Size     Installs  Type Price  \\\n",
              "0         4.1     159                 19M      10,000+  Free     0   \n",
              "1         3.9     967                 14M     500,000+  Free     0   \n",
              "2         4.7   87510                8.7M   5,000,000+  Free     0   \n",
              "3         4.5  215644                 25M  50,000,000+  Free     0   \n",
              "4         4.3     967                2.8M     100,000+  Free     0   \n",
              "...       ...     ...                 ...          ...   ...   ...   \n",
              "10836     4.5      38                 53M       5,000+  Free     0   \n",
              "10837     5.0       4                3.6M         100+  Free     0   \n",
              "10838     NaN       3                9.5M       1,000+  Free     0   \n",
              "10839     4.5     114  Varies with device       1,000+  Free     0   \n",
              "10840     4.5  398307                 19M  10,000,000+  Free     0   \n",
              "\n",
              "      Content Rating                     Genres      Last Updated  \\\n",
              "0           Everyone               Art & Design   January 7, 2018   \n",
              "1           Everyone  Art & Design;Pretend Play  January 15, 2018   \n",
              "2           Everyone               Art & Design    August 1, 2018   \n",
              "3               Teen               Art & Design      June 8, 2018   \n",
              "4           Everyone    Art & Design;Creativity     June 20, 2018   \n",
              "...              ...                        ...               ...   \n",
              "10836       Everyone                  Education     July 25, 2017   \n",
              "10837       Everyone                  Education      July 6, 2018   \n",
              "10838       Everyone                    Medical  January 20, 2017   \n",
              "10839     Mature 17+          Books & Reference  January 19, 2015   \n",
              "10840       Everyone                  Lifestyle     July 25, 2018   \n",
              "\n",
              "              Current Ver         Android Ver  \n",
              "0                   1.0.0        4.0.3 and up  \n",
              "1                   2.0.0        4.0.3 and up  \n",
              "2                   1.2.4        4.0.3 and up  \n",
              "3      Varies with device          4.2 and up  \n",
              "4                     1.1          4.4 and up  \n",
              "...                   ...                 ...  \n",
              "10836                1.48          4.1 and up  \n",
              "10837                 1.0          4.1 and up  \n",
              "10838                 1.0          2.2 and up  \n",
              "10839  Varies with device  Varies with device  \n",
              "10840  Varies with device  Varies with device  \n",
              "\n",
              "[10841 rows x 13 columns]"
            ],
            "text/html": [
              "\n",
              "  <div id=\"df-4982a2bc-e3bb-4141-b901-5765147d13e0\">\n",
              "    <div class=\"colab-df-container\">\n",
              "      <div>\n",
              "<style scoped>\n",
              "    .dataframe tbody tr th:only-of-type {\n",
              "        vertical-align: middle;\n",
              "    }\n",
              "\n",
              "    .dataframe tbody tr th {\n",
              "        vertical-align: top;\n",
              "    }\n",
              "\n",
              "    .dataframe thead th {\n",
              "        text-align: right;\n",
              "    }\n",
              "</style>\n",
              "<table border=\"1\" class=\"dataframe\">\n",
              "  <thead>\n",
              "    <tr style=\"text-align: right;\">\n",
              "      <th></th>\n",
              "      <th>App</th>\n",
              "      <th>Category</th>\n",
              "      <th>Rating</th>\n",
              "      <th>Reviews</th>\n",
              "      <th>Size</th>\n",
              "      <th>Installs</th>\n",
              "      <th>Type</th>\n",
              "      <th>Price</th>\n",
              "      <th>Content Rating</th>\n",
              "      <th>Genres</th>\n",
              "      <th>Last Updated</th>\n",
              "      <th>Current Ver</th>\n",
              "      <th>Android Ver</th>\n",
              "    </tr>\n",
              "  </thead>\n",
              "  <tbody>\n",
              "    <tr>\n",
              "      <th>0</th>\n",
              "      <td>Photo Editor &amp; Candy Camera &amp; Grid &amp; ScrapBook</td>\n",
              "      <td>ART_AND_DESIGN</td>\n",
              "      <td>4.1</td>\n",
              "      <td>159</td>\n",
              "      <td>19M</td>\n",
              "      <td>10,000+</td>\n",
              "      <td>Free</td>\n",
              "      <td>0</td>\n",
              "      <td>Everyone</td>\n",
              "      <td>Art &amp; Design</td>\n",
              "      <td>January 7, 2018</td>\n",
              "      <td>1.0.0</td>\n",
              "      <td>4.0.3 and up</td>\n",
              "    </tr>\n",
              "    <tr>\n",
              "      <th>1</th>\n",
              "      <td>Coloring book moana</td>\n",
              "      <td>ART_AND_DESIGN</td>\n",
              "      <td>3.9</td>\n",
              "      <td>967</td>\n",
              "      <td>14M</td>\n",
              "      <td>500,000+</td>\n",
              "      <td>Free</td>\n",
              "      <td>0</td>\n",
              "      <td>Everyone</td>\n",
              "      <td>Art &amp; Design;Pretend Play</td>\n",
              "      <td>January 15, 2018</td>\n",
              "      <td>2.0.0</td>\n",
              "      <td>4.0.3 and up</td>\n",
              "    </tr>\n",
              "    <tr>\n",
              "      <th>2</th>\n",
              "      <td>U Launcher Lite – FREE Live Cool Themes, Hide ...</td>\n",
              "      <td>ART_AND_DESIGN</td>\n",
              "      <td>4.7</td>\n",
              "      <td>87510</td>\n",
              "      <td>8.7M</td>\n",
              "      <td>5,000,000+</td>\n",
              "      <td>Free</td>\n",
              "      <td>0</td>\n",
              "      <td>Everyone</td>\n",
              "      <td>Art &amp; Design</td>\n",
              "      <td>August 1, 2018</td>\n",
              "      <td>1.2.4</td>\n",
              "      <td>4.0.3 and up</td>\n",
              "    </tr>\n",
              "    <tr>\n",
              "      <th>3</th>\n",
              "      <td>Sketch - Draw &amp; Paint</td>\n",
              "      <td>ART_AND_DESIGN</td>\n",
              "      <td>4.5</td>\n",
              "      <td>215644</td>\n",
              "      <td>25M</td>\n",
              "      <td>50,000,000+</td>\n",
              "      <td>Free</td>\n",
              "      <td>0</td>\n",
              "      <td>Teen</td>\n",
              "      <td>Art &amp; Design</td>\n",
              "      <td>June 8, 2018</td>\n",
              "      <td>Varies with device</td>\n",
              "      <td>4.2 and up</td>\n",
              "    </tr>\n",
              "    <tr>\n",
              "      <th>4</th>\n",
              "      <td>Pixel Draw - Number Art Coloring Book</td>\n",
              "      <td>ART_AND_DESIGN</td>\n",
              "      <td>4.3</td>\n",
              "      <td>967</td>\n",
              "      <td>2.8M</td>\n",
              "      <td>100,000+</td>\n",
              "      <td>Free</td>\n",
              "      <td>0</td>\n",
              "      <td>Everyone</td>\n",
              "      <td>Art &amp; Design;Creativity</td>\n",
              "      <td>June 20, 2018</td>\n",
              "      <td>1.1</td>\n",
              "      <td>4.4 and up</td>\n",
              "    </tr>\n",
              "    <tr>\n",
              "      <th>...</th>\n",
              "      <td>...</td>\n",
              "      <td>...</td>\n",
              "      <td>...</td>\n",
              "      <td>...</td>\n",
              "      <td>...</td>\n",
              "      <td>...</td>\n",
              "      <td>...</td>\n",
              "      <td>...</td>\n",
              "      <td>...</td>\n",
              "      <td>...</td>\n",
              "      <td>...</td>\n",
              "      <td>...</td>\n",
              "      <td>...</td>\n",
              "    </tr>\n",
              "    <tr>\n",
              "      <th>10836</th>\n",
              "      <td>Sya9a Maroc - FR</td>\n",
              "      <td>FAMILY</td>\n",
              "      <td>4.5</td>\n",
              "      <td>38</td>\n",
              "      <td>53M</td>\n",
              "      <td>5,000+</td>\n",
              "      <td>Free</td>\n",
              "      <td>0</td>\n",
              "      <td>Everyone</td>\n",
              "      <td>Education</td>\n",
              "      <td>July 25, 2017</td>\n",
              "      <td>1.48</td>\n",
              "      <td>4.1 and up</td>\n",
              "    </tr>\n",
              "    <tr>\n",
              "      <th>10837</th>\n",
              "      <td>Fr. Mike Schmitz Audio Teachings</td>\n",
              "      <td>FAMILY</td>\n",
              "      <td>5.0</td>\n",
              "      <td>4</td>\n",
              "      <td>3.6M</td>\n",
              "      <td>100+</td>\n",
              "      <td>Free</td>\n",
              "      <td>0</td>\n",
              "      <td>Everyone</td>\n",
              "      <td>Education</td>\n",
              "      <td>July 6, 2018</td>\n",
              "      <td>1.0</td>\n",
              "      <td>4.1 and up</td>\n",
              "    </tr>\n",
              "    <tr>\n",
              "      <th>10838</th>\n",
              "      <td>Parkinson Exercices FR</td>\n",
              "      <td>MEDICAL</td>\n",
              "      <td>NaN</td>\n",
              "      <td>3</td>\n",
              "      <td>9.5M</td>\n",
              "      <td>1,000+</td>\n",
              "      <td>Free</td>\n",
              "      <td>0</td>\n",
              "      <td>Everyone</td>\n",
              "      <td>Medical</td>\n",
              "      <td>January 20, 2017</td>\n",
              "      <td>1.0</td>\n",
              "      <td>2.2 and up</td>\n",
              "    </tr>\n",
              "    <tr>\n",
              "      <th>10839</th>\n",
              "      <td>The SCP Foundation DB fr nn5n</td>\n",
              "      <td>BOOKS_AND_REFERENCE</td>\n",
              "      <td>4.5</td>\n",
              "      <td>114</td>\n",
              "      <td>Varies with device</td>\n",
              "      <td>1,000+</td>\n",
              "      <td>Free</td>\n",
              "      <td>0</td>\n",
              "      <td>Mature 17+</td>\n",
              "      <td>Books &amp; Reference</td>\n",
              "      <td>January 19, 2015</td>\n",
              "      <td>Varies with device</td>\n",
              "      <td>Varies with device</td>\n",
              "    </tr>\n",
              "    <tr>\n",
              "      <th>10840</th>\n",
              "      <td>iHoroscope - 2018 Daily Horoscope &amp; Astrology</td>\n",
              "      <td>LIFESTYLE</td>\n",
              "      <td>4.5</td>\n",
              "      <td>398307</td>\n",
              "      <td>19M</td>\n",
              "      <td>10,000,000+</td>\n",
              "      <td>Free</td>\n",
              "      <td>0</td>\n",
              "      <td>Everyone</td>\n",
              "      <td>Lifestyle</td>\n",
              "      <td>July 25, 2018</td>\n",
              "      <td>Varies with device</td>\n",
              "      <td>Varies with device</td>\n",
              "    </tr>\n",
              "  </tbody>\n",
              "</table>\n",
              "<p>10841 rows × 13 columns</p>\n",
              "</div>\n",
              "      <button class=\"colab-df-convert\" onclick=\"convertToInteractive('df-4982a2bc-e3bb-4141-b901-5765147d13e0')\"\n",
              "              title=\"Convert this dataframe to an interactive table.\"\n",
              "              style=\"display:none;\">\n",
              "        \n",
              "  <svg xmlns=\"http://www.w3.org/2000/svg\" height=\"24px\"viewBox=\"0 0 24 24\"\n",
              "       width=\"24px\">\n",
              "    <path d=\"M0 0h24v24H0V0z\" fill=\"none\"/>\n",
              "    <path d=\"M18.56 5.44l.94 2.06.94-2.06 2.06-.94-2.06-.94-.94-2.06-.94 2.06-2.06.94zm-11 1L8.5 8.5l.94-2.06 2.06-.94-2.06-.94L8.5 2.5l-.94 2.06-2.06.94zm10 10l.94 2.06.94-2.06 2.06-.94-2.06-.94-.94-2.06-.94 2.06-2.06.94z\"/><path d=\"M17.41 7.96l-1.37-1.37c-.4-.4-.92-.59-1.43-.59-.52 0-1.04.2-1.43.59L10.3 9.45l-7.72 7.72c-.78.78-.78 2.05 0 2.83L4 21.41c.39.39.9.59 1.41.59.51 0 1.02-.2 1.41-.59l7.78-7.78 2.81-2.81c.8-.78.8-2.07 0-2.86zM5.41 20L4 18.59l7.72-7.72 1.47 1.35L5.41 20z\"/>\n",
              "  </svg>\n",
              "      </button>\n",
              "      \n",
              "  <style>\n",
              "    .colab-df-container {\n",
              "      display:flex;\n",
              "      flex-wrap:wrap;\n",
              "      gap: 12px;\n",
              "    }\n",
              "\n",
              "    .colab-df-convert {\n",
              "      background-color: #E8F0FE;\n",
              "      border: none;\n",
              "      border-radius: 50%;\n",
              "      cursor: pointer;\n",
              "      display: none;\n",
              "      fill: #1967D2;\n",
              "      height: 32px;\n",
              "      padding: 0 0 0 0;\n",
              "      width: 32px;\n",
              "    }\n",
              "\n",
              "    .colab-df-convert:hover {\n",
              "      background-color: #E2EBFA;\n",
              "      box-shadow: 0px 1px 2px rgba(60, 64, 67, 0.3), 0px 1px 3px 1px rgba(60, 64, 67, 0.15);\n",
              "      fill: #174EA6;\n",
              "    }\n",
              "\n",
              "    [theme=dark] .colab-df-convert {\n",
              "      background-color: #3B4455;\n",
              "      fill: #D2E3FC;\n",
              "    }\n",
              "\n",
              "    [theme=dark] .colab-df-convert:hover {\n",
              "      background-color: #434B5C;\n",
              "      box-shadow: 0px 1px 3px 1px rgba(0, 0, 0, 0.15);\n",
              "      filter: drop-shadow(0px 1px 2px rgba(0, 0, 0, 0.3));\n",
              "      fill: #FFFFFF;\n",
              "    }\n",
              "  </style>\n",
              "\n",
              "      <script>\n",
              "        const buttonEl =\n",
              "          document.querySelector('#df-4982a2bc-e3bb-4141-b901-5765147d13e0 button.colab-df-convert');\n",
              "        buttonEl.style.display =\n",
              "          google.colab.kernel.accessAllowed ? 'block' : 'none';\n",
              "\n",
              "        async function convertToInteractive(key) {\n",
              "          const element = document.querySelector('#df-4982a2bc-e3bb-4141-b901-5765147d13e0');\n",
              "          const dataTable =\n",
              "            await google.colab.kernel.invokeFunction('convertToInteractive',\n",
              "                                                     [key], {});\n",
              "          if (!dataTable) return;\n",
              "\n",
              "          const docLinkHtml = 'Like what you see? Visit the ' +\n",
              "            '<a target=\"_blank\" href=https://colab.research.google.com/notebooks/data_table.ipynb>data table notebook</a>'\n",
              "            + ' to learn more about interactive tables.';\n",
              "          element.innerHTML = '';\n",
              "          dataTable['output_type'] = 'display_data';\n",
              "          await google.colab.output.renderOutput(dataTable, element);\n",
              "          const docLink = document.createElement('div');\n",
              "          docLink.innerHTML = docLinkHtml;\n",
              "          element.appendChild(docLink);\n",
              "        }\n",
              "      </script>\n",
              "    </div>\n",
              "  </div>\n",
              "  "
            ]
          },
          "metadata": {},
          "execution_count": 3
        }
      ]
    },
    {
      "cell_type": "code",
      "source": [
        "data.info()"
      ],
      "metadata": {
        "id": "93dnFJoIhenS",
        "colab": {
          "base_uri": "https://localhost:8080/"
        },
        "outputId": "1096ce19-6e64-41d2-bdcd-d0d3a3a9fe47"
      },
      "execution_count": 4,
      "outputs": [
        {
          "output_type": "stream",
          "name": "stdout",
          "text": [
            "<class 'pandas.core.frame.DataFrame'>\n",
            "RangeIndex: 10841 entries, 0 to 10840\n",
            "Data columns (total 13 columns):\n",
            " #   Column          Non-Null Count  Dtype  \n",
            "---  ------          --------------  -----  \n",
            " 0   App             10841 non-null  object \n",
            " 1   Category        10841 non-null  object \n",
            " 2   Rating          9367 non-null   float64\n",
            " 3   Reviews         10841 non-null  object \n",
            " 4   Size            10841 non-null  object \n",
            " 5   Installs        10841 non-null  object \n",
            " 6   Type            10840 non-null  object \n",
            " 7   Price           10841 non-null  object \n",
            " 8   Content Rating  10840 non-null  object \n",
            " 9   Genres          10841 non-null  object \n",
            " 10  Last Updated    10841 non-null  object \n",
            " 11  Current Ver     10833 non-null  object \n",
            " 12  Android Ver     10838 non-null  object \n",
            "dtypes: float64(1), object(12)\n",
            "memory usage: 1.1+ MB\n"
          ]
        }
      ]
    },
    {
      "cell_type": "code",
      "source": [
        "data.isnull().sum()"
      ],
      "metadata": {
        "colab": {
          "base_uri": "https://localhost:8080/"
        },
        "id": "OPCIW37NxXNp",
        "outputId": "0e929fb0-eb0b-4a52-bb39-523bf2661945"
      },
      "execution_count": 5,
      "outputs": [
        {
          "output_type": "execute_result",
          "data": {
            "text/plain": [
              "App                  0\n",
              "Category             0\n",
              "Rating            1474\n",
              "Reviews              0\n",
              "Size                 0\n",
              "Installs             0\n",
              "Type                 1\n",
              "Price                0\n",
              "Content Rating       1\n",
              "Genres               0\n",
              "Last Updated         0\n",
              "Current Ver          8\n",
              "Android Ver          3\n",
              "dtype: int64"
            ]
          },
          "metadata": {},
          "execution_count": 5
        }
      ]
    },
    {
      "cell_type": "code",
      "source": [
        "data.describe().T"
      ],
      "metadata": {
        "colab": {
          "base_uri": "https://localhost:8080/",
          "height": 81
        },
        "id": "0TNfpJjJybgZ",
        "outputId": "b567dd24-9969-4520-ebdf-559176e1257f"
      },
      "execution_count": 6,
      "outputs": [
        {
          "output_type": "execute_result",
          "data": {
            "text/plain": [
              "         count      mean       std  min  25%  50%  75%   max\n",
              "Rating  9367.0  4.193338  0.537431  1.0  4.0  4.3  4.5  19.0"
            ],
            "text/html": [
              "\n",
              "  <div id=\"df-33bb9ea1-5d3f-4983-b2cc-1f72763656e9\">\n",
              "    <div class=\"colab-df-container\">\n",
              "      <div>\n",
              "<style scoped>\n",
              "    .dataframe tbody tr th:only-of-type {\n",
              "        vertical-align: middle;\n",
              "    }\n",
              "\n",
              "    .dataframe tbody tr th {\n",
              "        vertical-align: top;\n",
              "    }\n",
              "\n",
              "    .dataframe thead th {\n",
              "        text-align: right;\n",
              "    }\n",
              "</style>\n",
              "<table border=\"1\" class=\"dataframe\">\n",
              "  <thead>\n",
              "    <tr style=\"text-align: right;\">\n",
              "      <th></th>\n",
              "      <th>count</th>\n",
              "      <th>mean</th>\n",
              "      <th>std</th>\n",
              "      <th>min</th>\n",
              "      <th>25%</th>\n",
              "      <th>50%</th>\n",
              "      <th>75%</th>\n",
              "      <th>max</th>\n",
              "    </tr>\n",
              "  </thead>\n",
              "  <tbody>\n",
              "    <tr>\n",
              "      <th>Rating</th>\n",
              "      <td>9367.0</td>\n",
              "      <td>4.193338</td>\n",
              "      <td>0.537431</td>\n",
              "      <td>1.0</td>\n",
              "      <td>4.0</td>\n",
              "      <td>4.3</td>\n",
              "      <td>4.5</td>\n",
              "      <td>19.0</td>\n",
              "    </tr>\n",
              "  </tbody>\n",
              "</table>\n",
              "</div>\n",
              "      <button class=\"colab-df-convert\" onclick=\"convertToInteractive('df-33bb9ea1-5d3f-4983-b2cc-1f72763656e9')\"\n",
              "              title=\"Convert this dataframe to an interactive table.\"\n",
              "              style=\"display:none;\">\n",
              "        \n",
              "  <svg xmlns=\"http://www.w3.org/2000/svg\" height=\"24px\"viewBox=\"0 0 24 24\"\n",
              "       width=\"24px\">\n",
              "    <path d=\"M0 0h24v24H0V0z\" fill=\"none\"/>\n",
              "    <path d=\"M18.56 5.44l.94 2.06.94-2.06 2.06-.94-2.06-.94-.94-2.06-.94 2.06-2.06.94zm-11 1L8.5 8.5l.94-2.06 2.06-.94-2.06-.94L8.5 2.5l-.94 2.06-2.06.94zm10 10l.94 2.06.94-2.06 2.06-.94-2.06-.94-.94-2.06-.94 2.06-2.06.94z\"/><path d=\"M17.41 7.96l-1.37-1.37c-.4-.4-.92-.59-1.43-.59-.52 0-1.04.2-1.43.59L10.3 9.45l-7.72 7.72c-.78.78-.78 2.05 0 2.83L4 21.41c.39.39.9.59 1.41.59.51 0 1.02-.2 1.41-.59l7.78-7.78 2.81-2.81c.8-.78.8-2.07 0-2.86zM5.41 20L4 18.59l7.72-7.72 1.47 1.35L5.41 20z\"/>\n",
              "  </svg>\n",
              "      </button>\n",
              "      \n",
              "  <style>\n",
              "    .colab-df-container {\n",
              "      display:flex;\n",
              "      flex-wrap:wrap;\n",
              "      gap: 12px;\n",
              "    }\n",
              "\n",
              "    .colab-df-convert {\n",
              "      background-color: #E8F0FE;\n",
              "      border: none;\n",
              "      border-radius: 50%;\n",
              "      cursor: pointer;\n",
              "      display: none;\n",
              "      fill: #1967D2;\n",
              "      height: 32px;\n",
              "      padding: 0 0 0 0;\n",
              "      width: 32px;\n",
              "    }\n",
              "\n",
              "    .colab-df-convert:hover {\n",
              "      background-color: #E2EBFA;\n",
              "      box-shadow: 0px 1px 2px rgba(60, 64, 67, 0.3), 0px 1px 3px 1px rgba(60, 64, 67, 0.15);\n",
              "      fill: #174EA6;\n",
              "    }\n",
              "\n",
              "    [theme=dark] .colab-df-convert {\n",
              "      background-color: #3B4455;\n",
              "      fill: #D2E3FC;\n",
              "    }\n",
              "\n",
              "    [theme=dark] .colab-df-convert:hover {\n",
              "      background-color: #434B5C;\n",
              "      box-shadow: 0px 1px 3px 1px rgba(0, 0, 0, 0.15);\n",
              "      filter: drop-shadow(0px 1px 2px rgba(0, 0, 0, 0.3));\n",
              "      fill: #FFFFFF;\n",
              "    }\n",
              "  </style>\n",
              "\n",
              "      <script>\n",
              "        const buttonEl =\n",
              "          document.querySelector('#df-33bb9ea1-5d3f-4983-b2cc-1f72763656e9 button.colab-df-convert');\n",
              "        buttonEl.style.display =\n",
              "          google.colab.kernel.accessAllowed ? 'block' : 'none';\n",
              "\n",
              "        async function convertToInteractive(key) {\n",
              "          const element = document.querySelector('#df-33bb9ea1-5d3f-4983-b2cc-1f72763656e9');\n",
              "          const dataTable =\n",
              "            await google.colab.kernel.invokeFunction('convertToInteractive',\n",
              "                                                     [key], {});\n",
              "          if (!dataTable) return;\n",
              "\n",
              "          const docLinkHtml = 'Like what you see? Visit the ' +\n",
              "            '<a target=\"_blank\" href=https://colab.research.google.com/notebooks/data_table.ipynb>data table notebook</a>'\n",
              "            + ' to learn more about interactive tables.';\n",
              "          element.innerHTML = '';\n",
              "          dataTable['output_type'] = 'display_data';\n",
              "          await google.colab.output.renderOutput(dataTable, element);\n",
              "          const docLink = document.createElement('div');\n",
              "          docLink.innerHTML = docLinkHtml;\n",
              "          element.appendChild(docLink);\n",
              "        }\n",
              "      </script>\n",
              "    </div>\n",
              "  </div>\n",
              "  "
            ]
          },
          "metadata": {},
          "execution_count": 6
        }
      ]
    },
    {
      "cell_type": "code",
      "source": [
        "installs = [i for i in data['Installs']]\n",
        "\n",
        "def clean_installs(installs_list):\n",
        "    clean_installs = []\n",
        "    for install in installs_list:\n",
        "        if ',' in install:\n",
        "            install = install.replace(',','')\n",
        "        if '+' in install:\n",
        "            install = install.replace('+','')\n",
        "        if 'Free' in install:\n",
        "            install = install.replace('Free','0')\n",
        "        #install = int(install)\n",
        "        clean_installs.append(install)\n",
        "    return clean_installs\n",
        "\n",
        "\n",
        "data['Installs'] = clean_installs(installs)\n",
        "data['Installs'] = data['Installs'].astype(float)\n",
        "data['Installs']"
      ],
      "metadata": {
        "colab": {
          "base_uri": "https://localhost:8080/"
        },
        "id": "_-rNdAwXNEF7",
        "outputId": "28870022-b25f-423a-fa39-c270fe7f649a"
      },
      "execution_count": 7,
      "outputs": [
        {
          "output_type": "execute_result",
          "data": {
            "text/plain": [
              "0           10000.0\n",
              "1          500000.0\n",
              "2         5000000.0\n",
              "3        50000000.0\n",
              "4          100000.0\n",
              "            ...    \n",
              "10836        5000.0\n",
              "10837         100.0\n",
              "10838        1000.0\n",
              "10839        1000.0\n",
              "10840    10000000.0\n",
              "Name: Installs, Length: 10841, dtype: float64"
            ]
          },
          "metadata": {},
          "execution_count": 7
        }
      ]
    },
    {
      "cell_type": "code",
      "source": [
        "review = [i for i in data['Reviews']]\n",
        "\n",
        "def clean_review(rev_list):\n",
        "  clean = []\n",
        "  for rev in rev_list:\n",
        "    if 'M' in rev:\n",
        "      rev = rev.replace('M','')\n",
        "      clean.append(float(rev))\n",
        "    else:\n",
        "      clean.append(float(rev))\n",
        "  return clean\n",
        "\n",
        "data['Reviews'] = clean_review(review)\n",
        "data['Reviews']"
      ],
      "metadata": {
        "colab": {
          "base_uri": "https://localhost:8080/"
        },
        "id": "Q-i60_NDvvKx",
        "outputId": "6517ea19-bbfb-48c1-acd1-411d5f133e26"
      },
      "execution_count": 8,
      "outputs": [
        {
          "output_type": "execute_result",
          "data": {
            "text/plain": [
              "0           159.0\n",
              "1           967.0\n",
              "2         87510.0\n",
              "3        215644.0\n",
              "4           967.0\n",
              "           ...   \n",
              "10836        38.0\n",
              "10837         4.0\n",
              "10838         3.0\n",
              "10839       114.0\n",
              "10840    398307.0\n",
              "Name: Reviews, Length: 10841, dtype: float64"
            ]
          },
          "metadata": {},
          "execution_count": 8
        }
      ]
    },
    {
      "cell_type": "code",
      "source": [
        "x=[i for i in data['Size']]\n",
        "print(x)\n",
        "x.count('Varies with device')"
      ],
      "metadata": {
        "colab": {
          "base_uri": "https://localhost:8080/"
        },
        "id": "remKy7DJwKO5",
        "outputId": "a2f3dd19-2070-4fd7-848d-733e07a972a0"
      },
      "execution_count": 9,
      "outputs": [
        {
          "output_type": "stream",
          "name": "stdout",
          "text": [
            "['19M', '14M', '8.7M', '25M', '2.8M', '5.6M', '19M', '29M', '33M', '3.1M', '28M', '12M', '20M', '21M', '37M', '2.7M', '5.5M', '17M', '39M', '31M', '14M', '12M', '4.2M', '7.0M', '23M', '6.0M', '25M', '6.1M', '4.6M', '4.2M', '9.2M', '5.2M', '11M', '11M', '4.2M', '9.2M', '24M', 'Varies with device', '11M', '9.4M', '15M', '10M', 'Varies with device', '1.2M', '12M', '24M', '26M', '8.0M', '7.9M', '25M', '56M', '57M', 'Varies with device', '35M', '33M', '33M', '5.6M', '54M', '201k', '3.6M', '5.7M', '17M', '8.6M', '2.4M', '27M', '2.7M', '2.5M', 'Varies with device', 'Varies with device', '7.0M', '35M', '16M', '16M', 'Varies with device', '17M', '3.4M', '8.9M', '3.9M', '2.9M', '38M', '32M', '37M', '15M', '5.4M', '18M', 'Varies with device', '38M', '1.1M', 'Varies with device', 'Varies with device', '7.9M', '35M', 'Varies with device', '17M', '19M', '14M', '2.2M', '4.5M', '17M', '14M', '9.8M', '21M', 'Varies with device', '52M', '14M', '25M', '9.0M', 'Varies with device', '12M', 'Varies with device', '35M', '6.7M', '30M', '5.7M', '2.9M', '17M', '2.9M', 'Varies with device', 'Varies with device', '2.6M', '4.2M', '7.1M', '57M', '3.7M', '22M', '24M', '7.4M', '21M', '3.4M', '2.9M', '3.1M', '6.4M', '3.2M', '8.2M', '9.9M', '2.9M', '23M', '4.6M', '3.1M', 'Varies with device', '4.9M', '9.5M', 'Varies with device', 'Varies with device', 'Varies with device', 'Varies with device', 'Varies with device', '4.2M', '5.4M', 'Varies with device', '2.8M', '5.0M', 'Varies with device', '5.9M', '13M', '7.1M', '6.7M', 'Varies with device', '17M', '19M', '6.7M', '21M', 'Varies with device', '2.7M', '37M', '15M', '23M', '19M', '23M', '73M', '4.9M', '6.8M', 'Varies with device', 'Varies with device', '2.9M', '3.5M', '4.0M', '21M', '2.3M', 'Varies with device', '7.2M', '10M', '6.1M', '2.1M', '42M', '7.3M', '30M', 'Varies with device', 'Varies with device', 'Varies with device', '29M', 'Varies with device', 'Varies with device', 'Varies with device', '35M', '9.1M', '25M', '3.9M', '18M', '12M', '21M', 'Varies with device', 'Varies with device', 'Varies with device', 'Varies with device', '55M', '3.2M', 'Varies with device', 'Varies with device', '23k', '16M', 'Varies with device', '14M', '37M', 'Varies with device', 'Varies with device', '11M', '25M', '7.3M', '6.5M', '25M', '3.1M', 'Varies with device', '1.5M', '7.5M', '8.6M', 'Varies with device', '1.2M', 'Varies with device', 'Varies with device', 'Varies with device', '39M', '14M', '19M', '6.8M', '39M', 'Varies with device', '14M', '20M', 'Varies with device', 'Varies with device', '26M', '51M', '41M', '20M', 'Varies with device', '12M', '48M', '10M', '22M', '11M', '8.5M', '8.6M', 'Varies with device', '28M', '28M', '37M', '9.0M', '46M', 'Varies with device', '14M', 'Varies with device', '26M', '23M', 'Varies with device', 'Varies with device', '14M', '20M', 'Varies with device', 'Varies with device', '26M', '51M', '41M', '20M', 'Varies with device', '12M', '48M', '10M', '22M', '11M', '8.5M', '8.6M', 'Varies with device', '28M', 'Varies with device', 'Varies with device', 'Varies with device', '39M', '14M', '19M', '6.8M', '39M', 'Varies with device', '35M', 'Varies with device', '29M', '41M', 'Varies with device', '4.9M', '27M', '32M', '12M', '15M', '11M', '28M', '2.2M', '3.4M', '8.3M', '4.3M', '4.7M', '10M', '15M', '7.1M', '21M', '6.1M', 'Varies with device', '15M', '11M', '29M', '3.3M', 'Varies with device', '22M', '40M', '10M', '9.1M', '4.7M', '38M', 'Varies with device', '6.7M', '37M', 'Varies with device', '7.8M', '19M', '5.7M', '35M', 'Varies with device', 'Varies with device', '17M', 'Varies with device', 'Varies with device', 'Varies with device', 'Varies with device', 'Varies with device', '8.8M', 'Varies with device', '16M', '11M', '11M', 'Varies with device', '15M', '6.6M', 'Varies with device', '6.6M', 'Varies with device', 'Varies with device', '5.1M', 'Varies with device', '18M', '4.0M', 'Varies with device', 'Varies with device', 'Varies with device', '37M', 'Varies with device', '22M', 'Varies with device', '3.3M', '32M', '37M', 'Varies with device', 'Varies with device', 'Varies with device', 'Varies with device', 'Varies with device', '17M', 'Varies with device', 'Varies with device', '35M', '40M', '61M', '66M', 'Varies with device', 'Varies with device', '11M', '79k', 'Varies with device', 'Varies with device', '25M', '14M', 'Varies with device', 'Varies with device', 'Varies with device', 'Varies with device', 'Varies with device', 'Varies with device', '24M', 'Varies with device', '17M', '8.3M', 'Varies with device', '8.2M', 'Varies with device', 'Varies with device', 'Varies with device', 'Varies with device', '8.4M', 'Varies with device', 'Varies with device', '4.0M', '32M', 'Varies with device', 'Varies with device', 'Varies with device', '6.1M', 'Varies with device', 'Varies with device', '2.8M', 'Varies with device', 'Varies with device', '3.3M', '40M', '2.2M', 'Varies with device', '4.3M', '4.7M', '2.3M', '2.3M', 'Varies with device', '11M', '2.7M', '14M', 'Varies with device', '13M', '3.7M', '10M', '13M', '10M', '13M', '8.8M', '5.5M', '20M', '29M', 'Varies with device', 'Varies with device', '11M', 'Varies with device', '17M', '17M', 'Varies with device', 'Varies with device', '118k', 'Varies with device', '16M', '5.1M', 'Varies with device', '44M', '7.3M', '30M', '695k', 'Varies with device', '1.6M', '19M', 'Varies with device', 'Varies with device', 'Varies with device', '11M', 'Varies with device', 'Varies with device', 'Varies with device', 'Varies with device', '23M', '26M', 'Varies with device', 'Varies with device', 'Varies with device', 'Varies with device', 'Varies with device', '6.2M', '20M', '18k', '1.2M', '17M', 'Varies with device', '15M', 'Varies with device', '56M', '12M', '11M', '29M', 'Varies with device', '40M', 'Varies with device', '53M', '3.1M', '24M', '23M', '5.0M', '44M', '27M', '6.1M', 'Varies with device', '21M', '11M', '21M', '24M', '31M', '27M', '6.2M', 'Varies with device', '12M', '8.0M', '5.9M', '7.9M', '5.0M', '1.4M', '13M', '40M', '13M', '19M', '5.0M', '19M', '27M', '3.0M', '13M', '7.2M', '25M', 'Varies with device', '5.7M', '5.5M', 'Varies with device', '6.5M', '5.8M', 'Varies with device', '3.8M', '41M', '7.9M', '2.8M', '20M', '15M', '28M', '9.6M', '13M', '15M', '40M', '56M', '12M', '9.4M', '29M', '11M', '19M', '23M', 'Varies with device', '27M', 'Varies with device', '19M', '45M', '21M', '40M', '25M', '15M', '24M', 'Varies with device', '11M', '38M', '31M', '6.1M', '27M', '32M', '13M', '63M', '44M', 'Varies with device', '16M', '28M', 'Varies with device', '5.9M', '13M', '9.0M', '20M', '7.9M', '28M', '49M', '27M', '18M', '14M', '27M', '41M', '38M', '5.5M', '27M', '7.2M', '21M', '8.8M', '38M', 'Varies with device', '11M', '6.5M', '26M', '19M', '6.1M', '77M', '9.5M', '14M', '38M', '16M', '3.4M', '4.7M', '5.0M', '4.9M', '4.9M', '16M', '3.9M', '4.4M', '4.8M', '4.5M', '70M', '4.9M', '3.7M', '4.9M', '16M', '4.6M', '3.6M', '21M', '13M', '8.7M', '9.2M', '6.9M', '39M', '8.0M', '3.9M', '14M', '11M', '13M', '9.3M', '5.0M', '10.0M', '5.0M', '5.0M', '3.6M', '19M', '5.0M', '9.8M', '14M', '5.0M', '4.9M', '5.5M', '11M', '3.8M', '5.0M', '8.2M', '21M', '12M', '10M', '3.3M', '25M', '15M', '10M', '4.9M', '4.4M', '3.5M', '7.8M', '9.0M', '15M', '19M', '56M', '38M', '16M', '5.0M', '27M', '4.7M', 'Varies with device', '3.4M', '4.9M', '25M', '29M', '8.1M', '14M', '27M', '3.9M', '13M', '5.0M', '5.5M', '16M', '4.8M', '14M', '4.7M', '3.7M', '4.9M', '3.5M', '4.5M', 'Varies with device', '36M', '4.5M', '19M', '14M', '77M', '21M', '7.9M', '9.3M', 'Varies with device', '18M', '18M', '21M', '3.3M', '24M', '39M', '3.2M', '5.1M', '11M', '27M', '37M', 'Varies with device', '26M', '11M', 'Varies with device', '41M', '49M', '21M', '8.1M', '51M', '14M', '18M', '3.0M', '19M', 'Varies with device', '22M', '6.9M', '7.4M', '84M', '25M', '18M', 'Varies with device', '2.5M', '3.9M', 'Varies with device', '21M', '27M', 'Varies with device', '21M', '18M', 'Varies with device', '18M', 'Varies with device', '10M', 'Varies with device', 'Varies with device', 'Varies with device', 'Varies with device', '97M', '17M', 'Varies with device', 'Varies with device', '2.0M', '1.9M', '1.8M', '1.8M', '17M', '18M', '5.3M', 'Varies with device', '5.4M', '5.4M', '5.4M', '15M', '5.3M', '48M', '5.4M', '47M', '556k', '29M', '2.3M', 'Varies with device', '4.4M', '6.6M', 'Varies with device', '526k', '12M', 'Varies with device', '29M', 'Varies with device', 'Varies with device', 'Varies with device', '21M', '18M', 'Varies with device', 'Varies with device', 'Varies with device', '18M', '17M', '10M', '76M', 'Varies with device', '17M', 'Varies with device', 'Varies with device', '18M', '21M', 'Varies with device', '6.9M', 'Varies with device', '14M', '76M', '11M', '19M', '6.5M', '7.0M', 'Varies with device', '3.3M', '21M', 'Varies with device', '2.6M', '21M', '5.2M', '18M', 'Varies with device', '16M', '15M', '1.2M', 'Varies with device', 'Varies with device', '18M', '1.8M', '7.6M', 'Varies with device', 'Varies with device', '59M', 'Varies with device', '6.9M', '14M', '41M', '19M', '76M', 'Varies with device', '21M', '21M', '21M', 'Varies with device', '21M', 'Varies with device', 'Varies with device', '5.4M', '7.3M', 'Varies with device', '59M', '41M', 'Varies with device', '21M', '76M', '7.6M', 'Varies with device', '13M', '63M', '44M', '24M', '24M', 'Varies with device', '4.5M', 'Varies with device', '11M', 'Varies with device', '4.6M', 'Varies with device', 'Varies with device', '3.3M', '6.5M', 'Varies with device', 'Varies with device', 'Varies with device', '12M', 'Varies with device', '5.6M', '9.7M', '15M', 'Varies with device', '52M', 'Varies with device', 'Varies with device', '4.5M', 'Varies with device', '49M', '18M', '13M', '4.0M', '16M', '17M', 'Varies with device', '24M', 'Varies with device', '12M', 'Varies with device', '78M', 'Varies with device', '25M', '57M', 'Varies with device', '9.1M', '39M', 'Varies with device', '16M', 'Varies with device', '8.5M', '12M', '72M', '12M', 'Varies with device', 'Varies with device', '16M', '9.6M', 'Varies with device', '22M', 'Varies with device', '13M', 'Varies with device', '12M', 'Varies with device', '23M', '20M', '25M', '17M', 'Varies with device', '19M', '21M', '19M', 'Varies with device', 'Varies with device', 'Varies with device', 'Varies with device', '19M', '4.4M', '19M', '12M', 'Varies with device', '11M', 'Varies with device', 'Varies with device', 'Varies with device', '12M', '25M', 'Varies with device', 'Varies with device', '21M', '13M', '17M', '20M', 'Varies with device', '20M', '19M', '17M', '21M', '15M', '19M', '19M', '7.2M', '32M', 'Varies with device', 'Varies with device', '44M', '19M', 'Varies with device', '11M', 'Varies with device', 'Varies with device', 'Varies with device', '25M', 'Varies with device', 'Varies with device', 'Varies with device', 'Varies with device', '16M', 'Varies with device', '20M', 'Varies with device', '21M', '30M', 'Varies with device', 'Varies with device', '57M', '19M', '17M', 'Varies with device', '15M', '19M', '19M', '19M', '44M', '19M', '35M', '44M', 'Varies with device', 'Varies with device', '20M', '19M', '25M', 'Varies with device', '43M', 'Varies with device', 'Varies with device', '3.6M', '7.7M', '44M', '12M', '53M', '77M', 'Varies with device', '9.5M', '36M', '6.3M', '5.9M', 'Varies with device', '12M', '2.8M', '26M', '8.7M', '16M', '53M', 'Varies with device', '14M', '8.9M', '11M', '334k', '24M', '13M', 'Varies with device', '2.8M', '9.7M', '1.4M', 'Varies with device', '3.5M', '61M', '6.0M', '2.3M', '9.0M', '11M', '27M', '3.6M', 'Varies with device', '29M', '4.4M', '21M', '13M', '27M', '11M', '24M', '6.1M', '6.3M', '23M', '34M', '3.8M', 'Varies with device', 'Varies with device', '42M', 'Varies with device', '19M', '70M', '32M', '93M', 'Varies with device', 'Varies with device', 'Varies with device', '40M', '24M', 'Varies with device', '20M', '15M', '28M', '10M', 'Varies with device', 'Varies with device', 'Varies with device', '14M', 'Varies with device', '42M', '65M', '37M', 'Varies with device', '39M', '47M', '79M', '18M', 'Varies with device', '100M', '32M', '46M', 'Varies with device', '9.8M', '8.2M', '18M', 'Varies with device', '39M', '44M', 'Varies with device', '5.0M', '21M', '22M', '23M', 'Varies with device', 'Varies with device', 'Varies with device', '27M', 'Varies with device', '5.0M', '32M', '7.4M', '24M', '22M', 'Varies with device', '10M', '17M', '38M', '46M', '3.8M', '9.3M', '8.4M', '28M', 'Varies with device', '9.7M', '11M', 'Varies with device', '7.4M', '19M', '16M', '14M', '22M', '25M', '3.6M', 'Varies with device', 'Varies with device', '4.5M', 'Varies with device', '23M', 'Varies with device', 'Varies with device', 'Varies with device', '4.2M', 'Varies with device', '58M', 'Varies with device', '22M', 'Varies with device', '1.4M', 'Varies with device', '9.1M', '22M', 'Varies with device', 'Varies with device', 'Varies with device', 'Varies with device', '21M', 'Varies with device', 'Varies with device', '11M', '38M', '12M', '45M', '50M', '24M', '47M', '23M', '46M', '45M', '50M', '24M', '33M', 'Varies with device', '12M', '53M', '14M', '68M', '37M', '79M', '32M', '46M', '40M', '32M', 'Varies with device', '24M', '42M', '12M', '13M', '13M', '4.9M', '8.9M', 'Varies with device', '19M', 'Varies with device', '14M', '64M', '8.4M', '11M', '66M', 'Varies with device', '41M', '15M', '35M', '36M', '17M', '25M', '35M', '10M', 'Varies with device', '12M', 'Varies with device', '11M', 'Varies with device', 'Varies with device', '17M', '43M', '41M', 'Varies with device', '43M', '16M', '39M', '13M', '30M', '7.1M', '23M', '17M', '18M', 'Varies with device', '17M', 'Varies with device', '15M', '22M', 'Varies with device', '9.0M', '7.2M', 'Varies with device', 'Varies with device', '2.3M', '27M', 'Varies with device', '8.2M', '76M', '22M', 'Varies with device', '19M', 'Varies with device', 'Varies with device', '28M', '35M', 'Varies with device', '22M', 'Varies with device', 'Varies with device', 'Varies with device', '25M', '30M', '8.5M', 'Varies with device', '17M', '34M', '34M', 'Varies with device', '17M', '16M', 'Varies with device', '15M', '2.2M', '11M', '6.9M', '13M', '11M', '2.9M', '25M', '7.0M', '27M', '7.5M', 'Varies with device', '15M', '9.4M', '6.4M', '5.5M', '3.9M', '55M', '28M', 'Varies with device', '8.8M', 'Varies with device', '4.0M', '6.9M', '11M', 'Varies with device', '5.5M', 'Varies with device', '15M', '4.3M', 'Varies with device', '7.1M', '58M', 'Varies with device', 'Varies with device', '18M', 'Varies with device', '1.5M', '6.5M', '11M', '67M', 'Varies with device', '57M', '59M', '48M', '57M', '13M', 'Varies with device', 'Varies with device', 'Varies with device', '31M', '10M', '57M', 'Varies with device', '21M', '25M', '93M', '60M', '27M', '54M', 'Varies with device', 'Varies with device', '59M', 'Varies with device', '78M', '55M', 'Varies with device', 'Varies with device', '67M', 'Varies with device', '35M', 'Varies with device', '43M', '39M', '4.2M', '44M', '45M', 'Varies with device', '28M', '29M', '12M', '15M', '31M', 'Varies with device', 'Varies with device', 'Varies with device', 'Varies with device', '20M', '39M', '94M', '35M', 'Varies with device', 'Varies with device', '41M', '49M', '22M', 'Varies with device', '23M', '28M', '7.2M', '6.5M', 'Varies with device', '24M', 'Varies with device', 'Varies with device', '20M', 'Varies with device', '15M', 'Varies with device', '55M', 'Varies with device', '38M', '32M', 'Varies with device', 'Varies with device', '40M', '59M', 'Varies with device', 'Varies with device', 'Varies with device', '23M', '6.1M', 'Varies with device', '58M', '55M', 'Varies with device', 'Varies with device', '57M', '93M', '60M', 'Varies with device', 'Varies with device', 'Varies with device', 'Varies with device', 'Varies with device', 'Varies with device', '19M', '3.8M', '18M', '57M', '5.5M', 'Varies with device', '5.7M', '51M', '9.4M', '3.3M', 'Varies with device', '4.0M', 'Varies with device', 'Varies with device', '19M', '3.8M', '4.3M', '18M', '5.7M', 'Varies with device', '3.6M', '5.5M', '57M', '51M', '58M', 'Varies with device', '9.4M', '3.3M', '4.0M', 'Varies with device', 'Varies with device', '9.9M', '43M', '37M', 'Varies with device', 'Varies with device', '40M', '73M', '28M', 'Varies with device', '23M', '10M', '15M', '8.4M', '31M', 'Varies with device', 'Varies with device', 'Varies with device', '41M', 'Varies with device', 'Varies with device', '20M', '39M', '35M', '34M', '7.5M', 'Varies with device', '12M', '7.7M', '21M', '18M', '40M', 'Varies with device', '8.7M', 'Varies with device', '8.6M', 'Varies with device', '18M', '7.5M', '9.1M', '13M', 'Varies with device', '15M', 'Varies with device', '19M', 'Varies with device', 'Varies with device', '5.1M', '26M', '8.3M', '27M', '7.9M', 'Varies with device', '27M', '5.1M', '15M', '3.1M', '16M', '9.2M', 'Varies with device', 'Varies with device', '10M', '2.6M', '13M', '1.9M', '7.0M', '15M', '4.2M', '7.8M', '77M', '5.7M', '5.9M', '7.6M', '5.8M', 'Varies with device', '5.8M', '5.3M', '5.5M', '25M', '35M', '7.9M', '19M', '7.5M', '12M', 'Varies with device', '34M', '30M', 'Varies with device', 'Varies with device', '16M', 'Varies with device', '16M', 'Varies with device', '15M', '21M', '1.8M', '4.3M', '10M', '3.7M', '232k', '99M', '624k', '6.9M', '7.0M', '7.0M', '6.4M', 'Varies with device', '16M', '5.9M', '95M', '8.5k', '20M', '2.5M', '50M', '10M', '18M', '12M', '2.5M', '2.1M', '22M', '41k', '22M', '292k', '5.5M', 'Varies with device', '2.5M', '8.1M', '28M', '24M', '3.1M', '3.4M', '11k', '13M', '19M', '9.5M', '21M', '9.4M', '2.4M', '36M', '55M', '32M', '34M', '5.1M', '100M', '80M', '3.3M', '28M', '5.0M', '11M', '55M', '7.1M', '3.2M', '4.4M', '16M', '6.3M', '45M', '23M', '37M', '13M', '8.1M', '13M', '14M', '30M', '36M', '3.0M', '1.4M', '39M', '1.8M', '1.7M', '19M', '15M', '10.0M', '2.7M', '16M', '21M', '20M', '14M', '76M', '18M', '12M', '6.2M', 'Varies with device', '6.8M', 'Varies with device', '24M', '19M', '13M', '15M', '13M', 'Varies with device', 'Varies with device', '44M', 'Varies with device', '9.7M', '24M', '13M', '4.5M', '4.5M', '29M', '12M', '12M', 'Varies with device', '4.6M', '10M', '6.8M', '33M', '12M', 'Varies with device', '4.6M', '10M', '6.8M', '33M', '13M', '15M', '23M', '7.7M', 'Varies with device', '15M', '25M', 'Varies with device', '3.0M', '22M', 'Varies with device', 'Varies with device', '7.5M', '24M', 'Varies with device', '44M', 'Varies with device', 'Varies with device', '14M', '67M', '76M', '74M', '23M', '46M', '24M', 'Varies with device', '97M', '62M', '24M', '33M', '7.8M', '46M', '69M', '75M', '67M', '50M', '98M', 'Varies with device', '4.9M', '37M', '18M', '52M', 'Varies with device', '78M', '3.9M', '59M', '97M', '11M', '38M', 'Varies with device', 'Varies with device', 'Varies with device', 'Varies with device', '85M', '78M', '63M', 'Varies with device', '24M', '69M', '75M', 'Varies with device', '70M', '63M', '99M', '49M', 'Varies with device', '76M', '67M', '24M', '52M', '98M', '74M', '69M', '82M', 'Varies with device', '96M', '99M', '46M', 'Varies with device', '99M', '87M', '3.9M', '67M', 'Varies with device', '53M', '7.8M', 'Varies with device', '97M', 'Varies with device', 'Varies with device', '59M', 'Varies with device', '46M', '75M', '50M', '62M', 'Varies with device', '23M', '72M', '70M', '18M', 'Varies with device', '35M', '78M', '25M', '74M', '97M', '17M', '53M', 'Varies with device', '11M', '60M', '57M', '14M', '67M', '33M', '76M', '74M', 'Varies with device', '40M', '59M', '52M', 'Varies with device', 'Varies with device', '100M', '62M', 'Varies with device', 'Varies with device', 'Varies with device', 'Varies with device', '85M', '87M', '33M', '32M', '40M', '29M', '40M', '24M', '38M', '52M', 'Varies with device', '54M', '71M', '73M', '57M', '38M', '62M', '95M', '16M', '39M', '78M', '36M', 'Varies with device', '31M', 'Varies with device', '98M', '24M', '85M', '33M', '100M', '36M', '86M', '80M', '87M', '79M', '30M', '87M', '91M', '63M', 'Varies with device', 'Varies with device', '95M', '48M', 'Varies with device', 'Varies with device', '93M', '53M', '82M', '99M', '49M', '25M', 'Varies with device', '91M', '52M', '56M', '56M', '85M', '81M', '82M', '98M', '77M', '99M', 'Varies with device', '96M', '96M', '82M', '70M', '63M', '35M', '48M', '84M', '15M', '69M', '46M', '15M', '33M', '48M', '67M', '74M', '57M', '52M', '25M', 'Varies with device', '36M', '31M', '91M', 'Varies with device', '92M', '70M', '93M', '52M', '91M', '37M', '64M', '35M', '97M', '93M', '28M', '83M', '99M', '55M', '82M', '14M', '81M', 'Varies with device', '74M', '67M', '52M', '76M', '67M', '50M', '46M', 'Varies with device', 'Varies with device', '97M', '98M', '70M', '69M', '3.9M', '7.8M', '18M', '24M', '62M', '11M', 'Varies with device', '87M', '99M', 'Varies with device', '82M', '94M', 'Varies with device', 'Varies with device', 'Varies with device', '96M', '75M', 'Varies with device', '14M', '59M', '74M', '29M', '17M', '97M', '78M', 'Varies with device', 'Varies with device', '63M', 'Varies with device', '25M', '29M', '72M', 'Varies with device', '53M', 'Varies with device', '76M', '33M', '60M', '62M', 'Varies with device', 'Varies with device', '78M', '75M', 'Varies with device', '70M', '99M', '99M', 'Varies with device', '27M', '70M', '88M', '63M', '82M', '48M', 'Varies with device', '31M', '23M', 'Varies with device', '59M', '39M', '54M', '48M', 'Varies with device', '30M', '66M', '32M', '50M', '53M', '61M', '49M', '38M', '20M', 'Varies with device', 'Varies with device', '66M', '57M', '95M', 'Varies with device', 'Varies with device', '32M', '33M', '66M', '75M', '29M', '74M', '69M', '7.8M', '33M', '52M', '50M', '46M', '12M', '41M', '63M', '53M', '63M', '99M', 'Varies with device', '20M', '11M', '75M', '13M', '46M', '78M', '49M', '14M', '100M', 'Varies with device', '97M', 'Varies with device', 'Varies with device', '15M', '33M', 'Varies with device', '70M', '10M', '77M', 'Varies with device', 'Varies with device', '4.9M', 'Varies with device', '25M', '96M', '23M', '51M', '96M', 'Varies with device', 'Varies with device', 'Varies with device', '70M', '38M', '24M', 'Varies with device', '20M', '67M', '19M', '51M', '22M', '46M', '21M', '39M', '23M', '26M', '39M', '24M', '15M', '20M', '24M', '44M', '38M', '52M', '14M', '49M', '8.9M', 'Varies with device', '56M', '99M', '10M', '6.9M', '20M', '10M', '19M', '33M', '85M', '48M', '9.6M', 'Varies with device', '15M', 'Varies with device', '50M', '51M', '24M', '13M', '16M', 'Varies with device', 'Varies with device', '63M', '15M', '26M', '81M', '79M', 'Varies with device', '94M', '46M', '43M', '45M', '91M', '91M', '53M', '28M', '26M', '56M', '80M', '60M', 'Varies with device', '67M', '78M', '27M', 'Varies with device', '63M', '26M', '46M', '83M', '60M', '44M', '82M', '67M', '99M', 'Varies with device', '24M', '78M', 'Varies with device', 'Varies with device', '51M', '94M', '16M', '93M', '77M', '32M', '58M', '48M', '69M', '73M', '99M', '16M', '54M', '56M', '68M', '25M', '7.0M', '54M', '51M', 'Varies with device', '48M', '44M', '8.7M', '91M', '97M', '26M', '16M', 'Varies with device', '53M', '95M', '83M', '78M', '56M', '21M', '26M', '60M', '22M', '95M', '48M', '58M', '91M', '22M', '36M', '37M', '70M', '34M', '49M', '9.8M', '37M', 'Varies with device', '55M', '84M', '16M', '92M', '57M', 'Varies with device', '24M', '6.9M', '44M', '11M', '16M', '17M', '18M', '16M', '19M', '1.6M', '47M', '16M', '14M', 'Varies with device', '75M', '25M', '5.7M', 'Varies with device', '17M', '3.5M', '16M', '42M', '47M', '67M', '26M', '72M', '37M', '1.2M', '17M', '19M', '23M', '25M', '83M', '94M', '97M', '37M', '92M', '48M', '12M', '15M', '83M', '9.5M', '19M', '23M', '25M', '83M', '94M', '97M', '37M', '92M', '48M', '12M', '15M', '83M', '9.5M', '67M', 'Varies with device', 'Varies with device', 'Varies with device', '63M', '49M', '14M', '58M', '22M', '15M', 'Varies with device', '50M', '59M', '34M', 'Varies with device', '54M', '53M', 'Varies with device', 'Varies with device', '37M', '25M', '26M', '61M', '58M', '91M', '17M', '83M', '17M', 'Varies with device', '64M', '41M', '58M', '23M', '71M', 'Varies with device', 'Varies with device', '23M', '12M', '704k', '2.9M', '25M', 'Varies with device', '20M', '21M', '5.4M', '25M', '42M', '32M', '1.8M', '33M', '3.8M', '5.8M', '9.5M', '19M', 'Varies with device', '5.0M', '23M', '862k', '9.9M', '24M', '2.4M', '899k', '38M', '6.5M', '14M', '1.2M', '48M', '378k', '22M', '4.8M', 'Varies with device', '25M', '266k', '375k', '62M', '1.2M', 'Varies with device', '2.8M', '95M', '2.6M', '4.6M', 'Varies with device', '5.1M', '1.8M', 'Varies with device', 'Varies with device', '53M', '39M', '5.3M', '14M', '8.4M', '18M', '41M', '100M', '3.4M', '68M', '2.6M', '11M', 'Varies with device', '37M', 'Varies with device', '9.8M', '23M', '18M', '7.4M', '11M', 'Varies with device', '23M', '34M', '15M', '13M', '24M', '20M', '14M', '69M', '38M', '26M', '2.6M', '21M', '38M', '16M', '21M', '10M', '22M', '14M', '36M', '16M', '61M', '11M', '8.5M', '37M', 'Varies with device', 'Varies with device', '22M', '17M', '7.7M', '39M', '30M', '3.7M', '28M', '16M', '20M', '8.9M', '97M', '12M', '72M', 'Varies with device', '21M', 'Varies with device', '27M', '5.7M', '6.6M', '12M', '5.9M', '20M', '15M', '26M', '3.3M', '44M', '32M', '12M', '36M', '17M', '5.8M', '11M', '16M', '25M', '6.1M', 'Varies with device', '22M', '28M', '6.3M', '25M', '60M', '20M', '8.0M', '20M', '6.4M', '34M', '3.8M', '42M', '2.4M', '70M', '5.0M', '28M', '21M', '38M', 'Varies with device', '74M', '1.8M', '12M', '13M', 'Varies with device', '2.9M', '48M', '19M', '68M', '6.8M', '12M', '5.8M', '41M', '25M', '42M', '6.5M', '13M', '1.5M', '3.2M', '7.7M', '1.3M', '26M', '5.4M', '11M', '9.5M', '62M', '18M', 'Varies with device', '3.1M', '1.8M', '66M', '5.0M', '2.9M', '22M', '16M', '19M', '40M', '23M', '15M', '29M', '16M', '65M', '29M', '20M', '3.8M', '19M', '25M', '5.1M', '16M', '1.5M', '10.0M', '22M', '3.6M', '20M', '20M', '13M', '2.5M', '3.6M', '24M', '10M', '25M', '29M', '17M', '53M', '83M', '4.6M', '4.6M', '28M', '29M', '46M', '5.7M', '1.4M', '12M', '2.2M', '27M', '18M', '30M', '3.5M', '4.2M', '6.9M', '6.6M', '7.0M', '11M', '5.6M', '29M', '3.3M', '20M', '7.0M', '3.3M', '29M', '7.1M', 'Varies with device', '23M', '24M', '14M', '13M', '34M', '4.3M', '43M', '69M', '22M', '20M', '25M', '2.0M', '40M', '37M', '40M', '4.3M', '5.7M', '4.0M', '17M', '11M', '4.4M', '15M', '2.3M', '40M', '8.4M', '11M', '2.9M', '2.4M', '15M', '24M', '29M', '24M', '22M', '86M', 'Varies with device', '22M', '11M', '975k', '980k', '6.0M', '20M', '26M', '13M', '23M', '2.7M', '4.2M', '28M', '6.1M', '15M', '1.2M', '37M', '5.9M', '14M', '2.3M', '32M', '2.7M', '2.2M', '26M', 'Varies with device', 'Varies with device', 'Varies with device', '4.0M', 'Varies with device', '1.5M', 'Varies with device', '3.7M', 'Varies with device', 'Varies with device', 'Varies with device', '2.8M', '3.9M', '3.1M', 'Varies with device', '2.8M', '20M', '9.9M', '5.3M', '10M', '2.6M', 'Varies with device', '31M', '2.3M', '6.0M', '17M', '20M', '62M', 'Varies with device', '15M', 'Varies with device', '18M', '5.4M', '2.8M', '15M', 'Varies with device', '5.3M', 'Varies with device', 'Varies with device', '37M', 'Varies with device', '23M', 'Varies with device', 'Varies with device', 'Varies with device', 'Varies with device', '28M', '35M', 'Varies with device', '76M', 'Varies with device', '34M', 'Varies with device', 'Varies with device', 'Varies with device', 'Varies with device', '2.7M', 'Varies with device', '4.1M', 'Varies with device', 'Varies with device', 'Varies with device', 'Varies with device', '85M', '15M', '89M', 'Varies with device', 'Varies with device', 'Varies with device', '20M', 'Varies with device', '9.3M', 'Varies with device', '76M', '34M', '16M', 'Varies with device', 'Varies with device', 'Varies with device', 'Varies with device', 'Varies with device', 'Varies with device', '8.4M', 'Varies with device', '20M', 'Varies with device', '76M', '68M', '13M', '50M', '23M', 'Varies with device', 'Varies with device', '28M', 'Varies with device', 'Varies with device', '7.0M', '23M', 'Varies with device', '76M', 'Varies with device', '68M', 'Varies with device', 'Varies with device', '13M', '56M', 'Varies with device', 'Varies with device', '8.4M', '23M', '22M', '15M', 'Varies with device', '30M', '30M', '27M', 'Varies with device', 'Varies with device', 'Varies with device', '20M', '42M', 'Varies with device', '18M', '4.2M', 'Varies with device', '30M', '33M', '7.9M', '12M', '15M', 'Varies with device', '10M', '9.9M', '9.0M', 'Varies with device', '21M', '13M', '11M', '21M', '8.1M', 'Varies with device', 'Varies with device', '12M', '7.3M', 'Varies with device', '15M', '22M', '11M', '8.3M', 'Varies with device', '20M', '38M', '9.1M', '24M', 'Varies with device', 'Varies with device', '29M', 'Varies with device', '98M', '25M', 'Varies with device', '18M', 'Varies with device', '6.1M', '14M', '21M', 'Varies with device', '43M', '15M', '23M', '52M', 'Varies with device', 'Varies with device', '57M', '20M', '40M', '17M', '13M', '33M', '18M', 'Varies with device', 'Varies with device', 'Varies with device', 'Varies with device', '29M', 'Varies with device', '31M', 'Varies with device', 'Varies with device', 'Varies with device', '20M', '13M', '7.3M', 'Varies with device', 'Varies with device', 'Varies with device', '12M', '8.8M', '18M', '14M', '21M', '43M', '34M', 'Varies with device', 'Varies with device', '15M', 'Varies with device', '26M', 'Varies with device', '34M', '2.7M', '52M', 'Varies with device', '29M', 'Varies with device', 'Varies with device', '20M', '23M', 'Varies with device', '42M', '16M', '12M', '6.5M', 'Varies with device', '15M', '17M', '24M', '22M', 'Varies with device', '15M', 'Varies with device', '18M', '8.8M', '14M', '2.7M', '29M', '20M', '6.5M', '15M', 'Varies with device', 'Varies with device', '6.2M', '19M', '27M', '1.1M', '2.7M', 'Varies with device', '16M', '8.8M', '12M', '24M', '56M', '15M', '18M', 'Varies with device', '14M', '22M', '28M', '59M', '37M', '36M', '9.5M', '82M', '28M', 'Varies with device', 'Varies with device', '9.7M', '22M', '17M', 'Varies with device', 'Varies with device', '7.7M', 'Varies with device', '11M', '21M', '19M', 'Varies with device', '8.7M', '30M', '25M', '17M', 'Varies with device', '13M', '23M', 'Varies with device', 'Varies with device', '22M', '9.1M', '8.3M', 'Varies with device', '19M', '53M', 'Varies with device', '17M', '10M', 'Varies with device', '29M', '46M', '4.5M', '4.9M', 'Varies with device', '24M', '23M', '25M', '26M', 'Varies with device', '2.0M', '19M', '9.6M', 'Varies with device', '13M', '4.2M', '16M', '59M', 'Varies with device', 'Varies with device', '9.5M', 'Varies with device', '53M', '6.6M', 'Varies with device', 'Varies with device', '27M', 'Varies with device', '22M', 'Varies with device', '50M', '30M', 'Varies with device', '17M', '18M', '10.0M', '9.9M', '23M', '51M', '35M', '16M', '11M', '74M', '48M', 'Varies with device', '13M', '4.2M', '16M', '59M', 'Varies with device', '5.6M', '1.5M', '5.7M', '6.1M', '1.9M', '4.0M', '47M', 'Varies with device', '2.0M', '9.5M', 'Varies with device', '22M', '14M', '10M', 'Varies with device', 'Varies with device', '6.9M', '44M', 'Varies with device', 'Varies with device', 'Varies with device', '51M', '48M', 'Varies with device', '43M', '21M', 'Varies with device', '25M', '3.9M', '4.0M', '51M', 'Varies with device', 'Varies with device', '9.6M', 'Varies with device', '9.5M', 'Varies with device', '50M', 'Varies with device', 'Varies with device', '21M', 'Varies with device', '31M', '27M', 'Varies with device', 'Varies with device', 'Varies with device', '53M', '34M', 'Varies with device', '12M', '50M', '47M', 'Varies with device', 'Varies with device', 'Varies with device', '9.2M', 'Varies with device', 'Varies with device', '51M', '48M', '24M', '1.6M', '17M', '31M', '59M', '46M', '53M', '45M', 'Varies with device', '9.8M', 'Varies with device', 'Varies with device', 'Varies with device', '34M', '20M', '19M', '6.0M', 'Varies with device', '15M', '6.5M', '6.2M', 'Varies with device', 'Varies with device', 'Varies with device', 'Varies with device', 'Varies with device', 'Varies with device', '14M', 'Varies with device', 'Varies with device', '6.1M', '17M', '24M', 'Varies with device', '13M', '10M', '10M', '6.9M', '31M', 'Varies with device', 'Varies with device', '28M', '2.6M', '30M', '13M', '27M', '29M', '18M', '35M', '17M', 'Varies with device', '18M', 'Varies with device', '3.0M', '32M', '24M', 'Varies with device', 'Varies with device', 'Varies with device', 'Varies with device', 'Varies with device', 'Varies with device', '10M', '34M', 'Varies with device', '6.6M', '27M', 'Varies with device', 'Varies with device', 'Varies with device', '25M', '6.6M', '24M', 'Varies with device', '25M', '33M', '88M', '9.3M', 'Varies with device', 'Varies with device', '84M', '4.7M', '25M', '12M', 'Varies with device', '9.9M', 'Varies with device', '61M', '25M', '52M', '57M', 'Varies with device', '41M', '4.6M', '10M', '23M', '27M', 'Varies with device', '33M', 'Varies with device', '4.7M', '2.2M', 'Varies with device', '95M', '34M', 'Varies with device', '9.4M', '19M', '3.9M', 'Varies with device', 'Varies with device', 'Varies with device', '34M', 'Varies with device', '21M', '19M', '6.6M', '82M', 'Varies with device', 'Varies with device', 'Varies with device', 'Varies with device', '19M', 'Varies with device', '26M', '5.2M', '16M', 'Varies with device', '33M', 'Varies with device', 'Varies with device', '6.0M', '25M', 'Varies with device', '34M', '8.1M', '35M', '25M', 'Varies with device', 'Varies with device', '19M', '48M', '21M', '6.6M', '32M', 'Varies with device', '82M', '23M', '52M', 'Varies with device', 'Varies with device', '14M', 'Varies with device', 'Varies with device', '25M', 'Varies with device', '58M', '19M', '29M', '81M', 'Varies with device', 'Varies with device', '28M', 'Varies with device', 'Varies with device', 'Varies with device', 'Varies with device', 'Varies with device', '7.6M', '33M', 'Varies with device', '42M', '8.3M', '14M', 'Varies with device', 'Varies with device', 'Varies with device', '37M', '14M', 'Varies with device', '21M', '28M', '27M', 'Varies with device', '39M', 'Varies with device', '17M', 'Varies with device', '39M', '51M', '86M', 'Varies with device', 'Varies with device', 'Varies with device', '26M', 'Varies with device', '46M', '29M', '27M', '14M', 'Varies with device', '10M', '71M', '15M', 'Varies with device', 'Varies with device', '11M', 'Varies with device', '62M', '80M', '5.4M', '9.8M', 'Varies with device', 'Varies with device', 'Varies with device', '7.6M', '26M', '13M', 'Varies with device', 'Varies with device', '62M', '10.0M', '15M', '80M', '14M', 'Varies with device', '57M', '51M', '8.3M', '24M', 'Varies with device', '29M', 'Varies with device', '3.1M', '46M', '55M', '19M', 'Varies with device', '19M', '40M', 'Varies with device', '29M', '43M', '50M', 'Varies with device', '13M', 'Varies with device', 'Varies with device', 'Varies with device', '15M', '4.0M', 'Varies with device', '14M', 'Varies with device', '19M', 'Varies with device', '29M', '44M', '22M', 'Varies with device', 'Varies with device', 'Varies with device', '28M', 'Varies with device', 'Varies with device', '12M', 'Varies with device', '46M', '7.6M', 'Varies with device', '29M', 'Varies with device', 'Varies with device', '4.1M', '8.5M', '31M', '4.1M', 'Varies with device', '22M', 'Varies with device', '28M', 'Varies with device', '5.9M', 'Varies with device', 'Varies with device', 'Varies with device', '3.9M', 'Varies with device', '15M', '4.3M', 'Varies with device', 'Varies with device', 'Varies with device', 'Varies with device', '5.3M', 'Varies with device', '16M', '7.5M', 'Varies with device', 'Varies with device', 'Varies with device', '3.7M', 'Varies with device', '5.8M', '17M', 'Varies with device', '8.5M', 'Varies with device', '9.1M', '7.6M', '2.5M', '15M', 'Varies with device', 'Varies with device', 'Varies with device', 'Varies with device', '6.1M', 'Varies with device', '17M', 'Varies with device', 'Varies with device', 'Varies with device', 'Varies with device', '58M', '4.6M', '16M', '1.3M', '2.3M', '1.9M', '2.7M', '16M', '11M', '5.3M', 'Varies with device', '4.2M', 'Varies with device', '9.1M', '4.3M', 'Varies with device', 'Varies with device', 'Varies with device', 'Varies with device', '1.8M', 'Varies with device', '8.5M', '4.4M', 'Varies with device', '3.8M', '11M', 'Varies with device', '11M', 'Varies with device', '7.4M', '5.3M', '5.4M', '3.6M', 'Varies with device', '4.3M', 'Varies with device', '27M', 'Varies with device', '1.8M', '3.3M', '2.0M', '6.1M', '9.6M', '9.6M', '10M', '8.2M', '14M', '25M', '9.9M', '22M', 'Varies with device', '8.9M', 'Varies with device', '2.4M', '25M', 'Varies with device', 'Varies with device', '1.8M', '17M', 'Varies with device', '4.1M', '18M', '14M', 'Varies with device', 'Varies with device', 'Varies with device', '696k', '4.7M', '8.1M', 'Varies with device', '7.9M', '4.6M', '544k', '3.5M', 'Varies with device', 'Varies with device', '525k', '2.1M', 'Varies with device', '14M', 'Varies with device', '8.7M', '21M', 'Varies with device', '12M', '18M', '17M', '3.8M', 'Varies with device', '23M', '14M', '15M', '9.9M', '12M', '12M', '20M', '7.4M', '3.0M', 'Varies with device', '14M', '14M', '7.2M', '22M', '7.2M', 'Varies with device', '26M', '38M', '3.9M', 'Varies with device', '5.4M', '9.8M', '7.6M', '1.1M', '9.1M', '6.8M', '12M', '3.3M', '12M', '9.8M', '920k', '14M', '6.8M', '27M', '7.4M', 'Varies with device', '29M', 'Varies with device', 'Varies with device', '5.9M', '14M', '14M', '26M', '1.9M', '3.9M', '779k', 'Varies with device', 'Varies with device', '5.1M', '10M', '13M', '4.0M', '5.4M', '3.3M', '4.3M', '853k', '21M', '6.4M', '8.6M', '2.1M', '7.1M', 'Varies with device', 'Varies with device', '3.3M', '3.5M', '4.1M', '9.7M', '3.3M', '7.1M', '8.4M', '7.0M', '5.5M', 'Varies with device', 'Varies with device', 'Varies with device', '13M', 'Varies with device', 'Varies with device', '5.9M', 'Varies with device', '24M', '6.2M', 'Varies with device', 'Varies with device', '6.9M', 'Varies with device', '6.1M', 'Varies with device', 'Varies with device', 'Varies with device', '24M', 'Varies with device', '4.1M', 'Varies with device', '50M', 'Varies with device', 'Varies with device', '11M', '5.1M', '1.3M', 'Varies with device', 'Varies with device', 'Varies with device', 'Varies with device', 'Varies with device', '2.3M', '16M', 'Varies with device', 'Varies with device', '15M', '61M', '1.6M', 'Varies with device', 'Varies with device', 'Varies with device', 'Varies with device', '49M', 'Varies with device', '7.2M', 'Varies with device', 'Varies with device', '1.5M', 'Varies with device', 'Varies with device', '49M', '14M', 'Varies with device', 'Varies with device', 'Varies with device', 'Varies with device', 'Varies with device', '1.2M', 'Varies with device', '10.0M', '4.3M', '3.8M', 'Varies with device', '32M', '4.5M', 'Varies with device', '8.4M', '12M', '25M', 'Varies with device', 'Varies with device', 'Varies with device', '12M', 'Varies with device', '7.1M', 'Varies with device', 'Varies with device', '16M', '6.5M', '9.2M', '720k', '2.2M', 'Varies with device', 'Varies with device', '4.1M', 'Varies with device', 'Varies with device', 'Varies with device', 'Varies with device', 'Varies with device', 'Varies with device', 'Varies with device', '60M', 'Varies with device', '37M', 'Varies with device', 'Varies with device', 'Varies with device', 'Varies with device', 'Varies with device', '713k', '4.7M', '6.6M', '2.5M', '19M', 'Varies with device', '4.2M', '11M', 'Varies with device', 'Varies with device', 'Varies with device', 'Varies with device', '12M', 'Varies with device', 'Varies with device', '5.7M', '9.0M', 'Varies with device', '6.9M', '8.4M', '1.9M', 'Varies with device', 'Varies with device', 'Varies with device', '15M', 'Varies with device', 'Varies with device', 'Varies with device', 'Varies with device', 'Varies with device', 'Varies with device', '11M', '61M', '4.1M', '3.8M', 'Varies with device', '3.8M', 'Varies with device', '2.8M', 'Varies with device', '8.2M', '3.3M', '6.2M', '85M', '14M', '95M', '5.5M', '42M', '15M', '98M', '6.4M', '2.8M', '6.5M', '3.6M', '2.4M', '3.4M', '1.5M', '5.0M', '6.6M', 'Varies with device', 'Varies with device', 'Varies with device', '59M', '6.8M', '24M', '6.6M', '4.9M', '9.1M', '11M', '5.8M', '24M', '4.4M', '16M', '11M', '4.9M', '11M', '53M', '20M', '38M', '4.9M', '17M', '37M', '5.2M', '28M', '71M', '46M', '16M', '18M', '18M', 'Varies with device', '10M', 'Varies with device', '17M', 'Varies with device', '9.7M', 'Varies with device', 'Varies with device', '21M', '3.2M', '15M', '44M', '4.8M', 'Varies with device', '10M', '54M', '9.1M', '19M', '12M', 'Varies with device', 'Varies with device', 'Varies with device', '19M', 'Varies with device', '7.6M', 'Varies with device', '38M', 'Varies with device', 'Varies with device', '6.1M', '9.2M', 'Varies with device', '11M', '9.2M', '20M', '22M', 'Varies with device', 'Varies with device', '5.3M', 'Varies with device', '5.6M', '5.4M', '2.9M', '25M', 'Varies with device', 'Varies with device', '23M', '7.2M', '3.3M', 'Varies with device', 'Varies with device', '17M', '6.0M', '33M', '3.1M', '4.1M', '27M', '44M', 'Varies with device', '13M', 'Varies with device', 'Varies with device', '3.0M', 'Varies with device', 'Varies with device', '6.1M', '64M', '47M', 'Varies with device', '5.4M', 'Varies with device', 'Varies with device', 'Varies with device', '27M', 'Varies with device', '50M', 'Varies with device', 'Varies with device', '4.0M', '13M', 'Varies with device', 'Varies with device', '44M', '2.5M', '23M', 'Varies with device', '23M', '14M', '89M', 'Varies with device', 'Varies with device', '16M', '26M', 'Varies with device', '11M', 'Varies with device', 'Varies with device', '56M', '25M', 'Varies with device', '17M', '9.1M', '11M', 'Varies with device', '15M', '9.7M', '5.5M', '6.7M', 'Varies with device', '2.9M', '13M', '8.5M', '25M', 'Varies with device', '12M', '6.3M', '6.3M', 'Varies with device', '19M', '31M', 'Varies with device', '9.0M', '25M', '4.6M', '8.0M', '23M', '9.8M', '8.7M', 'Varies with device', 'Varies with device', '12M', 'Varies with device', '10M', 'Varies with device', '19M', '6.6M', 'Varies with device', '14M', '8.6M', '13M', '13M', 'Varies with device', 'Varies with device', '10M', 'Varies with device', 'Varies with device', 'Varies with device', '7.5M', '36M', '8.2M', '22M', '23M', 'Varies with device', 'Varies with device', 'Varies with device', '14M', 'Varies with device', '25M', '27M', 'Varies with device', 'Varies with device', '35M', 'Varies with device', '8.6M', 'Varies with device', '4.6M', '25M', '12M', '18M', 'Varies with device', 'Varies with device', '3.1M', 'Varies with device', '14M', 'Varies with device', 'Varies with device', 'Varies with device', '23M', 'Varies with device', '8.8M', '35M', 'Varies with device', 'Varies with device', '36M', 'Varies with device', '25M', '12M', 'Varies with device', '23M', 'Varies with device', '13M', 'Varies with device', '13M', 'Varies with device', 'Varies with device', 'Varies with device', 'Varies with device', '22M', 'Varies with device', 'Varies with device', '43M', 'Varies with device', '33M', '32M', 'Varies with device', '6.8M', '4.0M', 'Varies with device', '3.7M', 'Varies with device', '3.4M', 'Varies with device', 'Varies with device', 'Varies with device', '48M', '7.7M', '60M', '60M', '5.6M', 'Varies with device', '5.2M', '25M', '3.3M', '29M', '49M', '3.6M', '48M', 'Varies with device', '5.4M', '18M', '3.2M', '11M', '8.5M', '24M', '26M', '14M', 'Varies with device', 'Varies with device', '78M', 'Varies with device', 'Varies with device', '7.0M', '9.2M', 'Varies with device', 'Varies with device', '4.9M', '6.5M', '11M', '96M', '2.9M', '24M', '55M', '74M', '24M', '32M', '15M', '6.3M', '97M', '74M', 'Varies with device', '14M', '14M', 'Varies with device', 'Varies with device', '5.7M', '19M', 'Varies with device', 'Varies with device', '50M', 'Varies with device', '76M', '70M', '29M', '16M', 'Varies with device', '13M', '73M', '17M', 'Varies with device', 'Varies with device', 'Varies with device', 'Varies with device', '85M', 'Varies with device', '99M', 'Varies with device', '92M', '37M', '45M', 'Varies with device', '57M', '26M', '47M', '22M', '56M', '50M', '42M', '34M', 'Varies with device', '70M', '17M', '4.1M', 'Varies with device', '11M', '11M', '94M', '24M', '56M', 'Varies with device', '66M', '63M', '91M', '17M', '21M', 'Varies with device', 'Varies with device', '81M', 'Varies with device', '3.0M', '59M', 'Varies with device', '83M', '19M', '23M', '32M', '39M', '57M', '52M', '7.5M', '7.4M', '8.9M', '6.3M', '18M', '14M', 'Varies with device', '20M', 'Varies with device', '96M', '35M', '8.4M', '8.6M', '55M', '29M', '13M', '16M', '40M', '6.7M', '100M', 'Varies with device', '94M', '4.4M', '64M', '4.5M', '6.0M', 'Varies with device', '7.4M', '3.7M', '25M', '10M', '26M', '98M', '97M', '1.8M', 'Varies with device', '11M', '78M', '50M', 'Varies with device', '74M', '8.3M', 'Varies with device', '7.7M', '2.5M', '5.3M', 'Varies with device', '4.0M', '4.2M', '74M', '6.9M', 'Varies with device', '6.6M', '16M', '4.7M', '5.4M', '35M', '26M', '32M', '2.7M', '3.7M', '7.0M', '6.9M', '63M', '2.2M', '30M', '5.8M', '3.1M', '1.5M', '8.6M', '772k', '3.3M', '5.0M', '1.1M', '4.4M', '2.1M', '1.6M', 'Varies with device', '29M', '39M', '29M', '14M', 'Varies with device', '41M', '9.7M', 'Varies with device', '60M', '62M', '47M', '89M', '9.9M', '64M', '48M', '12M', '61M', '32M', '28M', 'Varies with device', 'Varies with device', '36M', '13M', '69M', '74M', '18M', '3.6M', '79M', '66M', '42M', '9.8M', '2.8M', 'Varies with device', '40M', '20M', '25M', 'Varies with device', 'Varies with device', '44M', '8.8M', '16M', '89M', 'Varies with device', '58M', '20M', '4.8M', '318k', 'Varies with device', '13M', '4.9M', '12M', 'Varies with device', 'Varies with device', 'Varies with device', '66M', '50M', 'Varies with device', '59M', 'Varies with device', '14M', '5.9M', '41M', 'Varies with device', '37M', 'Varies with device', 'Varies with device', 'Varies with device', 'Varies with device', '22M', 'Varies with device', '15M', '6.1M', 'Varies with device', 'Varies with device', 'Varies with device', '3.1M', '58k', '79M', '15M', '55M', '11M', '13M', '4.9M', 'Varies with device', '7.6M', '3.0M', '37M', '9.3M', '23M', '241k', 'Varies with device', '11M', '9.2M', '4.8M', 'Varies with device', '16M', '40M', '13M', '4.9M', '31M', 'Varies with device', 'Varies with device', '14M', '3.0M', '9.9M', 'Varies with device', '3.7M', '1.7M', '11M', '63M', '2.1M', '1.4M', 'Varies with device', '36M', '32M', 'Varies with device', '59M', '37M', 'Varies with device', '7.9M', '25M', 'Varies with device', '19M', '39M', '196k', '2.3M', '8.1M', '51M', 'Varies with device', '3.4M', '8.8M', '28M', 'Varies with device', '11M', '6.1M', '14M', '94M', '11M', 'Varies with device', '14M', '1.6M', '15M', '2.7M', '5.7M', '47M', '1.6M', '857k', '25M', '1.3M', '1.5M', '33M', '3.9M', '87M', '14M', '10M', '5.9M', '58M', '1.9M', '48M', '57M', '51k', '4.5M', '8.9M', '26M', '15M', '1.5M', '2.2M', '42M', '5.6M', '8.5M', '8.9M', '13M', '13M', 'Varies with device', '5.4M', '27M', '3.0M', '19M', '8.3M', '57M', '1.2M', '2.8M', '19M', '7.2M', 'Varies with device', '52M', 'Varies with device', '65M', '37M', '2.9M', '11M', '34M', 'Varies with device', '6.5M', '3.9M', 'Varies with device', '3.9M', '57M', '2.8M', '23M', 'Varies with device', '55M', 'Varies with device', '75M', '40M', '50M', 'Varies with device', '25M', '25M', 'Varies with device', '6.6M', '36M', '75M', '8.8M', '43M', 'Varies with device', '9.9M', '96M', '953k', '9.0M', '23M', '2.6M', '23M', '35M', '7.2M', '49M', '4.7M', 'Varies with device', '43M', '97M', 'Varies with device', '3.1M', '6.7M', '13M', '7.1M', '9.1M', '98M', '30M', '8.9M', '13M', '2.4M', '44M', '7.3M', '33M', '3.4M', '3.8M', '3.6M', 'Varies with device', '40M', '14M', 'Varies with device', 'Varies with device', 'Varies with device', '34M', '40M', 'Varies with device', '11M', '63M', '14M', '61M', '63M', '8.9M', '10M', '44M', '10M', '59M', '7.4M', '23M', '50M', '44M', 'Varies with device', '15M', '40M', '62M', '2.1M', '31M', '19M', '26M', '3.6M', '13M', '4.5M', '35M', '71M', '15M', '23M', '3.5M', '60M', '40M', 'Varies with device', '78M', '20M', 'Varies with device', '49M', '40M', '48M', '87M', '20M', '50M', '865k', '2.9M', '67M', '2.4M', '61M', '6.8M', '2.6M', '13M', '29M', '84M', '5.4M', '2.8M', '2.9M', '6.9M', '46M', '27M', 'Varies with device', 'Varies with device', '37M', '82M', '44M', '7.3M', '37M', '53M', '44M', 'Varies with device', '24M', '34M', 'Varies with device', '9.1M', '38M', '15M', '26M', '63M', '251k', 'Varies with device', '4.2M', '7.3M', '49M', '9.7M', '1.4M', '4.9M', '6.2M', '6.0M', 'Varies with device', '1.2M', '16M', '59M', '7.7M', '30M', '6.4M', '64M', '46M', '76M', '54M', '8.4M', '22M', '23M', '8.2M', '3.8M', '54M', '9.1M', '40M', '28M', '11M', '34M', '58M', '21M', '45M', '22M', '28M', '17M', '31M', '59M', '91M', 'Varies with device', '20M', '69M', '71M', '13M', '33M', '3.3M', '6.4M', '20M', '7.6M', '62M', '32M', '49M', '930k', '34M', '49M', 'Varies with device', 'Varies with device', '24M', '72M', '8.7M', 'Varies with device', '40M', '6.8M', '47M', '3.6M', '2.9M', '26M', '1.3M', '45M', '540k', '4.6M', '313k', '8.6M', '746k', '10M', '38M', '5.1M', '6.1M', '28M', '5.2M', '22M', 'Varies with device', '34M', '51M', '39M', '2.1M', '12M', '11M', '7.5M', '24M', '19M', '1.9M', '5.2M', '2.3M', '4.5M', '1.7M', '1.8M', '6.3M', 'Varies with device', '5.5M', '6.2M', '28M', '4.3M', '5.7M', '4.9M', '3.6M', '2.0M', '16M', '7.4M', '4.3M', '7.3M', '60M', '3.7M', '24M', '10M', '7.5M', '13M', '3.6M', '2.0M', '14M', '2.3M', '16M', '20M', '21M', '2.1M', '26M', '14M', '18M', '60M', 'Varies with device', '7.1M', 'Varies with device', '60M', '40M', '55M', 'Varies with device', '20M', '19M', 'Varies with device', '17M', '3.6M', '4.5M', '3.6M', '33M', '43M', '21M', '2.3M', '14M', '19M', '95M', '29M', '2.7M', 'Varies with device', 'Varies with device', '16M', '3.9M', '3.1M', '12M', '39M', '26M', '19M', '67M', '12M', '2.8M', '6.2M', '2.9M', '5.9M', '60M', '4.9M', '62M', '96M', '9.2M', '2.8M', '3.9M', '2.2M', '203k', '37M', '3.7M', '7.7M', '2.9M', '29M', '34M', '3.6M', '5.7M', '64M', '3.4M', '58k', '6.7M', '23M', '8.9M', '57M', '12M', '13M', '93M', '83M', '41M', '28M', '2.7M', '4.4M', '3.4M', '17M', '2.2M', 'Varies with device', '7.1M', '20M', '26k', 'Varies with device', '31M', '45M', '33M', '14M', '37M', '24M', '6.5M', '40M', '93M', '314k', '3.7M', '57M', '2.7M', 'Varies with device', '68M', '25M', 'Varies with device', 'Varies with device', '2.4M', 'Varies with device', 'Varies with device', '96M', 'Varies with device', '2.2M', '33M', 'Varies with device', '19M', 'Varies with device', '21M', 'Varies with device', '26M', '29M', 'Varies with device', '3.7M', '25M', '28M', '2.1M', 'Varies with device', '15M', '7.9M', '46M', '8.9M', '13M', '20M', 'Varies with device', '2.3M', '4.9M', '23M', '35M', '18M', '45M', '5.6M', '4.5M', '5.8M', '24M', '21M', '31M', '74M', '21M', '7.3M', '3.3M', 'Varies with device', '11M', '53M', '37M', '37M', '2.0M', '26M', '42M', '7.8M', '3.5M', '14M', '5.1M', '1.9M', '38M', '3.0M', '2.2M', '3.5M', '4.0M', '27M', '13M', '21M', '3.5M', '22M', '7.2M', '4.8M', '13M', '7.5M', '5.4M', '30M', 'Varies with device', '196k', 'Varies with device', '16M', '3.8M', '17M', '26M', '28M', 'Varies with device', '38M', '17M', '20M', '6.9M', 'Varies with device', '59M', '67M', '61M', 'Varies with device', 'Varies with device', '1.6M', 'Varies with device', '3.7M', '4.9M', 'Varies with device', '30M', '40M', '10M', '100M', '42M', '95M', '28M', '4.2M', '3.6M', 'Varies with device', '17M', '4.6M', '7.9M', 'Varies with device', '4.3M', '3.6M', '5.9M', '35M', '1.8M', '9.5M', '19M', '25M', '37M', '3.6M', '17M', 'Varies with device', '2.9M', '3.4M', 'Varies with device', '2.9M', 'Varies with device', 'Varies with device', '3.5M', '37M', '1.5M', 'Varies with device', '47M', 'Varies with device', '11M', '9.1M', '32M', '16M', '2.5M', '6.7M', '1.9M', 'Varies with device', '27M', '79k', '7.6M', '8.2M', '33M', '3.1M', '27M', 'Varies with device', '1.5M', 'Varies with device', '4.5M', 'Varies with device', '43M', '21M', 'Varies with device', 'Varies with device', '4.4M', '16M', '13M', '34M', '8.3M', '2.5M', '3.5M', '6.4M', '4.3M', '6.3M', '8.6M', '1.9M', '118k', '49M', '3.7M', '3.5M', '53M', '8.0M', 'Varies with device', '27M', '24M', '11M', '3.2M', '3.7M', '1.2M', '8.4M', '31M', '9.6M', '45M', '56M', '26M', '17M', '6.9M', 'Varies with device', '99M', '47M', '36M', '21M', '3.0M', '8.5M', '2.0M', '15M', '50M', '17M', 'Varies with device', '1.9M', '70M', 'Varies with device', '41M', '99M', '96M', '16M', '84M', '5.0M', '5.0M', 'Varies with device', 'Varies with device', '99M', '99M', '26M', 'Varies with device', 'Varies with device', 'Varies with device', 'Varies with device', '37M', 'Varies with device', '9.0M', '88M', '87M', '78M', '67M', '59M', 'Varies with device', '1.4M', '59M', '47M', '76M', '62M', '80M', '3.8M', '56M', '72M', '25M', '79M', '98M', '68M', '91M', '44M', '96M', '61M', 'Varies with device', '19M', '8.8M', '96M', '7.7M', 'Varies with device', '10M', '2.2M', '16M', '5.7M', '29M', '24M', '4.3M', '48M', '2.3M', '13M', '7.6M', '99M', '22M', '12M', '88M', '91M', '99M', '10M', 'Varies with device', '57M', '18M', '33M', '8.2M', 'Varies with device', '46M', '63M', '239k', 'Varies with device', 'Varies with device', '48M', 'Varies with device', '48M', '18M', '8.3M', '54M', 'Varies with device', '30M', '8.3M', '23M', '11M', '8.4M', '82M', '5.0M', '17M', '37M', '45M', '40M', '7.0M', '3.8M', '22M', '15M', '8.5M', '371k', '5.2M', 'Varies with device', '13M', '92M', '2.0M', '5.0M', '1.8M', '1.7M', '24M', '23M', '5.1M', '7.9M', '7.8M', '4.2M', '18M', '3.3M', '7.7M', '3.1M', '27M', '220k', '26M', '3.0M', '28M', '11M', '6.1M', '26M', '5.0M', '2.1M', '6.1M', '2.2M', '14M', '2.3M', '28M', '3.0M', '9.7M', '3.4M', '3.9M', '9.4M', '26M', '27M', '4.4M', '26M', '3.2M', '7.0M', 'Varies with device', '1.4M', '1.7M', 'Varies with device', 'Varies with device', '1.5M', '39M', '6.1M', '4.3M', 'Varies with device', '8.3M', '730k', '2.1M', '26M', '756k', '3.2M', '4.1M', '20M', '3.6M', '44M', '26M', '17M', '1.1M', '2.9M', '24M', '14M', '6.9M', '12M', '91k', '9.4M', '1.7M', '293k', 'Varies with device', '35M', '3.8M', '17k', '74k', '20M', '1.1M', '4.1M', '13M', '14k', '8.3M', '9.0M', '9.0M', 'Varies with device', '3.3M', 'Varies with device', '28M', '19M', '59M', '1.9M', '12M', '1.8M', '30M', 'Varies with device', 'Varies with device', 'Varies with device', '18M', 'Varies with device', '29M', '26M', '12M', '12M', '17M', '18M', '26M', 'Varies with device', '17M', '12M', '317k', '7.5M', 'Varies with device', '66M', '30M', '35M', '26M', '15M', '27M', '39M', '9.1M', '13M', '35M', '5.1M', '6.7M', '37M', '3.9M', '4.0M', '7.6M', 'Varies with device', '6.6M', '32M', '2.9M', '78k', '1.2M', '15M', '18M', '15M', '19M', '4.1M', '5.6M', '3.5M', '6.4M', '3.0M', '924k', '11M', '4.9M', 'Varies with device', '6.1M', '902k', '53M', '1.3M', '4.7M', '3.1M', '11M', 'Varies with device', 'Varies with device', '3.7M', '266k', '19M', '2.0M', '4.1M', '3.4M', '13M', '46M', '3.9M', '11M', 'Varies with device', '3.5M', 'Varies with device', '11M', 'Varies with device', '17M', '17M', '11M', 'Varies with device', '64M', '10M', '35M', '12M', '2.4M', '3.7M', '6.3M', '22M', '10.0M', '3.7M', '4.6M', '44M', '18M', '9.7M', '2.7M', '51M', '47M', '56M', 'Varies with device', '24M', 'Varies with device', '52M', '4.9M', '1.7M', '16M', '6.5M', '27M', '36M', '5.2M', '43M', '8.6M', '2.0M', '14M', '15M', '12M', '45M', '3.2M', 'Varies with device', '62M', '15M', '13M', '18M', '1.7M', '15M', '2.9M', '5.9M', '4.2M', '74M', '1.7M', '47M', '6.9M', '8.7M', '818k', '28M', '29M', '59M', 'Varies with device', '29M', '29M', 'Varies with device', '59M', '27M', '29M', '29M', '14M', '10M', '81k', '28M', '9.8M', '29M', '28M', '318k', '5.4M', '28M', '29M', '29M', '29M', '3.0M', '27M', '29M', '86M', '22M', '29M', '29M', '29M', '16M', '27M', '29M', '5.7M', '5.7M', '29M', '2.0M', '29M', '20M', '28M', '27M', '29M', '9.1M', '29M', '29M', '35M', '5.9M', '1.2M', '39M', '27M', '3.2M', '4.2M', '31M', '3.9M', '25M', 'Varies with device', '69M', '4.3M', '9.8M', '13M', '16M', '4.2M', '99M', '2.3M', '3.6M', '26M', '3.2M', '2.8M', '8.3M', 'Varies with device', '3.8M', '3.4M', '3.5M', '1.9M', '3.3M', 'Varies with device', 'Varies with device', '7.1M', '7.9M', '1.4M', '1.8M', '7.5M', '4.3M', '2.8M', '7.9M', '3.7M', '48M', '14M', '5.7M', '939k', '58M', '42M', '35M', '43M', '63M', '60M', 'Varies with device', '2.8M', '3.2M', '4.2M', '32M', '22M', '7.3M', '5.3M', '50M', '7.5M', '26M', '17M', '4.2M', '31M', '7.6M', '1.7M', '169k', '63M', '7.7M', '45k', '6.6M', '14M', '22M', '3.6M', '8.4M', '25M', '475k', '4.3M', '35M', '3.6M', '24M', '35M', '91M', '27M', '31M', '2.7M', '32M', '27M', '67M', '8.2M', '30M', '3.9M', '1.1M', '48M', '14M', '18M', '2.9M', '4.4M', '89M', '13M', '3.8M', '15M', '15M', '25M', '34M', '6.8M', '24M', '3.4M', '24M', '5.8M', '4.9M', '16M', '46M', '33M', '43M', '56M', '2.8M', '11M', '26M', '11M', '8.8M', '6.2M', '7.6M', '4.9M', '5.1M', '4.2M', '7.0M', '38M', '8.7M', '2.1M', '12M', '58M', '18M', '20M', '8.0M', '3.0M', '12M', '8.0M', '28M', '29M', '4.7M', '40M', '14M', 'Varies with device', '16M', '9.7M', '49M', '3.7M', 'Varies with device', '27M', '3.6M', '5.3M', '2.4M', '8.5M', '6.7M', 'Varies with device', '9.0M', '266k', 'Varies with device', '27M', '67M', '22M', '11M', '68M', '40M', '15M', 'Varies with device', '23M', '4.2M', '2.9M', 'Varies with device', '85M', '1.8M', '1.1M', '22M', '8.7M', '2.6M', '4.7M', '2.9M', '22M', '965k', '1.8M', '2.0M', '2.7M', '56M', '2.7M', '2.9M', '4.9M', '20M', '12M', '3.8M', '4.2M', '1.4M', '21M', '41M', 'Varies with device', '57M', '15M', '5.1M', '31M', '28M', '39M', 'Varies with device', '34M', 'Varies with device', '31M', '76M', '40M', '46M', '8.7M', '80M', '24M', '21M', 'Varies with device', '9.7M', '12M', 'Varies with device', 'Varies with device', '57M', '81M', 'Varies with device', '6.7M', '3.8M', '5.9M', '46M', '3.3M', '48M', '33M', '42M', '99M', '4.5M', '28M', '8.1M', '21M', '56M', 'Varies with device', '25M', '26M', '99M', '25M', '99M', '43M', '17M', '80M', '44M', 'Varies with device', 'Varies with device', '12M', '100M', '69M', '90M', '88M', '64M', '39M', '54M', '56M', '14M', 'Varies with device', '75M', '13M', '8.1M', 'Varies with device', '20M', '57M', '31M', '39M', '29M', '3.6M', '3.8M', '4.6M', '545k', '2.1M', '61k', '13M', '2.8M', '9.9M', '2.5M', '5.4M', '14M', '1.3M', '2.5M', '283k', '2.3M', '1.6M', '25M', '5.4M', '1.5M', '5.3M', '2.0M', '5.4M', '41M', '5.4M', '2.4M', '5.4M', '9.0M', '25M', '1.2M', '45M', '5.3M', '3.2M', '73M', '11M', '5.4M', '655k', '5.6M', '17M', '9.5M', '7.4M', '5.4M', '2.6M', '96M', '73M', '5.4M', '35M', '48M', 'Varies with device', 'Varies with device', '37M', '17M', '35M', '2.3M', '16M', '26M', '2.9M', '714k', '12M', 'Varies with device', '52M', 'Varies with device', '3.2M', '49M', '28M', '12M', 'Varies with device', '17M', '37M', '2.0M', 'Varies with device', '82M', 'Varies with device', 'Varies with device', '37M', '48M', '54M', '46M', '51M', '48M', '55M', 'Varies with device', '25M', '33M', '100M', '70M', 'Varies with device', '9.2M', '43M', '91M', '29M', 'Varies with device', '44M', '30M', '99M', '90M', '72M', '47M', '23M', 'Varies with device', '26M', '5.0M', 'Varies with device', '20M', '30M', '37M', '28M', '85M', 'Varies with device', '22M', '82M', '65M', '43M', '80M', '21M', '93k', '90M', '67M', 'Varies with device', '32M', '2.7M', '36M', '35M', '41M', 'Varies with device', '71M', '70M', '22M', '14M', '6.0M', 'Varies with device', '53M', '872k', '1.3M', '1.6M', 'Varies with device', '56M', '3.4M', '3.1M', '20M', '6.2M', '121k', 'Varies with device', '95M', '9.4M', 'Varies with device', 'Varies with device', '2.5M', 'Varies with device', '93M', '70M', '1.7M', '37M', '70M', 'Varies with device', 'Varies with device', 'Varies with device', 'Varies with device', '3.3M', '16M', 'Varies with device', '19M', '22M', 'Varies with device', '68M', 'Varies with device', 'Varies with device', 'Varies with device', '34M', '46M', '92M', '45M', '50M', '9.5M', 'Varies with device', '36M', '78M', 'Varies with device', '22M', '48M', '1.5M', '40M', '6.5M', '51M', '12M', '50M', '40M', '54M', '45M', '63M', '4.0M', '69M', '39M', '55M', '46M', '99M', '91M', '21M', '46M', '45M', '24M', '52M', '50M', '63M', '5.8M', 'Varies with device', '23M', '23M', '26M', '8.8M', '27M', '2.1M', '12M', '5.0M', '23M', '8.2M', '14M', '8.5M', 'Varies with device', '47M', '12M', '17M', '3.9M', '10.0M', '4.1M', '15M', '3.3M', '6.7M', '11M', '4.1M', '3.7M', '4.3M', '31M', '25M', '2.0M', '5.8M', '3.7M', '1.7M', '12M', '14M', '78M', '6.4M', '10M', '44M', '1.5M', '85M', '9.8M', '5.7M', '3.7M', 'Varies with device', 'Varies with device', '46M', '30M', '47M', '23M', 'Varies with device', '91M', '44M', 'Varies with device', '4.8M', '9.5M', '19M', '7.3M', '1.8M', '5.7M', '7.3M', '4.0M', '3.7M', '26M', '5.6M', '7.3M', '49M', '8.7M', '49M', '20M', '7.3M', '322k', '6.3M', '3.4M', '22M', '25M', '6.3M', '82M', '8.7M', '10M', '24M', 'Varies with device', '43M', 'Varies with device', '3.7M', '13M', 'Varies with device', '3.9M', '13M', '3.0M', '3.0M', 'Varies with device', '46M', '3.0M', '17M', '63M', '17M', '2.9M', '2.9M', '26M', '2.7M', 'Varies with device', 'Varies with device', '24M', '4.7M', '2.7M', '1.7M', '3.0M', '3.0M', 'Varies with device', '31M', '36M', '4.3M', '63M', '8.6M', '57M', 'Varies with device', '13M', '5.6M', 'Varies with device', '1.0M', 'Varies with device', 'Varies with device', '23M', '1.6M', '24M', '5.9M', 'Varies with device', 'Varies with device', '44M', '30M', '76M', '976k', '10M', '44M', '19M', '3.0M', '15M', '15M', '43M', '2.6M', '172k', '24M', '31M', '25M', '2.3M', '33M', '9.0M', '7.4M', '19M', '2.3M', '42M', 'Varies with device', '3.3M', '9.1M', '2.8M', '13M', '30M', '3.0M', '2.2M', '14M', '238k', '37M', '52M', '4.4M', 'Varies with device', '28M', '32M', '3.4M', '23M', '61M', '15M', '64M', 'Varies with device', '12M', '4.4M', '3.6M', '2.9M', '10M', '7.2M', '3.8M', '549k', '3.9M', '2.9M', '42M', '1.1M', '9.7M', '1.7M', '13M', '55M', '6.5M', '1.9M', '5.1M', '36M', '11M', '14M', 'Varies with device', '17M', 'Varies with device', '4.3M', '4.0M', '4.0M', '3.0M', '1.2M', '29M', 'Varies with device', '3.4M', '5.1M', '2.7M', '97M', '19M', '100M', 'Varies with device', '73M', '100M', '18M', '18M', '44M', 'Varies with device', '5.2M', '8.9M', '34M', '30M', '1.6M', '4.4M', '3.7M', '11M', '4.7M', '33M', '13M', '14M', '3.7M', '7.3M', 'Varies with device', '37M', '13M', '13M', '8.4M', '45M', '7.9M', '4.2M', '11M', '6.2M', '3.7M', '6.0M', '8.8M', '22M', '30M', '11M', '4.1M', '3.4M', '13M', '39M', '5.1M', '4.7M', '5.5M', '5.3M', '2.8M', '9.0M', '51M', '206k', '954k', '26M', '9.4M', '2.4M', '5.8M', '20M', '17M', '35M', '17M', '2.9M', '42M', '5.1M', '16M', '4.7M', '35M', '12M', '26M', '17M', '60M', '25M', '38M', '2.0M', '2.5M', '9.2M', '444k', '15M', '12M', '4.4M', '14M', '6.7M', '3.7M', '4.0M', '2.2M', '33M', 'Varies with device', '5.7M', '87M', '30M', '68M', '5.9M', 'Varies with device', '19M', '40M', '49M', '52M', '63M', '24M', '6.0M', '17M', '4.2M', '32M', '717k', 'Varies with device', '4.3M', '7.2M', '5.0M', '1.2M', '31M', '17M', '46M', '20M', '8.3M', '5.0M', '22M', '3.1M', '2.2M', '2.0M', '12M', '5.5M', '14M', 'Varies with device', '15M', '81M', '62M', '8.9M', 'Varies with device', '3.0M', '13M', '11M', '3.4M', '12M', '29M', 'Varies with device', '2.6M', '1.7M', '5.4M', 'Varies with device', '30M', '31M', '14M', '37M', '4.0M', 'Varies with device', '6.9M', '14M', '210k', '13M', '18M', '13M', '38M', '3.8M', '3.2M', '3.2M', '609k', '1.7M', '4.0M', '6.5M', '14M', '2.8M', '33M', '3.3M', '3.9M', '15M', '9.5M', '7.3M', '2.4M', '3.0M', '3.5M', '2.4M', '13M', 'Varies with device', '5.3M', '6.9M', '2.3M', '15M', '7.2M', '13M', '7.3M', '3.3M', '7.3M', '7.3M', '2.6M', '308k', '4.5M', '21M', '5.3M', '2.3M', '22M', '40M', 'Varies with device', '21M', '21M', '53M', '1.2M', '53M', '11M', '27M', '6.8M', '7.4M', '3.5M', '1.7M', '4.0M', '8.8M', '38M', '1.7M', 'Varies with device', 'Varies with device', '6.1M', '27M', '38M', '2.8M', '6.5M', '3.6M', '53M', '3.9M', 'Varies with device', '12M', '89M', '46M', '54M', '9.2M', '24M', '41M', '705k', '25M', '62M', '27M', '37M', '3.7M', '4.6M', '9.9M', '9.0M', '29M', '2.5M', '6.3M', '58M', '4.1M', '9.6M', '3.8M', '13M', '51M', '2.7M', '82M', '5.0M', '83M', '2.5M', '2.5M', '6.6M', '2.5M', '3.7M', '4.6M', '80M', '11M', '2.6M', '2.5M', '24M', '12M', '10M', 'Varies with device', '306k', '26M', '2.8M', '8.1M', '3.2M', '3.3M', '1.6M', '5.6M', '4.5M', '11M', '2.8M', '2.8M', '2.8M', '17M', '2.9M', '19M', '4.1M', '8.4M', '5.0M', '3.9M', '2.8M', '2.6M', '6.1M', '2.6M', '8.9M', '9.1M', '2.9M', '2.0M', '2.8M', '2.8M', '9.4M', '7.8M', '8.6M', 'Varies with device', '10M', 'Varies with device', '5.1M', '7.8M', '5.9M', '1.7M', 'Varies with device', '2.3M', '2.5M', '2.8M', '4.1M', '6.2M', '20M', '4.8M', 'Varies with device', '24M', '2.4M', '13M', 'Varies with device', '1.8M', '9.8M', '29M', '11M', '6.4M', '87M', '7.8M', '86M', '2.1M', '4.0M', '1.9M', '2.4M', '2.9M', '21M', '8.7M', '1.7M', '5.1M', '11M', '1.3M', '9.2M', '35M', '9.2M', '4.9M', '15M', '15M', '19M', '2.2M', '2.1M', '8.0M', 'Varies with device', '3.5M', '16M', '63M', 'Varies with device', '10M', '7.5M', '21M', '1.8M', '11M', '18M', 'Varies with device', 'Varies with device', '3.2M', 'Varies with device', '33M', '8.4M', '31M', '22M', '3.6M', '15M', '18M', '10M', '2.5M', '16M', '15M', '4.3M', '4.6M', '18M', '8.7M', '22M', '1.1M', '4.8M', '2.6M', '5.2M', '6.0M', '43M', '904k', '20M', '28M', '20M', '16M', 'Varies with device', '8.7M', '6.0M', '1.8M', '3.7M', '3.2M', '16M', '7.4M', '3.3M', '3.5M', '14M', '8.9M', '32M', '14M', '3.8M', '4.7M', '9.9M', '17M', '9.1M', '10M', '27M', '25M', '33M', '30M', 'Varies with device', '28M', '7.3M', '23M', '201k', 'Varies with device', '2.7M', '7.7M', 'Varies with device', '21M', '3.5M', '3.3M', '31M', '12M', '8.1M', '14M', '11M', 'Varies with device', '18M', 'Varies with device', 'Varies with device', 'Varies with device', '2.9M', '473k', '76M', '18M', '54M', '30M', 'Varies with device', 'Varies with device', '2.1M', '48M', '92M', '15M', '30M', 'Varies with device', '2.6M', '17M', '35M', '11M', '65M', '25M', '4.8M', '4.8M', '17M', '24M', '26M', '4.8M', '175k', '15M', '4.9M', '8.8M', '36M', '8.7M', '23M', '5.1M', '23M', '26M', '53M', '3.2M', '23M', '1.8M', '5.4M', '8.0M', '5.4M', '59M', '21M', '5.1M', 'Varies with device', '55M', '3.4M', '33M', '4.7M', '1.5M', 'Varies with device', '30M', '26M', '54M', '10M', '3.6M', '5.2M', '25M', '350k', '51M', '5.1M', '4.6M', '39M', '13M', '31M', '19M', '3.1M', '17M', '383k', '2.4M', '3.2M', '2.1M', '30M', '14M', '12M', '3.0M', '4.8M', '2.8M', '4.0M', '11M', 'Varies with device', '1.8M', '3.1M', '20M', '33M', '17M', '28M', '454k', '3.1M', '3.2M', '6.8M', '99M', '17M', '12M', '25M', '13M', '2.1M', '5.9M', '3.7M', '4.5M', '4.1M', '11M', '3.9M', '3.0M', '1.4M', '11M', '12M', '30M', '25M', '52M', '6.3M', '4.7M', '25M', '62M', '6.4M', '15M', '70M', '12M', '7.1M', '47M', '23M', '10M', '40M', '53M', '8.2M', '8.5M', '33M', '34M', '23M', '2.5M', '1.8M', 'Varies with device', '1.4M', '24M', '2.0M', '421k', '1.2M', '11M', '7.0M', '2.1M', '16M', '10M', '28M', '5.5M', '41M', '2.7M', '93M', '40M', '3.4M', '9.0M', '4.3M', '2.9M', '6.9M', '1.0M', '1.1M', '39M', 'Varies with device', 'Varies with device', '31M', '14M', '29M', '4.2M', '5.3M', '1.7M', '6.3M', '27M', '3.1M', 'Varies with device', '2.5M', '5.0M', '6.3M', '7.8M', '4.8M', 'Varies with device', '9.2M', '34M', '47M', '8.1M', '2.5M', '36M', '10M', '6.2M', '10M', '4.4M', '18M', '16M', 'Varies with device', '9.9M', '22M', '1.9M', '26M', '9.3M', 'Varies with device', 'Varies with device', '28M', '10M', '11M', '2.3M', '4.4M', '8.0M', '10M', '3.7M', '21M', '4.6M', 'Varies with device', '45M', '4.2M', '7.6M', '8.6M', '15M', '70k', '17M', '812k', '13M', '442k', '2.0M', 'Varies with device', '842k', '2.4M', '417k', '5.6M', '412k', '459k', '34M', '478k', '10M', '6.2M', '335k', '3.8M', '782k', '721k', '430k', '429k', '192k', '200k', '13M', '2.5M', '8.9M', '417k', 'Varies with device', '460k', '5.9M', '728k', '496k', '816k', '6.3M', '414k', '334k', '506k', '2.0M', '2.3M', '34M', '7.5M', 'Varies with device', '60M', '60M', '7.9M', '24M', '95M', '59M', '23M', '12M', '11M', '14M', '2.2M', '30M', '8.5M', '19M', '17M', '32M', '33M', '4.2M', '33M', '96M', '4.7M', '26M', '23M', '30M', '6.4M', '28M', '49M', '16M', '51M', '2.6M', '25M', 'Varies with device', '27M', '23M', '31M', '25M', '16M', '704k', '7.4M', '5.0M', '2.6M', '45M', '23M', '8.4M', '8.3M', '7.9M', '26M', '6.0M', '4.8M', '4.6M', '16M', '5.7M', '5.9M', '335k', '2.2M', '887k', '613k', '1.5M', '12M', '26M', '13M', 'Varies with device', '3.3M', '2.9M', '10M', '3.2M', '2.5M', '1.8M', '2.7M', '7.0M', '12M', 'Varies with device', '9.6M', '18M', '1.9M', '29M', '9.4M', '6.7M', '1.6M', '2.0M', 'Varies with device', '2.5M', '7.2M', '6.3M', '4.0M', '1.2M', 'Varies with device', '5.6M', '3.5M', '9.2M', '1.2M', 'Varies with device', '18M', '36M', '1.2M', '8.8M', '4.1M', '2.5M', '2.7M', '33M', '28M', '6.7M', '21M', '3.5M', '6.0M', 'Varies with device', '22M', 'Varies with device', '27M', '3.4M', 'Varies with device', '16M', '12M', '10M', 'Varies with device', '9.0M', '36M', '12M', '3.6M', '30M', '19M', '13M', '33M', '14M', '243k', '24M', 'Varies with device', '6.6M', '44M', '89M', '3.5M', '32M', '50M', '15M', '3.1M', '30M', '34M', '13M', '2.6M', '2.5M', 'Varies with device', '7.5M', '569k', '26M', '5.2M', '5.4M', '9.1M', '26M', '28M', '3.8M', 'Varies with device', '92M', '206k', '19M', '93M', '13M', '1.8M', '10M', '3.5M', '7.5M', '68M', '778k', '2.1M', '9.2M', '3.0M', '72M', '35M', 'Varies with device', '31M', '4.1M', 'Varies with device', '13M', '60M', '85M', '1.3M', 'Varies with device', '6.9M', '5.5M', '58M', '94M', '683k', '592k', 'Varies with device', '6.4M', '3.3M', '319k', '24M', '36M', '186k', '3.5M', '840k', '41M', '1.5M', '36M', '647k', '5.3M', '19M', '2.5M', '93M', '2.8M', '5.6M', '72M', '21M', '191k', '22M', '67M', '842k', '1.1M', '6.9M', 'Varies with device', '15M', '1.1M', '6.2M', '1.4M', '52M', '8.7M', '373k', '3.8M', '3.8M', '3.8M', '8.2M', '437k', '5.7M', '1.6M', '16M', '2.6M', '6.6M', '598k', '2.7M', 'Varies with device', '716k', '14M', '12M', '46M', '13M', '1.9M', '1.2M', '4.3M', '13M', '8.4M', '7.3M', '585k', '3.2M', '6.5M', '2.7M', '1.4M', '17M', '3.1M', '2.4M', '1.6M', 'Varies with device', '982k', '26M', '19M', '2.9M', '4.5M', '222k', '42M', '7.9M', '219k', '55k', '948k', '7.3M', '323k', '89M', '5.2M', '15M', '19M', '7.6M', '5.6M', '18M', '24M', '10M', '11M', '29M', '4.3M', '10M', '88M', '5.3M', '5.4M', '3.1M', '6.0M', '26M', '6.5M', '19M', '33M', '40M', '9.2M', '28M', '21M', '20M', '4.0M', '26M', 'Varies with device', '26M', '33M', '25M', '44M', 'Varies with device', '19M', '27M', '1.5M', 'Varies with device', '13M', '4.8M', '1.6M', '4.9M', '3.5M', '8.7M', '7.7M', '19M', '3.4M', '2.9M', '2.4M', '2.7M', '5.0M', '5.9M', '2.8M', '3.4M', '12M', '20M', '4.2M', '10M', '26M', '4.0M', '3.6M', '98M', '5.7M', '3.6M', '96M', '2.2M', '10M', '4.8M', '2.0M', '62M', 'Varies with device', '9.8M', '34M', '53M', '7.3M', 'Varies with device', '2.8M', '24M', '73M', '53M', '27M', '4.4M', '17M', '1.3M', '19M', '8.8M', '1.3M', '1.8M', '4.8M', '1.8M', '691k', '12M', '20M', '5.1M', '7.2M', '24M', '7.4M', '53M', '1.3M', '14M', '8.8M', '1.7M', '14M', '13M', '17M', '24M', '17M', '26M', '511k', '1.7M', '32M', '12M', '23M', '5.5M', '9.4M', '18M', '1.8M', '951k', '1.9M', '2.6M', '13M', '16M', '963k', '8.5M', '23M', '8.2M', '3.8M', '2.4M', '1.7M', '10M', '2.0M', '25k', '4.6M', '31M', '8.2M', '554k', '21M', '6.9M', '21M', '11M', '34M', '4.1M', '1.9M', '3.5M', '3.0M', '4.0M', '2.2M', '18M', '3.7M', '2.4M', '9.3M', '44M', '31M', '48M', '38M', '49M', '27M', '351k', '8.8M', '23M', '48M', '9.7M', '27k', '12M', '74M', '44M', '36M', '1.4M', 'Varies with device', '25M', 'Varies with device', '44M', '36M', '82k', '57M', 'Varies with device', '9.8M', '24M', '47M', '37M', '6.9M', '10M', '15M', '9.4M', '49M', '24M', '7.3M', '24M', '14M', 'Varies with device', 'Varies with device', '21M', '8.8M', '4.0M', 'Varies with device', '18M', '18M', '13M', '13M', '24M', 'Varies with device', '25M', '43M', '4.6M', '47M', '20M', '26M', '69M', '13M', '9.2M', '19M', '34M', 'Varies with device', '13M', '34M', '24M', '3.8M', '8.3M', '25M', '53M', '24M', '5.4M', '7.7M', '11M', '5.6M', '5.4M', '17M', '4.4M', 'Varies with device', '8.2M', '98M', '29M', '2.4M', '8.5M', '3.2M', '3.8M', '33M', 'Varies with device', '53M', '6.2M', '22M', '17M', '25M', '39M', '4.6M', '13M', '36M', '13M', '8.5M', '25M', '31M', '3.7M', '8.5M', '24M', '34M', '6.9M', '45M', '12M', '33M', '35M', '25M', '48M', '1.0M', '7.2M', '14M', 'Varies with device', '8.9M', 'Varies with device', '208k', '9.4M', '8.3M', '6.9M', '12M', '5.5M', '26M', '98M', '5.2M', '7.7M', '5.3M', '375k', '3.7M', '2.9M', '18M', '6.0M', '34M', '7.0M', '38M', '5.4M', '1.2M', '1.2M', '7.9M', '2.3M', '2.3M', '323k', 'Varies with device', '1.4M', '2.5M', '12M', '15M', '3.1M', '12M', '1.5M', '9.0M', '3.7M', '8.7M', '19M', '7.4M', '3.3M', '913k', '4.9M', '7.8M', '5.0M', '12M', '11M', '25M', '2.6M', '7.2M', '1.8M', '2.6M', '14M', '2.2M', '1.9M', '5.6M', '514k', '20M', '11M', '12M', '5.6M', '3.8M', '6.4M', '3.7M', '3.4M', '8.4M', '2.9M', '2.9M', '1.8M', '3.1M', '80M', '3.3M', '15M', '36M', 'Varies with device', '8.3M', '3.1M', '9.5M', '4.8M', '6.7M', 'Varies with device', '1.5M', '9.2M', '3.4M', '13M', '5.8M', '20M', '20M', '63M', '13M', '27M', '3.8M', '16M', '2.3M', '12M', '5.6M', '37M', '22M', 'Varies with device', '1.7M', '2.6M', '7.9M', '20M', '5.7M', '16M', '1.7M', '4.2M', '4.6M', '2.7M', '7.2M', '46M', '14M', '12M', '3.7M', '1.6M', '12M', '29M', '36M', '4.0M', '15M', '42M', '7.8M', '4.6M', '4.3M', '2.8M', '27M', '7.3M', '23M', '20M', '5.4M', '24M', '20M', '1.4M', '3.6M', '6.3M', '21M', '14M', '25M', '16M', '55M', '22M', '3.0M', '2.6M', '24M', '551k', '4.0M', '5.1M', '22M', '21M', '18M', '62M', '30M', '23M', 'Varies with device', 'Varies with device', '10M', '29M', '1.9M', '29k', '43M', '8.3M', '19M', '103k', '6.2M', '8.3M', '5.5M', '11M', '17M', '2.4M', '4.6M', '3.0M', '21M', '2.7M', '15M', '4.7M', '3.0M', '1.4M', '13M', '16M', '2.0M', '11M', '2.9M', '40M', '14M', '9.7M', '7.8M', '3.2M', '8.0M', '29M', '3.1M', '3.5M', '14M', '8.7M', '8.8M', '9.7M', '3.1M', '3.2M', '8.5M', '3.5M', '7.8M', '11M', '6.3M', '19M', '5.0M', '16M', '3.5M', '2.3M', '3.3M', '4.1M', '4.1M', '4.1M', '7.0M', '2.3M', '4.1M', '1.1M', '18M', '4.1M', '1.5M', '2.3M', '3.5M', '3.7M', 'Varies with device', '4.0M', '1.8M', '4.0M', '3.8M', '10M', '1.3M', '6.6M', '4.1M', '2.5M', '4.1M', 'Varies with device', '2.5M', '2.5M', '4.3M', '7.7M', '6.8M', '3.4M', '1.4M', '3.6M', '2.3M', '14M', '99M', '4.1M', '8.7M', '2.5M', '2.9M', '4.3M', '6.1M', 'Varies with device', 'Varies with device', 'Varies with device', 'Varies with device', '14M', '15M', '6.3M', '66M', '3.4M', 'Varies with device', '76M', '7.7M', '6.5M', '14M', '25M', 'Varies with device', 'Varies with device', '1.4M', '50M', '2.5M', '2.2M', '4.6M', '15M', '13M', 'Varies with device', '8.1M', 'Varies with device', 'Varies with device', '16M', '9.6M', 'Varies with device', 'Varies with device', 'Varies with device', '10M', '3.1M', '78M', '27M', 'Varies with device', '10M', '5.8M', '3.2M', '898k', '3.7M', 'Varies with device', '57M', '42M', '36M', '1.2M', '46M', '30M', '3.2M', '10M', '1.8M', '31M', '6.6M', '5.1M', '3.2M', '6.0M', '2.5M', '9.9M', '10M', '172k', '5.2M', '5.1M', '6.4M', '14M', '15M', '3.3M', '6.9M', '5.1M', '20M', '10.0M', '6.6M', '6.1M', '3.2M', '100M', '1.4M', '2.1M', '7.2M', '91M', '2.8M', '743k', '14M', '14M', '43M', '6.9M', '96M', '14M', '26M', '18M', '34M', '2.8M', '92M', '11M', '15M', '4.0M', '3.8M', '1.3M', '13M', '67M', '99M', '116k', '2.2M', '24M', '43M', '5.9M', '2.4M', '67M', '67M', '13M', '8.2M', '5.2M', 'Varies with device', '9.2M', '63M', '4.2M', '16M', '10M', '18M', '12M', '78M', '38M', '9.5M', 'Varies with device', '45M', '28M', 'Varies with device', '7.7M', '9.5M', '5.2M', '38M', '3.7M', '25M', '20M', '153k', '5.3M', '6.3M', '38M', '13M', '6.4M', '1.9M', '6.4M', '2.0M', '8.6M', '24M', '10M', '39M', '60M', '40M', '15M', '209k', '1.5M', '2.3M', '13M', '9.4M', '3.7M', '4.2M', '22M', '13M', '8.1M', '12M', '19M', 'Varies with device', '4.9M', '9.7M', '3.6M', '2.5M', '2.5M', '18M', '35M', '6.3M', '1.3M', '24M', '3.4M', '3.4M', '3.4M', '3.4M', '17M', '2.2M', 'Varies with device', '5.0M', '4.6M', '9.0M', '1.3M', '24M', '3.2M', '97M', '353k', '3.2M', '2.4M', '8.4M', '12M', '3.4M', '3.4M', '7.3M', '4.2M', '58M', '6.8M', '499k', '3.2M', '3.3M', '3.7M', '25M', '12M', '1.3M', '40M', '5.2M', 'Varies with device', '17M', '173k', 'Varies with device', '5.1M', '5.8M', '1.2M', '5.8M', '1.8M', '1.9M', '3.6M', '2.5M', '2.1M', '1.1M', '17M', '2.1M', '2.8M', 'Varies with device', '5.5M', '41M', '14M', '597k', '2.7M', '3.2M', '809k', '2.2M', '8.2M', '2.8M', '4.0M', '1.8M', '70k', '2.3M', '1.3M', '122k', '4.1M', '11M', '4.2M', '8.2M', '411k', '2.3M', '5.7M', 'Varies with device', '2.7M', '1.9M', '19M', '2.3M', 'Varies with device', '49M', '28M', '41M', '25M', '25M', '38M', '28M', '55M', '58M', '27M', '25M', '31M', '94M', '25M', '21M', '45M', '45M', '24M', '83M', '88M', '51M', '63M', '21M', '7.2M', '51M', '98M', '27M', '9.3M', '87M', '55M', 'Varies with device', '26M', 'Varies with device', '62M', '22M', '40M', '5.5M', '18M', '74M', '16M', '64M', '16M', '25M', '12M', '18M', '4.5M', '77M', '85M', '85M', '26M', '2.0M', '3.9M', '11M', '18M', '8.7M', '3.9M', '4.0M', 'Varies with device', '53M', '4.9M', '52M', '23M', '13M', '30M', '18M', '4.1M', '13M', '20M', '21M', '12M', '18M', '41M', '12M', '14M', 'Varies with device', 'Varies with device', '6.0M', '17M', '400k', '42M', '54M', '11M', '37M', '13M', '6.5M', '16M', '19M', '3.3M', '35M', '6.3M', '12M', '5.0M', '43M', '2.9M', '4.1M', '8.5M', '7.0M', '19M', '16M', '14M', '801k', '5.6M', '36M', '3.2M', '7.0M', '2.9M', '35M', '21M', '5.8M', '4.7M', '20M', '3.9M', '12M', '7.8M', '24M', '12M', 'Varies with device', '4.9M', '3.3M', '5.4M', '2.4M', '27M', '22M', '1.2M', '2.5M', '14M', '6.8M', '1.2M', '787k', '4.9M', '5.3M', '6.5M', '69M', '14M', '3.4M', '50M', '8.1M', '1.7M', '18M', '18M', '36M', '8.1M', '5.1M', '1.6M', '61M', '4.1M', '10M', '237k', '3.4M', '18M', '3.5M', '3.4M', '9.1M', '15M', '14M', '3.8M', '10M', '26M', 'Varies with device', '3.3M', '15M', '19M', '3.7M', 'Varies with device', '2.1M', '11M', '43M', '6.9M', '40M', 'Varies with device', '36M', '1.5M', '37M', '22M', '3.3M', '2.6M', '34M', '2.9M', '12M', '3.7M', '17M', '23M', '17M', '5.0M', '18M', '33M', '26M', '32M', '38M', '21M', '41M', '1.7M', '4.3M', '9.9M', '5.9M', '2.7M', '12M', '16M', '19M', '2.8M', '3.6M', '37M', '4.3M', '1.7M', '3.1M', '30M', '5.2M', '2.8M', '18M', '3.4M', '41M', '13M', '6.7M', '9.8M', '14M', '26M', '22M', '8.7M', '88M', '18M', '18M', '1.3M', '4.5M', '7.8M', '23M', 'Varies with device', 'Varies with device', '50k', '70M', '47M', '42M', '3.7M', '39M', '22M', '22M', '12M', '14M', '4.3M', 'Varies with device', '8.5M', '6.7M', '7.5M', '88M', '1.1M', '8.3M', '5.7M', '643k', '44M', '11M', '28M', '40M', '9.1M', '2.1M', '32M', '7.8M', '2.4M', '53M', '6.0M', '25M', '3.3M', '34M', '3.6M', '6.2M', '68M', '19M', '3.6M', '17M', '31M', '18M', '6.0M', '29M', '77M', '42M', '14M', '29M', '5.7M', '36M', '8.9M', '5.1M', '19M', '4.3M', '62M', '29M', '7.8M', '20M', '986k', '18M', '14M', '9.3M', '17M', '1.4M', '16M', '4.0M', '8.3M', '9.6M', '11M', '20M', '14M', '17M', '15M', '13M', '11M', '46M', '11M', '1.6M', '28M', 'Varies with device', '11M', '4.9M', '8.6M', '23M', '24M', '1.6M', '8.4M', '97k', '20M', '44M', '88M', '4.8M', '32M', '25M', '27M', '7.3M', '14M', '15M', 'Varies with device', '16M', '25M', '14M', '2.9M', '18M', '35M', '25M', '14M', '6.5M', '5.5M', '28M', '17M', '7.3M', '24M', '2.1M', '24M', '2.8M', '7.2M', '8.6M', '2.3M', '12M', 'Varies with device', 'Varies with device', '70M', '34M', '2.6M', '35M', '24M', '88M', '7.0M', '3.9M', 'Varies with device', '3.8M', '26M', '5.0M', '4.7M', '5.6M', '5.3M', '2.2M', '26M', '5.6M', '26M', '8.6M', '21M', '4.8M', '15M', '20M', '20M', '5.5M', '5.7M', '11M', '4.7M', '4.1M', '6.9M', '12M', 'Varies with device', '5.9M', '2.2M', '7.1M', '7.9M', '25M', '26M', '4.9M', '25M', '8.3M', '6.0M', '3.0M', '19M', '4.1M', '6.0M', '4.6M', '26M', '4.4M', '10M', '5.0M', '16M', '22M', '8.1M', '21M', '13M', '4.8M', '6.1M', '4.3M', '6.2M', '3.5M', '2.4M', '38M', '9.5M', '516k', '837k', '2.0M', '17M', '6.8M', '1.1M', '780k', '3.7M', '961k', '2.6M', '4.8M', '7.8M', '22M', 'Varies with device', '1.5M', '9.6M', 'Varies with device', '2.4M', 'Varies with device', '55M', '269k', '3.7M', '21M', '96M', '1.1M', '20k', '12M', 'Varies with device', '498k', '13M', '4.2M', '11M', 'Varies with device', '600k', '18M', '3.0M', '14M', '72M', 'Varies with device', '54M', '12M', '37M', '6.5M', '6.6M', '50M', '4.3M', '7.6M', '5.5M', '94M', '35M', '55M', '11M', '12M', '21M', '27M', '5.3M', '30M', '10M', '11M', '9.8M', '68M', '3.8M', '33M', '24M', '35M', '20M', '3.4M', '2.5M', '32M', '5.8M', '18M', '20M', '32M', '6.9M', '12M', '17M', '592k', '50M', '19M', '55M', '1.0M', '2.0M', '7.5M', '16M', '10M', 'Varies with device', 'Varies with device', '1.1M', '81M', '15M', '13M', '20M', '7.1M', '4.5M', '1.3M', '10M', '29M', '749k', '20M', '8.1M', '3.8M', '1.6M', '6.1M', '4.9M', 'Varies with device', '20M', '15M', '9.3M', '12M', '3.9M', '61M', '5.8M', '5.0M', '4.4M', 'Varies with device', '642k', '9.4M', '3.3M', 'Varies with device', '6.4M', '4.0M', '46M', '12M', '30M', 'Varies with device', '1.4M', '15M', '1.8M', '19M', 'Varies with device', '12M', '21M', '25M', '3.4M', '8.7M', '19M', '9.8M', '18M', '18M', '15M', '17M', '43M', '9.3M', '11M', '2.0M', '2.2M', '4.4M', '5.4M', '12M', '1.4M', '17M', '881k', '3.3M', '17M', '13M', '7.3M', '23M', '12M', '72k', 'Varies with device', '2.2M', 'Varies with device', '3.5M', '18M', '8.6M', '4.8M', '7.3M', '13M', '5.3M', '6.2M', '656k', '5.0M', '601k', '8.3M', 'Varies with device', '73M', '7.4M', '22M', '26M', '14M', '7.3M', '3.1M', '11M', 'Varies with device', '12M', '13M', '33M', 'Varies with device', '49M', '31M', 'Varies with device', '34M', '44M', '11M', '55M', 'Varies with device', '59M', 'Varies with device', '60M', '25M', '56M', '20M', '2.3M', '221k', '1.5M', '48M', '31M', '7.5M', '228k', '2.6M', '2.3M', '2.8M', '16M', '2.2M', '4.5M', '33M', '72M', '3.3M', '6.6M', '5.2M', '8.0M', '108k', '3.5M', '11M', '10M', '9.4M', '10M', 'Varies with device', '940k', '8.7M', '6.3M', '4.1M', '37M', '3.2M', '11M', '2.6M', '3.0M', '14M', '47M', '2.5M', '2.3M', '49M', '44M', '3.0M', '2.3M', '15M', '10M', '7.6M', '59M', 'Varies with device', '36M', '32M', '9.5M', '95M', '5.8M', '35M', '63M', '9.7M', '91M', '63M', 'Varies with device', '3.1M', '88M', '12M', '92M', '4.1M', 'Varies with device', '23M', '7.2M', '6.4M', '3.4M', '91M', '6.1M', '22M', '6.9M', '91M', '72M', '10M', '2.2M', '8.5M', '12M', '21M', '11M', '2.3M', '16M', '32M', '17M', '1.3M', '18M', '10M', '1.2M', '8.7M', '42M', 'Varies with device', '38M', '5.3M', 'Varies with device', 'Varies with device', '5.8M', '96M', '21M', 'Varies with device', '10M', '80M', '6.1M', '1.5M', '31M', '26M', '20M', '2.9M', 'Varies with device', 'Varies with device', '38M', '36M', '14M', '176k', '44M', '82M', '3.3M', '18M', '8.3M', '33k', '14M', 'Varies with device', '8.3M', '9.9M', '8.0M', '1.5M', '3.6M', '15M', '6.7M', '663k', '1.4M', '20M', '6.0M', '14M', '1.5M', '2.3M', '27M', '76M', '15M', '32M', '6.3M', '24M', '1.4M', '36M', '15M', '3.0M', '14M', '10M', '15M', '5.2M', '2.9M', '3.3M', '5.7M', '36M', '5.7M', '2.9M', '3.3M', '4.5M', 'Varies with device', '1.6M', '2.8M', 'Varies with device', '1.1M', '4.1M', '1.1M', '6.8M', '28M', '32M', '12M', '22M', '1.4M', '1.2M', '20M', '7.6M', '2.9M', 'Varies with device', '2.5M', '11M', '34M', '21M', '4.5M', '22M', '34k', '14M', '12M', 'Varies with device', '1.3M', '3.1M', '11M', '5.9M', '3.0M', '12M', '1.1M', '26M', '4.5M', '5.9M', '5.7M', 'Varies with device', '37M', 'Varies with device', '77M', '43M', '20M', '8.0M', '17M', '10M', '34M', '81M', 'Varies with device', '35M', '100M', '48M', '59M', 'Varies with device', '14M', '10M', '16M', '24M', '2.3M', '4.1M', '28M', '27M', '27M', '6.7M', '23M', 'Varies with device', '4.9M', '85M', '41M', '14M', '94M', '45M', '942k', '26M', '99M', '5.9M', '36M', '52M', '63M', '26M', 'Varies with device', '35M', 'Varies with device', '5.4M', '53M', '4.0M', '51M', '20M', '39M', '5.0M', '5.7M', '29M', '87M', '7.1M', '61M', 'Varies with device', '30M', '52M', '44M', 'Varies with device', '4.6M', '90M', 'Varies with device', '91M', '30M', '20M', '28M', '16M', '16M', '7.9M', '57M', '16M', '25M', '34M', '29M', '87M', '38M', '18M', '19M', '70M', '3.3M', '14M', '66M', '4.3M', '48M', '31M', '3.3M', '25M', '11M', '17M', '16M', '3.5M', '33M', '6.4M', '3.9M', '1.5M', '6.6M', '23M', '2.4M', '35M', '1.1M', '11M', '13M', '34M', '7.1M', '4.2M', '17M', '3.0M', '5.3M', '30M', '3.3M', '2.5M', '2.0M', 'Varies with device', '6.3M', 'Varies with device', '2.3M', '7.2M', 'Varies with device', '2.2M', '6.2M', '1.7M', '10M', '3.2M', '30M', '11M', '2.4M', '1.7M', '3.3M', '13M', '3.2M', '7.9M', '5.2M', '22M', '1.6M', '9.4M', '5.4M', '1.1M', '3.3M', '5.5M', '4.2M', '10M', '5.0M', '2.9M', '30M', '5.4M', '3.7M', '2.9M', '3.0M', '4.2M', '11M', '3.0M', '6.3M', '20M', '97M', '259k', '4.9M', '11M', '36M', '164k', '3.0M', '16M', '458k', '245k', '5.2M', '5.7M', '3.3M', '27M', '10M', '7.8M', '8.5M', '5.9M', '629k', '1.7M', '92M', '21M', '1.2M', '33M', '35M', 'Varies with device', '2.4M', '11M', '23M', '4.0M', 'Varies with device', '17M', '4.1M', '28k', '1.8M', '3.4M', '32M', '288k', '4.2M', '17M', '18M', '37M', '15M', '3.8M', '21M', '4.2M', '28M', '2.3M', '775k', '10M', '5.9M', '33M', '7.5M', '19M', '3.8M', '4.0M', 'Varies with device', '62M', 'Varies with device', '7.6M', '27M', '2.1M', '15M', '3.4M', '30M', '18M', '5.3M', '31M', '50M', '22M', '2.6M', '86M', '71M', '32M', '9.2M', 'Varies with device', '16M', 'Varies with device', 'Varies with device', '4.2M', '3.5M', 'Varies with device', '60M', 'Varies with device', '5.9M', '78M', 'Varies with device', '12M', '4.9M', 'Varies with device', 'Varies with device', '3.0M', '6.3M', 'Varies with device', '8.4M', '4.0M', '1.9M', '201k', '5.0M', '4.0M', '30M', 'Varies with device', '9.0M', '8.5M', 'Varies with device', 'Varies with device', '13M', '3.4M', '20M', '4.4M', '8.3M', '19M', '6.4M', '2.4M', 'Varies with device', '5.3M', '5.2M', '70M', '41M', '1.9M', '39M', '5.8M', '11M', '6.9M', '15M', '4.7M', '8.2M', '18M', '4.4M', '15M', '9.4M', '3.0M', '12M', '3.4M', '5.1M', '2.0M', '3.2M', '5.2M', '11M', '14M', '7.7M', '12M', '3.8M', '8.1M', '5.4M', '5.7M', '10M', '8.7M', '3.8M', '5.6M', '3.8M', '4.1M', '11M', '5.7M', '3.8M', '9.1M', '2.5M', '6.7M', '11M', '7.7M', '7.0M', '43M', '13M', '20M', '59M', '3.9M', '27M', '16M', '63M', '12M', '30M', '44M', '43M', '17M', '42M', '6.3M', '2.6M', '20M', '16M', '13M', '6.3M', '2.7M', '56M', '1.1M', '26M', '56M', '785k', '25M', '4.7M', '6.0M', '4.9M', '18M', 'Varies with device', '66M', '41M', '96M', '76M', '4.2M', '36M', '3.9M', '24M', '35M', '23M', '13M', '19M', 'Varies with device', '7.6M', '96M', '35M', 'Varies with device', '81M', '95M', '10M', '21M', '4.7M', '27M', '25M', '3.4M', '33M', '5.7M', '3.1M', 'Varies with device', '4.3M', '4.5M', '46M', '33M', '58M', '9.3M', '6.2M', '6.7M', '41M', '6.0M', '9.5M', '60M', '31M', '36M', '4.3M', '1.5M', '68M', '1.2M', '12M', '22M', '45M', '62M', '80M', '34M', '3.5M', '67M', '58M', '5.1M', '5.5M', '12M', '19M', '19M', '8.8M', '11M', '12M', '32M', '22M', '38M', 'Varies with device', 'Varies with device', '60M', '35M', '15M', '43M', 'Varies with device', '4.4M', '2.1M', 'Varies with device', 'Varies with device', '23M', '2.3M', '636k', '4.2M', '4.6M', '7.9M', '1.4M', '21M', '916k', '28M', '1.6M', '84M', '6.6M', '12M', '14M', '38M', '5.0M', '2.9M', '1.4M', '8.4M', '3.0M', '2.6M', '3.7M', '100M', '5.8M', '28M', '4.5M', '8.9M', '3.1M', '22M', '9.9M', '49M', '1.6M', '8.9M', '22M', '23M', '94M', '6.3M', '1.1M', '95M', '21M', '9.5M', '24M', '1.5M', '24M', '7.9M', '5.3M', '1.2M', '12M', '5.7M', '13M', '24M', '54M', '3.9M', 'Varies with device', 'Varies with device', '51M', '49M', '1.3M', '994k', '3.6M', '4.1M', '66M', '32M', '2.9M', '8.9M', '47M', '2.1M', '12M', '7.8M', '15M', '25M', '14M', '10M', '8.9M', '4.8M', '3.2M', '4.7M', 'Varies with device', '2.0M', '14M', '4.7M', '22M', '14M', '4.3M', 'Varies with device', '5.2M', '309k', '8.7M', '485k', '2.5M', '9.2M', '39M', '96M', 'Varies with device', '6.9M', '9.8M', '16M', '6.2M', '914k', '8.2M', 'Varies with device', '13M', '48M', '2.8M', 'Varies with device', '31M', '1.3M', '29M', '17M', '19M', '2.6M', '71M', '2.6M', '14M', '44M', '5.1M', '11M', '13M', '2.6M', '65M', '8.7M', '903k', '25M', '4.0M', '1.7M', '2.4M', '8.5M', '26M', '2.0M', '2.5M', '18M', '2.9M', '1.3M', '1.7M', '2.7M', '608k', '22M', '4.2M', '41M', '65M', '16M', '15M', '9.3M', '4.2M', '5.1M', '8.9M', '24M', '4.0M', 'Varies with device', '31M', '9.5M', '8.2M', '17M', '1.8M', 'Varies with device', '30M', '31M', '8.5M', '6.3M', '10M', '4.8M', '6.0M', '5.8M', '6.3M', '79M', '6.3M', '2.4M', '5.0M', '2.0M', '4.4M', '8.0M', 'Varies with device', '39M', '3.5M', '3.9M', '9.8M', '5.9M', '15M', '6.3M', '3.0M', '2.2M', '4.2M', '16M', '1.5M', 'Varies with device', '500k', '3.4M', '3.3M', '13M', '2.5M', '10M', '3.0M', '54k', '4.8M', '2.9M', '3.0M', '40M', '11M', '6.6M', '16M', 'Varies with device', '1.6M', '48M', '4.6M', '2.8M', 'Varies with device', '23M', '26M', '2.5M', '24M', '56M', '4.0M', '2.5M', '40M', '73M', '31M', 'Varies with device', '45M', '42M', '39M', '48M', '7.2M', '10M', '14M', '11M', '21M', '32M', '47M', 'Varies with device', '2.1M', '16M', '33M', '3.4M', '17M', '1.6M', '42M', '11M', '48M', '40M', 'Varies with device', '20M', '60M', '2.6M', '22M', '3.2M', 'Varies with device', '5.3M', '22M', '10M', '43M', '4.8M', '20M', '1.9M', '3.3M', '1.2M', '54M', '26M', 'Varies with device', '67M', '6.4M', '50M', '2.5M', '1.3M', '21M', '7.4M', '30M', '3.9M', '9.8M', '4.5M', '9.8M', '3.2M', '47M', '6.0M', '2.5M', '2.3M', 'Varies with device', '14M', '7.0M', '562k', '14M', '4.7M', '4.5M', '10M', '3.0M', '18M', '32M', '847k', '2.8M', '9.9M', '17M', '2.5M', '3.4M', '6.8M', '957k', '29M', '3.6M', 'Varies with device', '28M', '3.1M', '2.5M', '1.6M', '23M', '15M', '6.1M', '10M', '2.4M', '4.6M', '3.3M', '10M', '3.8M', '3.1M', '33M', '6.2M', '2.1M', '18M', '37M', '58M', '22M', '71M', 'Varies with device', '63M', '49M', '15M', 'Varies with device', '67M', '45M', '29M', '57M', 'Varies with device', '43M', '12M', '96M', '26M', '79M', '98M', '19M', '28M', '50M', '39M', '30M', '99M', '58M', 'Varies with device', '92M', '43M', '100M', '72M', '37M', '3.1M', '33M', '3.3M', '5.6M', '16M', '5.4M', '11M', '30M', '31M', '3.3M', '30M', '6.1M', '5.2M', '18M', '16M', '25M', '2.3M', '13M', 'Varies with device', '8.8M', '15M', '2.4M', '70M', '3.9M', '3.9M', '9.0M', '21M', '7.3M', '1.8M', '1.4M', '948k', '5.0M', '2.2M', '688k', '2.2M', '2.5M', '7.3M', '90M', '3.1M', '811k', '4.0M', '4.1M', '2.8M', 'Varies with device', '16M', '4.3M', '3.8M', '270k', '3.7M', 'Varies with device', '3.0M', '2.3M', '3.8M', '2.7M', '2.2M', '28M', '1.5M', '5.5M', '4.0M', '48k', '7.7M', '26M', '8.6M', '4.3M', '17M', '3.8M', '15M', '3.4M', '5.0M', '2.3M', '1.6M', '2.7M', '8.1M', '3.8M', '6.3M', '7.4M', '12M', '7.9M', '5.4M', '4.0M', '3.1M', '5.5M', '8.4M', '3.9M', '329k', '3.0M', '4.2M', '3.8M', '5.3M', '6.0M', '4.3M', '30M', '4.6M', '17M', '14M', '39M', '13M', '35M', '6.9M', '14M', '23M', '15M', '11M', '14M', '14M', '17M', '17M', '9.8M', '15M', '4.4M', '43M', '19M', 'Varies with device', '36M', '9.4M', '29M', '10M', '23M', '10M', '33M', '20M', '33M', '14M', '2.3M', '54M', '2.5M', '4.3M', '11M', '15M', '1.6M', '2.0M', '31M', 'Varies with device', '3.6M', '3.7M', '14M', '6.6M', '5.1M', '4.6M', '5.3M', '6.8M', '53M', '7.5M', '23M', '1.5M', '2.4M', '25M', '30M', 'Varies with device', '13M', '6.5M', '4.4M', '23M', '5.0M', '16M', '7.4M', '1.1M', '1.1M', '38M', '523k', '118k', '18M', '16M', '61M', '56M', '3.1M', '12M', '6.0M', '4.0M', '30M', '17M', '51M', 'Varies with device', '31M', '42M', '99M', '6.4M', '22M', '63M', '11M', '99M', '21M', '14M', '46M', '18M', '61M', '99M', '31M', '26M', '26M', '7.0M', '3.3M', '3.9M', '8.7M', '62M', '3.5M', '6.4M', 'Varies with device', '921k', '7.1M', '874k', '2.3M', '55M', '41M', '52M', '32M', '13M', '44M', '3.4M', '94M', '23M', '48M', 'Varies with device', '26M', '19M', '44M', '33M', '35M', '65M', '9.2M', '23M', '48M', '37M', '20M', '4.8M', '5.7M', '29M', '42M', '48M', '3.7M', '61M', '66M', '82M', '1.6M', '1.8M', 'Varies with device', '85M', '981k', '12M', '4.5M', '14M', '15M', '3.8M', '784k', 'Varies with device', '7.7M', '13M', '1.5M', '13M', '7.1M', '3.2M', '21M', '23M', '27M', '19M', '45M', '15M', 'Varies with device', '13M', '33M', '2.1M', '16M', '3.3M', '20M', '5.2M', '8.7M', 'Varies with device', '99M', '77M', '3.8M', '6.0M', '5.0M', '55M', '5.3M', '37M', '2.3M', '12M', '50M', '280k', '31M', '19M', '69M', '25M', '38M', '26M', '13M', '6.8M', '4.1M', '48M', 'Varies with device', '68M', '45M', 'Varies with device', '9.3M', '44M', '41M', '65M', '4.4M', '46M', '23M', '30M', '28M', '47M', '59M', '1.6M', '14M', '43M', '4.1M', 'Varies with device', '3.8M', '47M', '24M', '31M', '2.7M', '7.3M', '59M', '48M', '1.3M', '12M', '5.0M', '6.6M', '55M', '2.8M', 'Varies with device', '10M', '30M', '3.7M', '18M', '7.4M', '17M', '1.3M', '3.7M', '26M', '5.0M', '3.3M', '3.9M', '29M', '5.6M', '3.0M', '1.8M', '5.8M', '5.7M', '2.6M', '38M', '6.2M', '11M', '1.5M', '62M', '4.0M', '3.1M', '56M', '30M', '1.9M', '2.0M', '4.5M', '4.3M', '9.9M', '2.0M', '2.3M', '29M', '99M', '5.1M', '2.7M', '64M', '49M', '79M', '47M', '25M', '49M', '36M', '22M', '7.0M', '60M', '13M', 'Varies with device', '3.2M', '31M', '50M', '60M', '16M', '25M', '3.6M', '3.5M', '12M', 'Varies with device', '33M', '24M', '4.1M', '49M', 'Varies with device', '3.2M', '73M', '22M', '4.4M', '32M', 'Varies with device', '63M', 'Varies with device', '15M', '16M', '6.4M', '25M', 'Varies with device', '52M', '21M', '2.3M', 'Varies with device', '15M', '6.8M', '40M', '88M', '59M', 'Varies with device', '24k', '46M', '39M', '6.9M', '14M', '52M', '14M', '37M', 'Varies with device', '24M', '28M', 'Varies with device', '4.4M', '52M', '51M', '76M', '4.4M', 'Varies with device', '26M', '67M', '46M', '78M', '33M', '26M', 'Varies with device', 'Varies with device', '60M', '3.0M', '90M', '28M', '60M', '40M', '25M', '41M', 'Varies with device', 'Varies with device', '13M', 'Varies with device', 'Varies with device', 'Varies with device', '42M', '35M', '18M', '53M', '31M', '4.3M', 'Varies with device', '11M', '8.5M', '21M', 'Varies with device', '43M', '10M', '3.4M', 'Varies with device', '15M', '7.1M', 'Varies with device', '11M', '1.5M', '21M', '34M', '11M', '8.9M', '19M', '4.2M', '1.1M', '11M', '14M', 'Varies with device', '30M', '24M', '518k', 'Varies with device', '6.3M', '41M', '18M', '5.2M', '6.7M', '3.1M', '2.0M', '36M', '60M', '74M', '11M', '92M', '83M', '54M', '42M', '23M', '31M', '98M', '69M', '754k', '37M', '20M', '77M', '73M', '33M', '2.7M', '57M', '83M', '73M', 'Varies with device', '44M', '2.8M', '13M', '2.1M', '28M', '2.3M', '892k', '70M', '2.3M', '20M', 'Varies with device', '8.8M', '24M', '21M', '15M', '154k', '21M', '4.8M', '20M', '31M', '16M', '12M', '27M', '6.3M', '11M', '2.0M', '1.5M', '20M', '39M', '3.2M', '27M', '7.2M', '23M', '47M', '31M', '21M', '34M', '5.3M', '37M', '5.7M', '10M', '52M', '69M', '56M', '53M', '62M', '76M', '71M', '72M', '28M', '2.8M', '51M', '28M', '40M', '27M', 'Varies with device', '37M', '46M', '50M', '49M', '58M', '41M', '73M', '33M', '46M', '19M', '32M', '30M', '92M', '55M', '45M', '47M', '85M', '48M', '77M', '30M', '28M', '35M', '5.8M', '39M', '25M', '32M', '8.9M', '84M', '60M', '5.3M', '39M', '20M', '20M', '17M', 'Varies with device', '18k', '42M', '29M', 'Varies with device', '6.6M', '3.2M', '33k', '4.4M', '3.4M', '860k', '1.2M', '1.7M', '2.8M', '364k', '2.2M', '1.9M', '1.7M', '3.0M', '387k', '2.7M', '2.0M', '5.0M', '375k', '11M', '626k', '11M', '2.9M', '6.5M', '2.0M', '4.2M', 'Varies with device', '6.7M', 'Varies with device', '9.2M', '4.7M', '15M', '161k', '24M', '1.7M', '2.7M', '5.9M', '9.2M', '13M', 'Varies with device', '9.2M', 'Varies with device', '6.3M', '3.8M', '4.2M', '5.7M', '18M', '9.9M', 'Varies with device', '12M', '5.3M', '9.9M', '63M', 'Varies with device', 'Varies with device', 'Varies with device', 'Varies with device', 'Varies with device', 'Varies with device', '13M', 'Varies with device', '31M', 'Varies with device', 'Varies with device', '35M', '61M', 'Varies with device', 'Varies with device', '62M', '93M', '93M', '79k', '5.0M', 'Varies with device', '33M', '8.7M', '61M', 'Varies with device', '6.1M', '26M', '37M', '19M', '2.3M', '4.4M', '32M', '879k', '5.3M', '17M', '4.2M', '5.3M', '3.4M', '12M', '1.8M', '12M', '2.5M', '3.9M', '2.0M', '7.2M', '13M', '20M', '16M', '22M', '3.5M', 'Varies with device', '2.3M', '65M', '21M', '21M', '20M', '12M', '2.0M', '2.7M', '13M', '7.0M', '9.4M', '11M', 'Varies with device', '1.2M', '18M', '7.5M', '2.6M', '12M', '3.1M', '39k', '4.3M', '45M', '15M', '2.5M', '5.4M', '5.2M', '1.5M', '970k', '1.4M', '2.0M', '34M', '2.1M', 'Varies with device', '9.7M', '2.2M', '1.6M', '10M', '42M', '13M', '2.7M', '8.7M', '32M', '10M', '67M', '17M', '40M', '21M', '15M', '12M', '9.7M', '31M', '4.0M', 'Varies with device', '8.6M', '25M', '26M', '6.4M', '88M', '5.8M', '41M', '2.5M', 'Varies with device', '6.6M', '24M', '9.8M', '32M', '72M', '19M', '8.1M', '6.2M', '8.4M', '19M', '8.5M', '43M', '23M', '48M', '20M', '5.2M', '3.9M', '52M', '1.3M', '25M', '11M', '16M', '1.0M', '61M', '15M', 'Varies with device', '54M', '19M', '19M', 'Varies with device', '33M', 'Varies with device', '64M', '72M', '45M', 'Varies with device', '27M', '69M', '4.9M', '4.4M', '8.6M', '13M', '8.7M', '12M', '29M', 'Varies with device', '5.8M', '36M', '17M', '17M', '1.9M', 'Varies with device', '12M', '7.1M', '96M', '21M', '6.5M', 'Varies with device', '62M', 'Varies with device', '82M', 'Varies with device', '69M', '22M', '34M', '63M', 'Varies with device', 'Varies with device', '14M', '1.8M', '95M', '30M', 'Varies with device', '16M', 'Varies with device', '4.3M', '67M', '12M', '8.5M', '48M', '62M', '95M', '5.2M', 'Varies with device', '23M', '2.8M', 'Varies with device', '13M', '1.1M', '4.6M', '170k', '1.1M', '1.0M', 'Varies with device', '11M', '141k', '160k', 'Varies with device', '86M', '144k', '141k', '143k', '6.3M', '17M', '7.9M', '190k', '6.0M', '3.5M', '26M', '93M', '21M', '2.3M', 'Varies with device', '64M', '8.1M', '376k', '13M', '8.0M', '29M', '42M', '19M', '17k', '2.5M', '3.6M', '3.9M', '54M', '6.8M', '38M', '44M', '30M', '8.4M', '27M', '10M', '15M', '27M', '5.1M', '3.4M', '10M', '19M', '54M', '3.1M', '2.7M', '1.7M', '8.4M', '1.2M', '19M', '12M', '44M', '26M', '99M', '19M', '18M', '3.3M', '30M', '24M', '4.5M', '15M', '10M', '18M', '13M', '4.5M', '3.3M', '21M', '10M', '36M', '33M', '4.3M', '9.6M', '656k', '61M', '14M', '5.4M', '1.3M', 'Varies with device', '2.8M', '47M', 'Varies with device', 'Varies with device', '7.6M', '4.6M', '10.0M', '4.6M', '13M', '1.2M', '2.9M', '10M', '4.8M', '36M', '3.5M', 'Varies with device', '50M', '51k', '11M', '29M', '46M', '46M', '1.4M', '1.2M', '228k', 'Varies with device', '9.8M', '39M', '193k', '12M', '192k', '57M', '2.1M', '3.9M', '11M', '2.3M', '8.5M', '1.4M', '473k', '2.4M', '3.9M', '68M', '1.6M', 'Varies with device', '1.8M', '4.0M', '1.5M', '26M', '3.0M', '71M', '246k', '3.6M', '1.3M', '24M', '68M', '1.3M', '44M', '7.0M', '5.4M', '7.6M', '14M', '71M', '2.6M', '10M', '48M', '25M', '6.3M', '96M', '10M', '47M', '3.2M', 'Varies with device', 'Varies with device', '5.8M', '23M', 'Varies with device', '1.1M', '4.6M', 'Varies with device', '6.3M', 'Varies with device', '4.3M', '4.8M', '4.2M', '3.6M', '4.0M', '3.9M', '8.7M', '9.9M', '5.1M', '1.8M', '1.5M', '7.0M', 'Varies with device', '18M', '3.4M', '3.3M', '1.5M', '5.1M', '10M', '1.6M', '3.2M', '3.0M', '10M', '2.8M', '2.5M', '1.3M', '11M', '15M', '3.1M', '2.8M', '3.7M', '6.1M', '4.5M', '30M', '6.2M', '20M', '38M', '20M', '3.1M', '6.4M', '71M', '11M', '11M', '2.6M', '33M', '21M', '41M', '12M', '21M', '2.8M', '3.6M', '14M', '29M', '76M', '5.7M', '17M', '28M', '4.6M', 'Varies with device', '19M', '3.1M', '79M', '36M', '17M', '7.8M', '89M', '49M', '12M', '3.0M', '57M', '16M', '13M', '5.9M', '40M', '14M', 'Varies with device', '73k', '3.5M', '17M', '7.9M', '19M', '30M', '12M', '42M', '7.4M', '9.1M', '7.5M', '4.8M', '7.4M', '4.9M', '9.1M', '4.2M', '2.7M', '75M', '3.9M', '2.3M', '35M', '3.5M', '9.1M', '1.5M', '26M', '7.4M', '2.1M', '4.7M', '3.4M', '4.2M', '4.6M', '7.1M', '21M', '2.7M', '4.4M', '14M', '17M', 'Varies with device', '9.0M', '4.5M', '21M', '15M', '21M', '8.0M', '11M', '53M', '21M', '2.9M', '20M', '2.9M', '20M', '47M', '12M', '12M', '17M', '10M', '26M', '9.2M', '9.8M', '17M', '658k', '30M', '1.8M', '97M', '2.9M', '15M', '5.3M', '8.3M', '20M', '3.0M', '5.6M', '7.9M', '22M', '5.0M', '11M', '15M', '7.5M', '4.1M', '13M', '12M', '60M', '25M', '4.6M', '1.7M', '6.5M', '36M', '17M', '6.5M', '39M', '46M', '52M', '7.7M', '30M', '17M', '39M', '30M', '12M', '45M', '29M', '48M', '50M', 'Varies with device', '66M', '27M', '51M', '69M', '21M', '14M', '19M', '61M', '28M', '49M', '94M', '23M', '94M', '2.5M', '13M', '34M', '33M', '16M', '992k', '18M', '8.1M', '15M', '8.2M', '8.1M', '27M', 'Varies with device', '4.1M', '20M', '6.0M', '17M', '4.7M', '14M', '5.8M', '9.9M', '9.9M', '49M', '14M', '7.6M', '7.8M', '46M', '29M', '3.6M', '49M', '29M', '8.2M', '54M', '18M', '56M', '26M', '3.3M', '40M', '14M', '24M', '37M', 'Varies with device', 'Varies with device', '22M', '16M', '2.0M', '3.5M', '8.5M', '253k', '957k', 'Varies with device', '420k', '13M', '2.4M', '3.4M', '5.1M', 'Varies with device', '9.7M', '72k', 'Varies with device', '2.4M', '35M', '3.9M', '26k', '29k', '5.8M', '2.8M', '5.8M', '2.1M', '1.4M', '3.9M', '7.5M', '58M', '4.0M', '404k', '1,000+', '4.1M', '14M', '2.6M', '7.6M', '11M', '8.0M', '2.3M', '49M', '43M', '10M', '16M', '24M', '6.2M', '27M', '46M', '2.4M', '36M', '17M', '8.0M', '37M', '33M', '15M', '15M', '13M', '11M', '25M', '16M', '15M', '15M', 'Varies with device', '43M', '43M', '36M', '23M', '99M', '46M', 'Varies with device', '20M', '45M', '2.9M', '21M', '35M', '41M', '2.2M', '2.5M', '35M', '1.5M', '54M', '44M', '27M', '8.5M', '22M', '26M', '63M', '20M', '26M', '3.5M', '26M', '10M', '5.5M', '26M', '26M', '26M', '26M', '26M', '26M', '26M', '2.4M', '26M', '26M', '26M', '26M', '26M', '26M', '13M', '26M', '25M', '26M', '26M', '15M', '18M', '21M', '26M', '17M', '26M', '12M', '26M', '26M', '26M', '26M', '26M', '2.6M', '27M', '15M', '26M', '17M', '45M', '24M', '11M', '3.1M', '30M', '3.2M', '5.6M', '7.1M', '7.1M', '31M', '34M', '9.2M', '36M', '15M', '2.0M', '6.1M', 'Varies with device', '22M', '4.4M', '86M', '13M', '12M', '41M', '8.2M', '8.0M', '15M', '470k', '5.3M', '9.4M', '2.2M', '43M', '226k', '20M', '21M', '37M', '26M', '3.4M', '22M', '7.8M', '3.4M', '28M', '7.8M', '2.6M', '3.9M', '7.6M', '8.1M', '9.5M', '1.8M', '16M', '3.2M', '45M', '14M', '12M', '49M', '13M', '9.9M', '3.9M', '7.6M', '28M', '12M', '69M', '34M', '9.2M', '5.4M', '8.7M', '18M', '5.7M', '12M', '15M', '1.6M', '38M', '11M', '14M', 'Varies with device', '30M', '13M', 'Varies with device', '19M', 'Varies with device', '10M', '45M', '5.3M', '19M', '7.0M', '5.6M', '11M', '12M', '9.2M', '11M', '13M', '3.3M', '14M', '8.8M', '7.3M', '14M', '8.5M', '3.3M', '9.0M', '240k', '8.2M', '7.9M', '1.6M', '34M', '2.1M', '59M', '5.2M', '89k', '3.6M', '234k', '257k', 'Varies with device', '9.8M', 'Varies with device', '36M', '20M', '28M', '3.2M', '50M', '41M', '364k', '3.1M', '861k', '1.6M', '15M', '17M', '16M', '15M', '11M', '16M', '15M', '19M', '16M', '2.8M', '1.3M', '21M', '18M', '5.2M', '2.0M', 'Varies with device', '9.7M', '17M', '4.3M', '54M', 'Varies with device', 'Varies with device', '7.2M', '1.4M', '11M', '49M', '15M', '25M', '4.0M', '16M', '11M', '40M', '3.7M', 'Varies with device', '24M', '16M', '8.1M', '6.3M', '60M', '46M', '467k', '1.4M', '22M', '157k', '2.6M', '44M', '11M', '39M', '4.4M', '1.7M', '7.9M', '1.2M', '2.0M', '5.8M', '61M', '3.8M', '3.3M', '29M', '3.3M', '44k', '26M', '12M', '3.3M', '676k', '2.5M', '72M', '4.3M', '67k', '2.4M', '8.0M', '11M', '552k', '885k', 'Varies with device', '7.0M', '16M', '24M', '12M', '41M', '2.4M', '3.9M', '8.9M', '36M', '9.0M', '24M', '2.2M', '38M', '75M', '50M', '44M', '11M', '72M', '84M', '9.5M', '2.8M', '48M', '20M', '48M', '20M', '38M', '16M', '78M', '5.7M', '4.0M', '7.8M', '46M', '1020k', '6.8M', '12M', '19M', '28M', '81M', '17M', '15M', '42M', '4.2M', '1.0M', '24M', '21M', '3.9M', '13M', '2.7M', '31M', '4.9M', '6.8M', '8.0M', '1.5M', '3.6M', '8.6M', '2.5M', '3.1M', '2.9M', '82M', '7.7M', 'Varies with device', '13M', '13M', '7.4M', '2.3M', '9.8M', '582k', '619k', '2.6M', '9.6M', '53M', '3.6M', '9.5M', 'Varies with device', '19M']\n"
          ]
        },
        {
          "output_type": "execute_result",
          "data": {
            "text/plain": [
              "1695"
            ]
          },
          "metadata": {},
          "execution_count": 9
        }
      ]
    },
    {
      "cell_type": "code",
      "source": [
        "index =  data[data['Size'] == '1,000+'].index\n",
        "data.drop(axis = 0, inplace=True, index = index)\n",
        "\n",
        "size = [i for i in data['Size']]\n",
        "\n",
        "def clean_size(size_list):\n",
        "  clean = []\n",
        "  for i in size_list:\n",
        "    if 'M' in i:\n",
        "      i = i.replace('M','')\n",
        "      clean.append(float(i))\n",
        "    elif 'k' in i:\n",
        "      i = i.replace('k','')\n",
        "      clean.append(float(i)/1024)\n",
        "    elif 'Varies with device' in i:\n",
        "      i = i.replace('Varies with device','0')\n",
        "      clean.append(float(i))\n",
        "    else:\n",
        "      clean.append(float(i))\n",
        "  return clean\n",
        "\n",
        "data['Size'] = clean_size(size)\n",
        "data['Size']"
      ],
      "metadata": {
        "id": "grusVbZrsUsJ",
        "colab": {
          "base_uri": "https://localhost:8080/"
        },
        "outputId": "9646fa87-7b39-4961-c0a3-5a69928c3539"
      },
      "execution_count": 10,
      "outputs": [
        {
          "output_type": "execute_result",
          "data": {
            "text/plain": [
              "0        19.0\n",
              "1        14.0\n",
              "2         8.7\n",
              "3        25.0\n",
              "4         2.8\n",
              "         ... \n",
              "10836    53.0\n",
              "10837     3.6\n",
              "10838     9.5\n",
              "10839     0.0\n",
              "10840    19.0\n",
              "Name: Size, Length: 10840, dtype: float64"
            ]
          },
          "metadata": {},
          "execution_count": 10
        }
      ]
    },
    {
      "cell_type": "code",
      "source": [
        "#data.loc[data['Size']==0.0,'Size'] = np.nan\n",
        "#data['Size']"
      ],
      "metadata": {
        "id": "nOus8KgRtBwn"
      },
      "execution_count": 11,
      "outputs": []
    },
    {
      "cell_type": "code",
      "source": [
        "data['Price'].unique()"
      ],
      "metadata": {
        "colab": {
          "base_uri": "https://localhost:8080/"
        },
        "id": "cKr8r3oWwVcU",
        "outputId": "0d743587-f98a-4817-b3db-8dc0722abf48"
      },
      "execution_count": 12,
      "outputs": [
        {
          "output_type": "execute_result",
          "data": {
            "text/plain": [
              "array(['0', '$4.99', '$3.99', '$6.99', '$1.49', '$2.99', '$7.99', '$5.99',\n",
              "       '$3.49', '$1.99', '$9.99', '$7.49', '$0.99', '$9.00', '$5.49',\n",
              "       '$10.00', '$24.99', '$11.99', '$79.99', '$16.99', '$14.99',\n",
              "       '$1.00', '$29.99', '$12.99', '$2.49', '$10.99', '$1.50', '$19.99',\n",
              "       '$15.99', '$33.99', '$74.99', '$39.99', '$3.95', '$4.49', '$1.70',\n",
              "       '$8.99', '$2.00', '$3.88', '$25.99', '$399.99', '$17.99',\n",
              "       '$400.00', '$3.02', '$1.76', '$4.84', '$4.77', '$1.61', '$2.50',\n",
              "       '$1.59', '$6.49', '$1.29', '$5.00', '$13.99', '$299.99', '$379.99',\n",
              "       '$37.99', '$18.99', '$389.99', '$19.90', '$8.49', '$1.75',\n",
              "       '$14.00', '$4.85', '$46.99', '$109.99', '$154.99', '$3.08',\n",
              "       '$2.59', '$4.80', '$1.96', '$19.40', '$3.90', '$4.59', '$15.46',\n",
              "       '$3.04', '$4.29', '$2.60', '$3.28', '$4.60', '$28.99', '$2.95',\n",
              "       '$2.90', '$1.97', '$200.00', '$89.99', '$2.56', '$30.99', '$3.61',\n",
              "       '$394.99', '$1.26', '$1.20', '$1.04'], dtype=object)"
            ]
          },
          "metadata": {},
          "execution_count": 12
        }
      ]
    },
    {
      "cell_type": "code",
      "source": [
        "price = [i for i in data['Price']]\n",
        "\n",
        "def clean_price(prices):\n",
        "  clean = []\n",
        "  for i in prices:\n",
        "    if '$' in i:\n",
        "      i = i.replace('$','')\n",
        "      clean.append(float(i))\n",
        "    else:\n",
        "      clean.append(float(i))\n",
        "  return clean\n",
        "\n",
        "data['Price'] = clean_price(price)\n",
        "data['Price']"
      ],
      "metadata": {
        "colab": {
          "base_uri": "https://localhost:8080/"
        },
        "id": "EQSfhVCM1bzc",
        "outputId": "42ab14cb-5944-401c-b40a-43121a7dc105"
      },
      "execution_count": 13,
      "outputs": [
        {
          "output_type": "execute_result",
          "data": {
            "text/plain": [
              "0        0.0\n",
              "1        0.0\n",
              "2        0.0\n",
              "3        0.0\n",
              "4        0.0\n",
              "        ... \n",
              "10836    0.0\n",
              "10837    0.0\n",
              "10838    0.0\n",
              "10839    0.0\n",
              "10840    0.0\n",
              "Name: Price, Length: 10840, dtype: float64"
            ]
          },
          "metadata": {},
          "execution_count": 13
        }
      ]
    },
    {
      "cell_type": "code",
      "source": [
        "data.info()"
      ],
      "metadata": {
        "colab": {
          "base_uri": "https://localhost:8080/"
        },
        "id": "N4GopiG6igyX",
        "outputId": "f6db48fe-59ba-419b-99cb-c1c6dd83d5a1"
      },
      "execution_count": 14,
      "outputs": [
        {
          "output_type": "stream",
          "name": "stdout",
          "text": [
            "<class 'pandas.core.frame.DataFrame'>\n",
            "Int64Index: 10840 entries, 0 to 10840\n",
            "Data columns (total 13 columns):\n",
            " #   Column          Non-Null Count  Dtype  \n",
            "---  ------          --------------  -----  \n",
            " 0   App             10840 non-null  object \n",
            " 1   Category        10840 non-null  object \n",
            " 2   Rating          9366 non-null   float64\n",
            " 3   Reviews         10840 non-null  float64\n",
            " 4   Size            10840 non-null  float64\n",
            " 5   Installs        10840 non-null  float64\n",
            " 6   Type            10839 non-null  object \n",
            " 7   Price           10840 non-null  float64\n",
            " 8   Content Rating  10840 non-null  object \n",
            " 9   Genres          10840 non-null  object \n",
            " 10  Last Updated    10840 non-null  object \n",
            " 11  Current Ver     10832 non-null  object \n",
            " 12  Android Ver     10838 non-null  object \n",
            "dtypes: float64(5), object(8)\n",
            "memory usage: 1.2+ MB\n"
          ]
        }
      ]
    },
    {
      "cell_type": "code",
      "source": [
        "data.isnull().sum()"
      ],
      "metadata": {
        "colab": {
          "base_uri": "https://localhost:8080/"
        },
        "id": "QemNJbfUilat",
        "outputId": "8b7d77d6-90d9-4b60-dcaa-2a8e7c9282b4"
      },
      "execution_count": 15,
      "outputs": [
        {
          "output_type": "execute_result",
          "data": {
            "text/plain": [
              "App                  0\n",
              "Category             0\n",
              "Rating            1474\n",
              "Reviews              0\n",
              "Size                 0\n",
              "Installs             0\n",
              "Type                 1\n",
              "Price                0\n",
              "Content Rating       0\n",
              "Genres               0\n",
              "Last Updated         0\n",
              "Current Ver          8\n",
              "Android Ver          2\n",
              "dtype: int64"
            ]
          },
          "metadata": {},
          "execution_count": 15
        }
      ]
    },
    {
      "cell_type": "code",
      "source": [
        ""
      ],
      "metadata": {
        "id": "QHUu4BmTi697"
      },
      "execution_count": 15,
      "outputs": []
    }
  ]
}