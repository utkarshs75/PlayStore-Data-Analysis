{
  "nbformat": 4,
  "nbformat_minor": 0,
  "metadata": {
    "colab": {
      "provenance": [],
      "collapsed_sections": [
        "AYy9_g01_YDG",
        "FCsJJS3WDHKh",
        "LmxL2qgFchPT",
        "C_cPgJotgMBZ"
      ],
      "authorship_tag": "ABX9TyOXsbwn4Z8wPlHi2BVN6nDs",
      "include_colab_link": true
    },
    "kernelspec": {
      "name": "python3",
      "display_name": "Python 3"
    },
    "language_info": {
      "name": "python"
    }
  },
  "cells": [
    {
      "cell_type": "markdown",
      "metadata": {
        "id": "view-in-github",
        "colab_type": "text"
      },
      "source": [
        "<a href=\"https://colab.research.google.com/github/utkarshs75/PlayStore-Data-Analysis/blob/main/Reunion_Assignment_Task_2_Modelling.ipynb\" target=\"_parent\"><img src=\"https://colab.research.google.com/assets/colab-badge.svg\" alt=\"Open In Colab\"/></a>"
      ]
    },
    {
      "cell_type": "code",
      "execution_count": null,
      "metadata": {
        "id": "YBr3GZO-Vv2T"
      },
      "outputs": [],
      "source": [
        "# Importing all required Libraries\n",
        "import numpy as np\n",
        "import pandas as pd\n",
        "import matplotlib.pyplot as plt\n",
        "%matplotlib inline\n",
        "import seaborn as sns\n",
        "from sklearn.preprocessing import LabelEncoder\n",
        "from statsmodels.stats.outliers_influence import variance_inflation_factor\n",
        "from sklearn.model_selection import train_test_split\n",
        "from sklearn.linear_model import LogisticRegression\n",
        "from sklearn.metrics import accuracy_score, confusion_matrix\n",
        "from sklearn.tree import DecisionTreeClassifier\n",
        "from sklearn.ensemble import RandomForestClassifier"
      ]
    },
    {
      "cell_type": "code",
      "source": [
        "# Getting both datasets and storing in variables\n",
        "\n",
        "app = pd.read_csv('applicant.csv')\n",
        "loan = pd.read_csv('loan.csv')"
      ],
      "metadata": {
        "id": "8pB8qclgV3zS"
      },
      "execution_count": null,
      "outputs": []
    },
    {
      "cell_type": "code",
      "source": [
        "app.head()"
      ],
      "metadata": {
        "colab": {
          "base_uri": "https://localhost:8080/",
          "height": 374
        },
        "id": "muy_Wzu1WIO9",
        "outputId": "fed831f5-a052-493a-810d-c1cee1bf2aa5"
      },
      "execution_count": null,
      "outputs": [
        {
          "output_type": "execute_result",
          "data": {
            "text/plain": [
              "   applicant_id  Primary_applicant_age_in_years  Gender  \\\n",
              "0       1469590                              67    male   \n",
              "1       1203873                              22  female   \n",
              "2       1432761                              49    male   \n",
              "3       1207582                              45    male   \n",
              "4       1674436                              53    male   \n",
              "\n",
              "               Marital_status  Number_of_dependents   Housing  \\\n",
              "0                      single                     1       own   \n",
              "1  divorced/separated/married                     1       own   \n",
              "2                      single                     2       own   \n",
              "3                      single                     2  for free   \n",
              "4                      single                     2  for free   \n",
              "\n",
              "   Years_at_current_residence            Employment_status  \\\n",
              "0                           4  skilled employee / official   \n",
              "1                           2  skilled employee / official   \n",
              "2                           3         unskilled - resident   \n",
              "3                           4  skilled employee / official   \n",
              "4                           4  skilled employee / official   \n",
              "\n",
              "  Has_been_employed_for_at_least Has_been_employed_for_at_most  \\\n",
              "0                        7 years                           NaN   \n",
              "1                         1 year                       4 years   \n",
              "2                        4 years                       7 years   \n",
              "3                        4 years                       7 years   \n",
              "4                         1 year                       4 years   \n",
              "\n",
              "                               Telephone  Foreign_worker  \\\n",
              "0  Registered under the applicant's name               1   \n",
              "1                                    NaN               1   \n",
              "2                                    NaN               1   \n",
              "3                                    NaN               1   \n",
              "4                                    NaN               1   \n",
              "\n",
              "  Savings_account_balance  \\\n",
              "0                     NaN   \n",
              "1                     Low   \n",
              "2                     Low   \n",
              "3                     Low   \n",
              "4                     Low   \n",
              "\n",
              "  Balance_in_existing_bank_account_(lower_limit_of_bucket)  \\\n",
              "0                                                NaN         \n",
              "1                                                  0         \n",
              "2                                                NaN         \n",
              "3                                                NaN         \n",
              "4                                                NaN         \n",
              "\n",
              "  Balance_in_existing_bank_account_(upper_limit_of_bucket)  \n",
              "0                                                  0        \n",
              "1                                              2 lac        \n",
              "2                                                NaN        \n",
              "3                                                  0        \n",
              "4                                                  0        "
            ],
            "text/html": [
              "\n",
              "  <div id=\"df-62596ec9-f628-4ef8-bd71-e7d97da08b01\">\n",
              "    <div class=\"colab-df-container\">\n",
              "      <div>\n",
              "<style scoped>\n",
              "    .dataframe tbody tr th:only-of-type {\n",
              "        vertical-align: middle;\n",
              "    }\n",
              "\n",
              "    .dataframe tbody tr th {\n",
              "        vertical-align: top;\n",
              "    }\n",
              "\n",
              "    .dataframe thead th {\n",
              "        text-align: right;\n",
              "    }\n",
              "</style>\n",
              "<table border=\"1\" class=\"dataframe\">\n",
              "  <thead>\n",
              "    <tr style=\"text-align: right;\">\n",
              "      <th></th>\n",
              "      <th>applicant_id</th>\n",
              "      <th>Primary_applicant_age_in_years</th>\n",
              "      <th>Gender</th>\n",
              "      <th>Marital_status</th>\n",
              "      <th>Number_of_dependents</th>\n",
              "      <th>Housing</th>\n",
              "      <th>Years_at_current_residence</th>\n",
              "      <th>Employment_status</th>\n",
              "      <th>Has_been_employed_for_at_least</th>\n",
              "      <th>Has_been_employed_for_at_most</th>\n",
              "      <th>Telephone</th>\n",
              "      <th>Foreign_worker</th>\n",
              "      <th>Savings_account_balance</th>\n",
              "      <th>Balance_in_existing_bank_account_(lower_limit_of_bucket)</th>\n",
              "      <th>Balance_in_existing_bank_account_(upper_limit_of_bucket)</th>\n",
              "    </tr>\n",
              "  </thead>\n",
              "  <tbody>\n",
              "    <tr>\n",
              "      <th>0</th>\n",
              "      <td>1469590</td>\n",
              "      <td>67</td>\n",
              "      <td>male</td>\n",
              "      <td>single</td>\n",
              "      <td>1</td>\n",
              "      <td>own</td>\n",
              "      <td>4</td>\n",
              "      <td>skilled employee / official</td>\n",
              "      <td>7 years</td>\n",
              "      <td>NaN</td>\n",
              "      <td>Registered under the applicant's name</td>\n",
              "      <td>1</td>\n",
              "      <td>NaN</td>\n",
              "      <td>NaN</td>\n",
              "      <td>0</td>\n",
              "    </tr>\n",
              "    <tr>\n",
              "      <th>1</th>\n",
              "      <td>1203873</td>\n",
              "      <td>22</td>\n",
              "      <td>female</td>\n",
              "      <td>divorced/separated/married</td>\n",
              "      <td>1</td>\n",
              "      <td>own</td>\n",
              "      <td>2</td>\n",
              "      <td>skilled employee / official</td>\n",
              "      <td>1 year</td>\n",
              "      <td>4 years</td>\n",
              "      <td>NaN</td>\n",
              "      <td>1</td>\n",
              "      <td>Low</td>\n",
              "      <td>0</td>\n",
              "      <td>2 lac</td>\n",
              "    </tr>\n",
              "    <tr>\n",
              "      <th>2</th>\n",
              "      <td>1432761</td>\n",
              "      <td>49</td>\n",
              "      <td>male</td>\n",
              "      <td>single</td>\n",
              "      <td>2</td>\n",
              "      <td>own</td>\n",
              "      <td>3</td>\n",
              "      <td>unskilled - resident</td>\n",
              "      <td>4 years</td>\n",
              "      <td>7 years</td>\n",
              "      <td>NaN</td>\n",
              "      <td>1</td>\n",
              "      <td>Low</td>\n",
              "      <td>NaN</td>\n",
              "      <td>NaN</td>\n",
              "    </tr>\n",
              "    <tr>\n",
              "      <th>3</th>\n",
              "      <td>1207582</td>\n",
              "      <td>45</td>\n",
              "      <td>male</td>\n",
              "      <td>single</td>\n",
              "      <td>2</td>\n",
              "      <td>for free</td>\n",
              "      <td>4</td>\n",
              "      <td>skilled employee / official</td>\n",
              "      <td>4 years</td>\n",
              "      <td>7 years</td>\n",
              "      <td>NaN</td>\n",
              "      <td>1</td>\n",
              "      <td>Low</td>\n",
              "      <td>NaN</td>\n",
              "      <td>0</td>\n",
              "    </tr>\n",
              "    <tr>\n",
              "      <th>4</th>\n",
              "      <td>1674436</td>\n",
              "      <td>53</td>\n",
              "      <td>male</td>\n",
              "      <td>single</td>\n",
              "      <td>2</td>\n",
              "      <td>for free</td>\n",
              "      <td>4</td>\n",
              "      <td>skilled employee / official</td>\n",
              "      <td>1 year</td>\n",
              "      <td>4 years</td>\n",
              "      <td>NaN</td>\n",
              "      <td>1</td>\n",
              "      <td>Low</td>\n",
              "      <td>NaN</td>\n",
              "      <td>0</td>\n",
              "    </tr>\n",
              "  </tbody>\n",
              "</table>\n",
              "</div>\n",
              "      <button class=\"colab-df-convert\" onclick=\"convertToInteractive('df-62596ec9-f628-4ef8-bd71-e7d97da08b01')\"\n",
              "              title=\"Convert this dataframe to an interactive table.\"\n",
              "              style=\"display:none;\">\n",
              "        \n",
              "  <svg xmlns=\"http://www.w3.org/2000/svg\" height=\"24px\"viewBox=\"0 0 24 24\"\n",
              "       width=\"24px\">\n",
              "    <path d=\"M0 0h24v24H0V0z\" fill=\"none\"/>\n",
              "    <path d=\"M18.56 5.44l.94 2.06.94-2.06 2.06-.94-2.06-.94-.94-2.06-.94 2.06-2.06.94zm-11 1L8.5 8.5l.94-2.06 2.06-.94-2.06-.94L8.5 2.5l-.94 2.06-2.06.94zm10 10l.94 2.06.94-2.06 2.06-.94-2.06-.94-.94-2.06-.94 2.06-2.06.94z\"/><path d=\"M17.41 7.96l-1.37-1.37c-.4-.4-.92-.59-1.43-.59-.52 0-1.04.2-1.43.59L10.3 9.45l-7.72 7.72c-.78.78-.78 2.05 0 2.83L4 21.41c.39.39.9.59 1.41.59.51 0 1.02-.2 1.41-.59l7.78-7.78 2.81-2.81c.8-.78.8-2.07 0-2.86zM5.41 20L4 18.59l7.72-7.72 1.47 1.35L5.41 20z\"/>\n",
              "  </svg>\n",
              "      </button>\n",
              "      \n",
              "  <style>\n",
              "    .colab-df-container {\n",
              "      display:flex;\n",
              "      flex-wrap:wrap;\n",
              "      gap: 12px;\n",
              "    }\n",
              "\n",
              "    .colab-df-convert {\n",
              "      background-color: #E8F0FE;\n",
              "      border: none;\n",
              "      border-radius: 50%;\n",
              "      cursor: pointer;\n",
              "      display: none;\n",
              "      fill: #1967D2;\n",
              "      height: 32px;\n",
              "      padding: 0 0 0 0;\n",
              "      width: 32px;\n",
              "    }\n",
              "\n",
              "    .colab-df-convert:hover {\n",
              "      background-color: #E2EBFA;\n",
              "      box-shadow: 0px 1px 2px rgba(60, 64, 67, 0.3), 0px 1px 3px 1px rgba(60, 64, 67, 0.15);\n",
              "      fill: #174EA6;\n",
              "    }\n",
              "\n",
              "    [theme=dark] .colab-df-convert {\n",
              "      background-color: #3B4455;\n",
              "      fill: #D2E3FC;\n",
              "    }\n",
              "\n",
              "    [theme=dark] .colab-df-convert:hover {\n",
              "      background-color: #434B5C;\n",
              "      box-shadow: 0px 1px 3px 1px rgba(0, 0, 0, 0.15);\n",
              "      filter: drop-shadow(0px 1px 2px rgba(0, 0, 0, 0.3));\n",
              "      fill: #FFFFFF;\n",
              "    }\n",
              "  </style>\n",
              "\n",
              "      <script>\n",
              "        const buttonEl =\n",
              "          document.querySelector('#df-62596ec9-f628-4ef8-bd71-e7d97da08b01 button.colab-df-convert');\n",
              "        buttonEl.style.display =\n",
              "          google.colab.kernel.accessAllowed ? 'block' : 'none';\n",
              "\n",
              "        async function convertToInteractive(key) {\n",
              "          const element = document.querySelector('#df-62596ec9-f628-4ef8-bd71-e7d97da08b01');\n",
              "          const dataTable =\n",
              "            await google.colab.kernel.invokeFunction('convertToInteractive',\n",
              "                                                     [key], {});\n",
              "          if (!dataTable) return;\n",
              "\n",
              "          const docLinkHtml = 'Like what you see? Visit the ' +\n",
              "            '<a target=\"_blank\" href=https://colab.research.google.com/notebooks/data_table.ipynb>data table notebook</a>'\n",
              "            + ' to learn more about interactive tables.';\n",
              "          element.innerHTML = '';\n",
              "          dataTable['output_type'] = 'display_data';\n",
              "          await google.colab.output.renderOutput(dataTable, element);\n",
              "          const docLink = document.createElement('div');\n",
              "          docLink.innerHTML = docLinkHtml;\n",
              "          element.appendChild(docLink);\n",
              "        }\n",
              "      </script>\n",
              "    </div>\n",
              "  </div>\n",
              "  "
            ]
          },
          "metadata": {},
          "execution_count": 3
        }
      ]
    },
    {
      "cell_type": "code",
      "source": [
        "loan.head()"
      ],
      "metadata": {
        "colab": {
          "base_uri": "https://localhost:8080/",
          "height": 478
        },
        "id": "I_DA0w4lyTq5",
        "outputId": "052d5000-2572-460f-ce97-54598dd77966"
      },
      "execution_count": null,
      "outputs": [
        {
          "output_type": "execute_result",
          "data": {
            "text/plain": [
              "                    loan_application_id  applicant_id  Months_loan_taken_for  \\\n",
              "0  d68d975e-edad-11ea-8761-1d6f9c1ff461       1469590                      6   \n",
              "1  d68d989e-edad-11ea-b1d5-2bcf65006448       1203873                     48   \n",
              "2  d68d995c-edad-11ea-814a-1b6716782575       1432761                     12   \n",
              "3  d68d99fc-edad-11ea-8841-17e8848060ae       1207582                     42   \n",
              "4  d68d9a92-edad-11ea-9f3d-1f8682db006a       1674436                     24   \n",
              "\n",
              "                Purpose  Principal_loan_amount  \\\n",
              "0  electronic equipment                1169000   \n",
              "1  electronic equipment                5951000   \n",
              "2             education                2096000   \n",
              "3                  FF&E                7882000   \n",
              "4           new vehicle                4870000   \n",
              "\n",
              "   EMI_rate_in_percentage_of_disposable_income  \\\n",
              "0                                            4   \n",
              "1                                            2   \n",
              "2                                            2   \n",
              "3                                            2   \n",
              "4                                            3   \n",
              "\n",
              "                                            Property  Has_coapplicant  \\\n",
              "0                                        real estate                0   \n",
              "1                                        real estate                0   \n",
              "2                                        real estate                0   \n",
              "3  building society savings agreement/life insurance                0   \n",
              "4                                                NaN                0   \n",
              "\n",
              "   Has_guarantor Other_EMI_plans  Number_of_existing_loans_at_this_bank  \\\n",
              "0              0             NaN                                      2   \n",
              "1              0             NaN                                      1   \n",
              "2              0             NaN                                      1   \n",
              "3              1             NaN                                      1   \n",
              "4              0             NaN                                      2   \n",
              "\n",
              "                             Loan_history  high_risk_applicant  \n",
              "0   critical/pending loans at other banks                    0  \n",
              "1  existing loans paid back duly till now                    1  \n",
              "2   critical/pending loans at other banks                    0  \n",
              "3  existing loans paid back duly till now                    0  \n",
              "4   delay in paying off loans in the past                    1  "
            ],
            "text/html": [
              "\n",
              "  <div id=\"df-2ec98f13-2ebe-44d5-b8e3-355c5bb93418\">\n",
              "    <div class=\"colab-df-container\">\n",
              "      <div>\n",
              "<style scoped>\n",
              "    .dataframe tbody tr th:only-of-type {\n",
              "        vertical-align: middle;\n",
              "    }\n",
              "\n",
              "    .dataframe tbody tr th {\n",
              "        vertical-align: top;\n",
              "    }\n",
              "\n",
              "    .dataframe thead th {\n",
              "        text-align: right;\n",
              "    }\n",
              "</style>\n",
              "<table border=\"1\" class=\"dataframe\">\n",
              "  <thead>\n",
              "    <tr style=\"text-align: right;\">\n",
              "      <th></th>\n",
              "      <th>loan_application_id</th>\n",
              "      <th>applicant_id</th>\n",
              "      <th>Months_loan_taken_for</th>\n",
              "      <th>Purpose</th>\n",
              "      <th>Principal_loan_amount</th>\n",
              "      <th>EMI_rate_in_percentage_of_disposable_income</th>\n",
              "      <th>Property</th>\n",
              "      <th>Has_coapplicant</th>\n",
              "      <th>Has_guarantor</th>\n",
              "      <th>Other_EMI_plans</th>\n",
              "      <th>Number_of_existing_loans_at_this_bank</th>\n",
              "      <th>Loan_history</th>\n",
              "      <th>high_risk_applicant</th>\n",
              "    </tr>\n",
              "  </thead>\n",
              "  <tbody>\n",
              "    <tr>\n",
              "      <th>0</th>\n",
              "      <td>d68d975e-edad-11ea-8761-1d6f9c1ff461</td>\n",
              "      <td>1469590</td>\n",
              "      <td>6</td>\n",
              "      <td>electronic equipment</td>\n",
              "      <td>1169000</td>\n",
              "      <td>4</td>\n",
              "      <td>real estate</td>\n",
              "      <td>0</td>\n",
              "      <td>0</td>\n",
              "      <td>NaN</td>\n",
              "      <td>2</td>\n",
              "      <td>critical/pending loans at other banks</td>\n",
              "      <td>0</td>\n",
              "    </tr>\n",
              "    <tr>\n",
              "      <th>1</th>\n",
              "      <td>d68d989e-edad-11ea-b1d5-2bcf65006448</td>\n",
              "      <td>1203873</td>\n",
              "      <td>48</td>\n",
              "      <td>electronic equipment</td>\n",
              "      <td>5951000</td>\n",
              "      <td>2</td>\n",
              "      <td>real estate</td>\n",
              "      <td>0</td>\n",
              "      <td>0</td>\n",
              "      <td>NaN</td>\n",
              "      <td>1</td>\n",
              "      <td>existing loans paid back duly till now</td>\n",
              "      <td>1</td>\n",
              "    </tr>\n",
              "    <tr>\n",
              "      <th>2</th>\n",
              "      <td>d68d995c-edad-11ea-814a-1b6716782575</td>\n",
              "      <td>1432761</td>\n",
              "      <td>12</td>\n",
              "      <td>education</td>\n",
              "      <td>2096000</td>\n",
              "      <td>2</td>\n",
              "      <td>real estate</td>\n",
              "      <td>0</td>\n",
              "      <td>0</td>\n",
              "      <td>NaN</td>\n",
              "      <td>1</td>\n",
              "      <td>critical/pending loans at other banks</td>\n",
              "      <td>0</td>\n",
              "    </tr>\n",
              "    <tr>\n",
              "      <th>3</th>\n",
              "      <td>d68d99fc-edad-11ea-8841-17e8848060ae</td>\n",
              "      <td>1207582</td>\n",
              "      <td>42</td>\n",
              "      <td>FF&amp;E</td>\n",
              "      <td>7882000</td>\n",
              "      <td>2</td>\n",
              "      <td>building society savings agreement/life insurance</td>\n",
              "      <td>0</td>\n",
              "      <td>1</td>\n",
              "      <td>NaN</td>\n",
              "      <td>1</td>\n",
              "      <td>existing loans paid back duly till now</td>\n",
              "      <td>0</td>\n",
              "    </tr>\n",
              "    <tr>\n",
              "      <th>4</th>\n",
              "      <td>d68d9a92-edad-11ea-9f3d-1f8682db006a</td>\n",
              "      <td>1674436</td>\n",
              "      <td>24</td>\n",
              "      <td>new vehicle</td>\n",
              "      <td>4870000</td>\n",
              "      <td>3</td>\n",
              "      <td>NaN</td>\n",
              "      <td>0</td>\n",
              "      <td>0</td>\n",
              "      <td>NaN</td>\n",
              "      <td>2</td>\n",
              "      <td>delay in paying off loans in the past</td>\n",
              "      <td>1</td>\n",
              "    </tr>\n",
              "  </tbody>\n",
              "</table>\n",
              "</div>\n",
              "      <button class=\"colab-df-convert\" onclick=\"convertToInteractive('df-2ec98f13-2ebe-44d5-b8e3-355c5bb93418')\"\n",
              "              title=\"Convert this dataframe to an interactive table.\"\n",
              "              style=\"display:none;\">\n",
              "        \n",
              "  <svg xmlns=\"http://www.w3.org/2000/svg\" height=\"24px\"viewBox=\"0 0 24 24\"\n",
              "       width=\"24px\">\n",
              "    <path d=\"M0 0h24v24H0V0z\" fill=\"none\"/>\n",
              "    <path d=\"M18.56 5.44l.94 2.06.94-2.06 2.06-.94-2.06-.94-.94-2.06-.94 2.06-2.06.94zm-11 1L8.5 8.5l.94-2.06 2.06-.94-2.06-.94L8.5 2.5l-.94 2.06-2.06.94zm10 10l.94 2.06.94-2.06 2.06-.94-2.06-.94-.94-2.06-.94 2.06-2.06.94z\"/><path d=\"M17.41 7.96l-1.37-1.37c-.4-.4-.92-.59-1.43-.59-.52 0-1.04.2-1.43.59L10.3 9.45l-7.72 7.72c-.78.78-.78 2.05 0 2.83L4 21.41c.39.39.9.59 1.41.59.51 0 1.02-.2 1.41-.59l7.78-7.78 2.81-2.81c.8-.78.8-2.07 0-2.86zM5.41 20L4 18.59l7.72-7.72 1.47 1.35L5.41 20z\"/>\n",
              "  </svg>\n",
              "      </button>\n",
              "      \n",
              "  <style>\n",
              "    .colab-df-container {\n",
              "      display:flex;\n",
              "      flex-wrap:wrap;\n",
              "      gap: 12px;\n",
              "    }\n",
              "\n",
              "    .colab-df-convert {\n",
              "      background-color: #E8F0FE;\n",
              "      border: none;\n",
              "      border-radius: 50%;\n",
              "      cursor: pointer;\n",
              "      display: none;\n",
              "      fill: #1967D2;\n",
              "      height: 32px;\n",
              "      padding: 0 0 0 0;\n",
              "      width: 32px;\n",
              "    }\n",
              "\n",
              "    .colab-df-convert:hover {\n",
              "      background-color: #E2EBFA;\n",
              "      box-shadow: 0px 1px 2px rgba(60, 64, 67, 0.3), 0px 1px 3px 1px rgba(60, 64, 67, 0.15);\n",
              "      fill: #174EA6;\n",
              "    }\n",
              "\n",
              "    [theme=dark] .colab-df-convert {\n",
              "      background-color: #3B4455;\n",
              "      fill: #D2E3FC;\n",
              "    }\n",
              "\n",
              "    [theme=dark] .colab-df-convert:hover {\n",
              "      background-color: #434B5C;\n",
              "      box-shadow: 0px 1px 3px 1px rgba(0, 0, 0, 0.15);\n",
              "      filter: drop-shadow(0px 1px 2px rgba(0, 0, 0, 0.3));\n",
              "      fill: #FFFFFF;\n",
              "    }\n",
              "  </style>\n",
              "\n",
              "      <script>\n",
              "        const buttonEl =\n",
              "          document.querySelector('#df-2ec98f13-2ebe-44d5-b8e3-355c5bb93418 button.colab-df-convert');\n",
              "        buttonEl.style.display =\n",
              "          google.colab.kernel.accessAllowed ? 'block' : 'none';\n",
              "\n",
              "        async function convertToInteractive(key) {\n",
              "          const element = document.querySelector('#df-2ec98f13-2ebe-44d5-b8e3-355c5bb93418');\n",
              "          const dataTable =\n",
              "            await google.colab.kernel.invokeFunction('convertToInteractive',\n",
              "                                                     [key], {});\n",
              "          if (!dataTable) return;\n",
              "\n",
              "          const docLinkHtml = 'Like what you see? Visit the ' +\n",
              "            '<a target=\"_blank\" href=https://colab.research.google.com/notebooks/data_table.ipynb>data table notebook</a>'\n",
              "            + ' to learn more about interactive tables.';\n",
              "          element.innerHTML = '';\n",
              "          dataTable['output_type'] = 'display_data';\n",
              "          await google.colab.output.renderOutput(dataTable, element);\n",
              "          const docLink = document.createElement('div');\n",
              "          docLink.innerHTML = docLinkHtml;\n",
              "          element.appendChild(docLink);\n",
              "        }\n",
              "      </script>\n",
              "    </div>\n",
              "  </div>\n",
              "  "
            ]
          },
          "metadata": {},
          "execution_count": 4
        }
      ]
    },
    {
      "cell_type": "code",
      "source": [
        "data = pd.merge(app, loan)"
      ],
      "metadata": {
        "id": "3R2Lx801XbG3"
      },
      "execution_count": null,
      "outputs": []
    },
    {
      "cell_type": "code",
      "source": [
        "data.head()"
      ],
      "metadata": {
        "colab": {
          "base_uri": "https://localhost:8080/",
          "height": 508
        },
        "id": "-lkfi9wtxPjV",
        "outputId": "1027906e-2139-46af-82a5-a0ed24418a2c"
      },
      "execution_count": null,
      "outputs": [
        {
          "output_type": "execute_result",
          "data": {
            "text/plain": [
              "   applicant_id  Primary_applicant_age_in_years  Gender  \\\n",
              "0       1469590                              67    male   \n",
              "1       1203873                              22  female   \n",
              "2       1432761                              49    male   \n",
              "3       1207582                              45    male   \n",
              "4       1674436                              53    male   \n",
              "\n",
              "               Marital_status  Number_of_dependents   Housing  \\\n",
              "0                      single                     1       own   \n",
              "1  divorced/separated/married                     1       own   \n",
              "2                      single                     2       own   \n",
              "3                      single                     2  for free   \n",
              "4                      single                     2  for free   \n",
              "\n",
              "   Years_at_current_residence            Employment_status  \\\n",
              "0                           4  skilled employee / official   \n",
              "1                           2  skilled employee / official   \n",
              "2                           3         unskilled - resident   \n",
              "3                           4  skilled employee / official   \n",
              "4                           4  skilled employee / official   \n",
              "\n",
              "  Has_been_employed_for_at_least Has_been_employed_for_at_most  ...  \\\n",
              "0                        7 years                           NaN  ...   \n",
              "1                         1 year                       4 years  ...   \n",
              "2                        4 years                       7 years  ...   \n",
              "3                        4 years                       7 years  ...   \n",
              "4                         1 year                       4 years  ...   \n",
              "\n",
              "                Purpose  Principal_loan_amount  \\\n",
              "0  electronic equipment                1169000   \n",
              "1  electronic equipment                5951000   \n",
              "2             education                2096000   \n",
              "3                  FF&E                7882000   \n",
              "4           new vehicle                4870000   \n",
              "\n",
              "  EMI_rate_in_percentage_of_disposable_income  \\\n",
              "0                                           4   \n",
              "1                                           2   \n",
              "2                                           2   \n",
              "3                                           2   \n",
              "4                                           3   \n",
              "\n",
              "                                            Property Has_coapplicant  \\\n",
              "0                                        real estate               0   \n",
              "1                                        real estate               0   \n",
              "2                                        real estate               0   \n",
              "3  building society savings agreement/life insurance               0   \n",
              "4                                                NaN               0   \n",
              "\n",
              "  Has_guarantor  Other_EMI_plans Number_of_existing_loans_at_this_bank  \\\n",
              "0             0              NaN                                     2   \n",
              "1             0              NaN                                     1   \n",
              "2             0              NaN                                     1   \n",
              "3             1              NaN                                     1   \n",
              "4             0              NaN                                     2   \n",
              "\n",
              "                             Loan_history  high_risk_applicant  \n",
              "0   critical/pending loans at other banks                    0  \n",
              "1  existing loans paid back duly till now                    1  \n",
              "2   critical/pending loans at other banks                    0  \n",
              "3  existing loans paid back duly till now                    0  \n",
              "4   delay in paying off loans in the past                    1  \n",
              "\n",
              "[5 rows x 27 columns]"
            ],
            "text/html": [
              "\n",
              "  <div id=\"df-4165075a-ed7a-4e7c-92f4-b7f0631452c9\">\n",
              "    <div class=\"colab-df-container\">\n",
              "      <div>\n",
              "<style scoped>\n",
              "    .dataframe tbody tr th:only-of-type {\n",
              "        vertical-align: middle;\n",
              "    }\n",
              "\n",
              "    .dataframe tbody tr th {\n",
              "        vertical-align: top;\n",
              "    }\n",
              "\n",
              "    .dataframe thead th {\n",
              "        text-align: right;\n",
              "    }\n",
              "</style>\n",
              "<table border=\"1\" class=\"dataframe\">\n",
              "  <thead>\n",
              "    <tr style=\"text-align: right;\">\n",
              "      <th></th>\n",
              "      <th>applicant_id</th>\n",
              "      <th>Primary_applicant_age_in_years</th>\n",
              "      <th>Gender</th>\n",
              "      <th>Marital_status</th>\n",
              "      <th>Number_of_dependents</th>\n",
              "      <th>Housing</th>\n",
              "      <th>Years_at_current_residence</th>\n",
              "      <th>Employment_status</th>\n",
              "      <th>Has_been_employed_for_at_least</th>\n",
              "      <th>Has_been_employed_for_at_most</th>\n",
              "      <th>...</th>\n",
              "      <th>Purpose</th>\n",
              "      <th>Principal_loan_amount</th>\n",
              "      <th>EMI_rate_in_percentage_of_disposable_income</th>\n",
              "      <th>Property</th>\n",
              "      <th>Has_coapplicant</th>\n",
              "      <th>Has_guarantor</th>\n",
              "      <th>Other_EMI_plans</th>\n",
              "      <th>Number_of_existing_loans_at_this_bank</th>\n",
              "      <th>Loan_history</th>\n",
              "      <th>high_risk_applicant</th>\n",
              "    </tr>\n",
              "  </thead>\n",
              "  <tbody>\n",
              "    <tr>\n",
              "      <th>0</th>\n",
              "      <td>1469590</td>\n",
              "      <td>67</td>\n",
              "      <td>male</td>\n",
              "      <td>single</td>\n",
              "      <td>1</td>\n",
              "      <td>own</td>\n",
              "      <td>4</td>\n",
              "      <td>skilled employee / official</td>\n",
              "      <td>7 years</td>\n",
              "      <td>NaN</td>\n",
              "      <td>...</td>\n",
              "      <td>electronic equipment</td>\n",
              "      <td>1169000</td>\n",
              "      <td>4</td>\n",
              "      <td>real estate</td>\n",
              "      <td>0</td>\n",
              "      <td>0</td>\n",
              "      <td>NaN</td>\n",
              "      <td>2</td>\n",
              "      <td>critical/pending loans at other banks</td>\n",
              "      <td>0</td>\n",
              "    </tr>\n",
              "    <tr>\n",
              "      <th>1</th>\n",
              "      <td>1203873</td>\n",
              "      <td>22</td>\n",
              "      <td>female</td>\n",
              "      <td>divorced/separated/married</td>\n",
              "      <td>1</td>\n",
              "      <td>own</td>\n",
              "      <td>2</td>\n",
              "      <td>skilled employee / official</td>\n",
              "      <td>1 year</td>\n",
              "      <td>4 years</td>\n",
              "      <td>...</td>\n",
              "      <td>electronic equipment</td>\n",
              "      <td>5951000</td>\n",
              "      <td>2</td>\n",
              "      <td>real estate</td>\n",
              "      <td>0</td>\n",
              "      <td>0</td>\n",
              "      <td>NaN</td>\n",
              "      <td>1</td>\n",
              "      <td>existing loans paid back duly till now</td>\n",
              "      <td>1</td>\n",
              "    </tr>\n",
              "    <tr>\n",
              "      <th>2</th>\n",
              "      <td>1432761</td>\n",
              "      <td>49</td>\n",
              "      <td>male</td>\n",
              "      <td>single</td>\n",
              "      <td>2</td>\n",
              "      <td>own</td>\n",
              "      <td>3</td>\n",
              "      <td>unskilled - resident</td>\n",
              "      <td>4 years</td>\n",
              "      <td>7 years</td>\n",
              "      <td>...</td>\n",
              "      <td>education</td>\n",
              "      <td>2096000</td>\n",
              "      <td>2</td>\n",
              "      <td>real estate</td>\n",
              "      <td>0</td>\n",
              "      <td>0</td>\n",
              "      <td>NaN</td>\n",
              "      <td>1</td>\n",
              "      <td>critical/pending loans at other banks</td>\n",
              "      <td>0</td>\n",
              "    </tr>\n",
              "    <tr>\n",
              "      <th>3</th>\n",
              "      <td>1207582</td>\n",
              "      <td>45</td>\n",
              "      <td>male</td>\n",
              "      <td>single</td>\n",
              "      <td>2</td>\n",
              "      <td>for free</td>\n",
              "      <td>4</td>\n",
              "      <td>skilled employee / official</td>\n",
              "      <td>4 years</td>\n",
              "      <td>7 years</td>\n",
              "      <td>...</td>\n",
              "      <td>FF&amp;E</td>\n",
              "      <td>7882000</td>\n",
              "      <td>2</td>\n",
              "      <td>building society savings agreement/life insurance</td>\n",
              "      <td>0</td>\n",
              "      <td>1</td>\n",
              "      <td>NaN</td>\n",
              "      <td>1</td>\n",
              "      <td>existing loans paid back duly till now</td>\n",
              "      <td>0</td>\n",
              "    </tr>\n",
              "    <tr>\n",
              "      <th>4</th>\n",
              "      <td>1674436</td>\n",
              "      <td>53</td>\n",
              "      <td>male</td>\n",
              "      <td>single</td>\n",
              "      <td>2</td>\n",
              "      <td>for free</td>\n",
              "      <td>4</td>\n",
              "      <td>skilled employee / official</td>\n",
              "      <td>1 year</td>\n",
              "      <td>4 years</td>\n",
              "      <td>...</td>\n",
              "      <td>new vehicle</td>\n",
              "      <td>4870000</td>\n",
              "      <td>3</td>\n",
              "      <td>NaN</td>\n",
              "      <td>0</td>\n",
              "      <td>0</td>\n",
              "      <td>NaN</td>\n",
              "      <td>2</td>\n",
              "      <td>delay in paying off loans in the past</td>\n",
              "      <td>1</td>\n",
              "    </tr>\n",
              "  </tbody>\n",
              "</table>\n",
              "<p>5 rows × 27 columns</p>\n",
              "</div>\n",
              "      <button class=\"colab-df-convert\" onclick=\"convertToInteractive('df-4165075a-ed7a-4e7c-92f4-b7f0631452c9')\"\n",
              "              title=\"Convert this dataframe to an interactive table.\"\n",
              "              style=\"display:none;\">\n",
              "        \n",
              "  <svg xmlns=\"http://www.w3.org/2000/svg\" height=\"24px\"viewBox=\"0 0 24 24\"\n",
              "       width=\"24px\">\n",
              "    <path d=\"M0 0h24v24H0V0z\" fill=\"none\"/>\n",
              "    <path d=\"M18.56 5.44l.94 2.06.94-2.06 2.06-.94-2.06-.94-.94-2.06-.94 2.06-2.06.94zm-11 1L8.5 8.5l.94-2.06 2.06-.94-2.06-.94L8.5 2.5l-.94 2.06-2.06.94zm10 10l.94 2.06.94-2.06 2.06-.94-2.06-.94-.94-2.06-.94 2.06-2.06.94z\"/><path d=\"M17.41 7.96l-1.37-1.37c-.4-.4-.92-.59-1.43-.59-.52 0-1.04.2-1.43.59L10.3 9.45l-7.72 7.72c-.78.78-.78 2.05 0 2.83L4 21.41c.39.39.9.59 1.41.59.51 0 1.02-.2 1.41-.59l7.78-7.78 2.81-2.81c.8-.78.8-2.07 0-2.86zM5.41 20L4 18.59l7.72-7.72 1.47 1.35L5.41 20z\"/>\n",
              "  </svg>\n",
              "      </button>\n",
              "      \n",
              "  <style>\n",
              "    .colab-df-container {\n",
              "      display:flex;\n",
              "      flex-wrap:wrap;\n",
              "      gap: 12px;\n",
              "    }\n",
              "\n",
              "    .colab-df-convert {\n",
              "      background-color: #E8F0FE;\n",
              "      border: none;\n",
              "      border-radius: 50%;\n",
              "      cursor: pointer;\n",
              "      display: none;\n",
              "      fill: #1967D2;\n",
              "      height: 32px;\n",
              "      padding: 0 0 0 0;\n",
              "      width: 32px;\n",
              "    }\n",
              "\n",
              "    .colab-df-convert:hover {\n",
              "      background-color: #E2EBFA;\n",
              "      box-shadow: 0px 1px 2px rgba(60, 64, 67, 0.3), 0px 1px 3px 1px rgba(60, 64, 67, 0.15);\n",
              "      fill: #174EA6;\n",
              "    }\n",
              "\n",
              "    [theme=dark] .colab-df-convert {\n",
              "      background-color: #3B4455;\n",
              "      fill: #D2E3FC;\n",
              "    }\n",
              "\n",
              "    [theme=dark] .colab-df-convert:hover {\n",
              "      background-color: #434B5C;\n",
              "      box-shadow: 0px 1px 3px 1px rgba(0, 0, 0, 0.15);\n",
              "      filter: drop-shadow(0px 1px 2px rgba(0, 0, 0, 0.3));\n",
              "      fill: #FFFFFF;\n",
              "    }\n",
              "  </style>\n",
              "\n",
              "      <script>\n",
              "        const buttonEl =\n",
              "          document.querySelector('#df-4165075a-ed7a-4e7c-92f4-b7f0631452c9 button.colab-df-convert');\n",
              "        buttonEl.style.display =\n",
              "          google.colab.kernel.accessAllowed ? 'block' : 'none';\n",
              "\n",
              "        async function convertToInteractive(key) {\n",
              "          const element = document.querySelector('#df-4165075a-ed7a-4e7c-92f4-b7f0631452c9');\n",
              "          const dataTable =\n",
              "            await google.colab.kernel.invokeFunction('convertToInteractive',\n",
              "                                                     [key], {});\n",
              "          if (!dataTable) return;\n",
              "\n",
              "          const docLinkHtml = 'Like what you see? Visit the ' +\n",
              "            '<a target=\"_blank\" href=https://colab.research.google.com/notebooks/data_table.ipynb>data table notebook</a>'\n",
              "            + ' to learn more about interactive tables.';\n",
              "          element.innerHTML = '';\n",
              "          dataTable['output_type'] = 'display_data';\n",
              "          await google.colab.output.renderOutput(dataTable, element);\n",
              "          const docLink = document.createElement('div');\n",
              "          docLink.innerHTML = docLinkHtml;\n",
              "          element.appendChild(docLink);\n",
              "        }\n",
              "      </script>\n",
              "    </div>\n",
              "  </div>\n",
              "  "
            ]
          },
          "metadata": {},
          "execution_count": 6
        }
      ]
    },
    {
      "cell_type": "code",
      "source": [
        "data.shape"
      ],
      "metadata": {
        "colab": {
          "base_uri": "https://localhost:8080/"
        },
        "id": "l7VMW02pyH3r",
        "outputId": "a3ff21b5-1aae-418b-9bbd-b0fb0cbc6ff3"
      },
      "execution_count": null,
      "outputs": [
        {
          "output_type": "execute_result",
          "data": {
            "text/plain": [
              "(1000, 27)"
            ]
          },
          "metadata": {},
          "execution_count": 7
        }
      ]
    },
    {
      "cell_type": "code",
      "source": [
        "data.nunique()"
      ],
      "metadata": {
        "colab": {
          "base_uri": "https://localhost:8080/"
        },
        "id": "SwyR4Xd9RhAV",
        "outputId": "3b7f16a7-58ca-42e1-9542-6f292efb6917"
      },
      "execution_count": null,
      "outputs": [
        {
          "output_type": "execute_result",
          "data": {
            "text/plain": [
              "applicant_id                                                1000\n",
              "Primary_applicant_age_in_years                                53\n",
              "Gender                                                         2\n",
              "Marital_status                                                 4\n",
              "Number_of_dependents                                           2\n",
              "Housing                                                        3\n",
              "Years_at_current_residence                                     4\n",
              "Employment_status                                              4\n",
              "Has_been_employed_for_at_least                                 4\n",
              "Has_been_employed_for_at_most                                  4\n",
              "Telephone                                                      1\n",
              "Foreign_worker                                                 2\n",
              "Savings_account_balance                                        4\n",
              "Balance_in_existing_bank_account_(lower_limit_of_bucket)       2\n",
              "Balance_in_existing_bank_account_(upper_limit_of_bucket)       2\n",
              "loan_application_id                                         1000\n",
              "Months_loan_taken_for                                         33\n",
              "Purpose                                                        9\n",
              "Principal_loan_amount                                        921\n",
              "EMI_rate_in_percentage_of_disposable_income                    4\n",
              "Property                                                       3\n",
              "Has_coapplicant                                                2\n",
              "Has_guarantor                                                  2\n",
              "Other_EMI_plans                                                2\n",
              "Number_of_existing_loans_at_this_bank                          4\n",
              "Loan_history                                                   5\n",
              "high_risk_applicant                                            2\n",
              "dtype: int64"
            ]
          },
          "metadata": {},
          "execution_count": 8
        }
      ]
    },
    {
      "cell_type": "code",
      "source": [
        "data.info()"
      ],
      "metadata": {
        "colab": {
          "base_uri": "https://localhost:8080/"
        },
        "id": "cdcIkQWKyMn7",
        "outputId": "18cbeb43-30eb-4b60-91b4-49bd8f62060d"
      },
      "execution_count": null,
      "outputs": [
        {
          "output_type": "stream",
          "name": "stdout",
          "text": [
            "<class 'pandas.core.frame.DataFrame'>\n",
            "Int64Index: 1000 entries, 0 to 999\n",
            "Data columns (total 27 columns):\n",
            " #   Column                                                    Non-Null Count  Dtype \n",
            "---  ------                                                    --------------  ----- \n",
            " 0   applicant_id                                              1000 non-null   int64 \n",
            " 1   Primary_applicant_age_in_years                            1000 non-null   int64 \n",
            " 2   Gender                                                    1000 non-null   object\n",
            " 3   Marital_status                                            1000 non-null   object\n",
            " 4   Number_of_dependents                                      1000 non-null   int64 \n",
            " 5   Housing                                                   1000 non-null   object\n",
            " 6   Years_at_current_residence                                1000 non-null   int64 \n",
            " 7   Employment_status                                         1000 non-null   object\n",
            " 8   Has_been_employed_for_at_least                            938 non-null    object\n",
            " 9   Has_been_employed_for_at_most                             747 non-null    object\n",
            " 10  Telephone                                                 404 non-null    object\n",
            " 11  Foreign_worker                                            1000 non-null   int64 \n",
            " 12  Savings_account_balance                                   817 non-null    object\n",
            " 13  Balance_in_existing_bank_account_(lower_limit_of_bucket)  332 non-null    object\n",
            " 14  Balance_in_existing_bank_account_(upper_limit_of_bucket)  543 non-null    object\n",
            " 15  loan_application_id                                       1000 non-null   object\n",
            " 16  Months_loan_taken_for                                     1000 non-null   int64 \n",
            " 17  Purpose                                                   988 non-null    object\n",
            " 18  Principal_loan_amount                                     1000 non-null   int64 \n",
            " 19  EMI_rate_in_percentage_of_disposable_income               1000 non-null   int64 \n",
            " 20  Property                                                  846 non-null    object\n",
            " 21  Has_coapplicant                                           1000 non-null   int64 \n",
            " 22  Has_guarantor                                             1000 non-null   int64 \n",
            " 23  Other_EMI_plans                                           186 non-null    object\n",
            " 24  Number_of_existing_loans_at_this_bank                     1000 non-null   int64 \n",
            " 25  Loan_history                                              1000 non-null   object\n",
            " 26  high_risk_applicant                                       1000 non-null   int64 \n",
            "dtypes: int64(12), object(15)\n",
            "memory usage: 218.8+ KB\n"
          ]
        }
      ]
    },
    {
      "cell_type": "markdown",
      "source": [
        "# Data Cleaning"
      ],
      "metadata": {
        "id": "AYy9_g01_YDG"
      }
    },
    {
      "cell_type": "code",
      "source": [
        "data['Has_been_employed_for_at_least'].unique()"
      ],
      "metadata": {
        "colab": {
          "base_uri": "https://localhost:8080/"
        },
        "id": "SqE2jCTn0Upv",
        "outputId": "b66a4555-4901-4f4b-8181-549b0e1d78c3"
      },
      "execution_count": null,
      "outputs": [
        {
          "output_type": "execute_result",
          "data": {
            "text/plain": [
              "array(['7 years', '1 year', '4 years', nan, '0 year'], dtype=object)"
            ]
          },
          "metadata": {},
          "execution_count": 10
        }
      ]
    },
    {
      "cell_type": "code",
      "source": [
        "data['Has_been_employed_for_at_most'].unique()"
      ],
      "metadata": {
        "colab": {
          "base_uri": "https://localhost:8080/"
        },
        "id": "VYhCeMiK-VU-",
        "outputId": "2b900a3c-13ca-4cf0-ce10-749e2f0269ee"
      },
      "execution_count": null,
      "outputs": [
        {
          "output_type": "execute_result",
          "data": {
            "text/plain": [
              "array([nan, '4 years', '7 years', '0 year', '1 year'], dtype=object)"
            ]
          },
          "metadata": {},
          "execution_count": 11
        }
      ]
    },
    {
      "cell_type": "code",
      "source": [
        "def clean_emp(x):\n",
        "  clean = []\n",
        "  for i in x:\n",
        "    if type(i) == float:\n",
        "      clean.append(np.nan)\n",
        "    else:\n",
        "      clean.append(float(i[0]))\n",
        "  return clean\n",
        "\n",
        "data['Has_been_employed_for_at_least'] = clean_emp(list(data['Has_been_employed_for_at_least']))\n",
        "data['Has_been_employed_for_at_most'] = clean_emp(list(data['Has_been_employed_for_at_most']))"
      ],
      "metadata": {
        "id": "M0s1xTlE-1ut"
      },
      "execution_count": null,
      "outputs": []
    },
    {
      "cell_type": "code",
      "source": [
        "data['Has_been_employed_for_at_most'] = data['Has_been_employed_for_at_most'].fillna(data['Has_been_employed_for_at_most'].median())\n",
        "data['Has_been_employed_for_at_least'] = data['Has_been_employed_for_at_least'].fillna(data['Has_been_employed_for_at_least'].median())"
      ],
      "metadata": {
        "id": "JdhE9uIaBXQz"
      },
      "execution_count": null,
      "outputs": []
    },
    {
      "cell_type": "code",
      "source": [
        "data = data.drop(['Telephone'], axis = 1)\n",
        "data.shape"
      ],
      "metadata": {
        "colab": {
          "base_uri": "https://localhost:8080/"
        },
        "id": "-rdo1m7XDXVV",
        "outputId": "4deed537-21c6-4a8f-8f28-fcc15bdb6f3a"
      },
      "execution_count": null,
      "outputs": [
        {
          "output_type": "execute_result",
          "data": {
            "text/plain": [
              "(1000, 26)"
            ]
          },
          "metadata": {},
          "execution_count": 14
        }
      ]
    },
    {
      "cell_type": "code",
      "source": [
        "data['Savings_account_balance'] = data['Savings_account_balance'].fillna(data['Savings_account_balance'].mode()[0])\n",
        "data['Savings_account_balance'].unique()"
      ],
      "metadata": {
        "colab": {
          "base_uri": "https://localhost:8080/"
        },
        "id": "HI6W5R7GD0zr",
        "outputId": "44c72b23-6045-4689-9ff0-cc56ece030f4"
      },
      "execution_count": null,
      "outputs": [
        {
          "output_type": "execute_result",
          "data": {
            "text/plain": [
              "array(['Low', 'High', 'Very high', 'Medium'], dtype=object)"
            ]
          },
          "metadata": {},
          "execution_count": 15
        }
      ]
    },
    {
      "cell_type": "code",
      "source": [
        "data['Balance_in_existing_bank_account_(lower_limit_of_bucket)'].unique()"
      ],
      "metadata": {
        "id": "1ZYAPZmWEYdk",
        "colab": {
          "base_uri": "https://localhost:8080/"
        },
        "outputId": "41eaf62d-5c53-404b-ceaf-187992a1618f"
      },
      "execution_count": null,
      "outputs": [
        {
          "output_type": "execute_result",
          "data": {
            "text/plain": [
              "array([nan, '0', '2 lac'], dtype=object)"
            ]
          },
          "metadata": {},
          "execution_count": 16
        }
      ]
    },
    {
      "cell_type": "code",
      "source": [
        "data['Balance_in_existing_bank_account_(upper_limit_of_bucket)'].unique()"
      ],
      "metadata": {
        "id": "V7KjTaHnEkgZ",
        "colab": {
          "base_uri": "https://localhost:8080/"
        },
        "outputId": "0a3ee646-4616-423f-db39-8c708044096a"
      },
      "execution_count": null,
      "outputs": [
        {
          "output_type": "execute_result",
          "data": {
            "text/plain": [
              "array(['0', '2 lac', nan], dtype=object)"
            ]
          },
          "metadata": {},
          "execution_count": 17
        }
      ]
    },
    {
      "cell_type": "code",
      "source": [
        "data = data.drop(['Balance_in_existing_bank_account_(upper_limit_of_bucket)', 'Balance_in_existing_bank_account_(lower_limit_of_bucket)'], axis = 1)\n",
        "data.shape"
      ],
      "metadata": {
        "colab": {
          "base_uri": "https://localhost:8080/"
        },
        "id": "hwk3dhzs41l3",
        "outputId": "d87aecd0-f942-4813-f685-edf09942e1ec"
      },
      "execution_count": null,
      "outputs": [
        {
          "output_type": "execute_result",
          "data": {
            "text/plain": [
              "(1000, 24)"
            ]
          },
          "metadata": {},
          "execution_count": 18
        }
      ]
    },
    {
      "cell_type": "code",
      "source": [
        "data.Purpose.unique()"
      ],
      "metadata": {
        "colab": {
          "base_uri": "https://localhost:8080/"
        },
        "id": "FbbR2O3l8sm-",
        "outputId": "3ac15d93-32b7-454c-e62a-f151c6021721"
      },
      "execution_count": null,
      "outputs": [
        {
          "output_type": "execute_result",
          "data": {
            "text/plain": [
              "array(['electronic equipment', 'education', 'FF&E', 'new vehicle',\n",
              "       'used vehicle', 'business', 'domestic appliances', 'repair costs',\n",
              "       nan, 'career development'], dtype=object)"
            ]
          },
          "metadata": {},
          "execution_count": 19
        }
      ]
    },
    {
      "cell_type": "code",
      "source": [
        "data['Purpose'] = data['Purpose'].fillna(data['Purpose'].mode()[0])\n",
        "data.Purpose.value_counts()"
      ],
      "metadata": {
        "colab": {
          "base_uri": "https://localhost:8080/"
        },
        "id": "Br6lk-4q8us4",
        "outputId": "17868bed-beab-4841-d5e7-3ea238d0d850"
      },
      "execution_count": null,
      "outputs": [
        {
          "output_type": "execute_result",
          "data": {
            "text/plain": [
              "electronic equipment    292\n",
              "new vehicle             234\n",
              "FF&E                    181\n",
              "used vehicle            103\n",
              "business                 97\n",
              "education                50\n",
              "repair costs             22\n",
              "domestic appliances      12\n",
              "career development        9\n",
              "Name: Purpose, dtype: int64"
            ]
          },
          "metadata": {},
          "execution_count": 20
        }
      ]
    },
    {
      "cell_type": "code",
      "source": [
        "data.Property.unique()"
      ],
      "metadata": {
        "colab": {
          "base_uri": "https://localhost:8080/"
        },
        "id": "_crx1Wzw9dSK",
        "outputId": "b686cb9a-4eb0-4e5c-f43b-64d3f6ab9858"
      },
      "execution_count": null,
      "outputs": [
        {
          "output_type": "execute_result",
          "data": {
            "text/plain": [
              "array(['real estate', 'building society savings agreement/life insurance',\n",
              "       nan, 'car or other'], dtype=object)"
            ]
          },
          "metadata": {},
          "execution_count": 21
        }
      ]
    },
    {
      "cell_type": "code",
      "source": [
        "data['Property'] = data['Property'].fillna(data['Property'].mode()[0])\n",
        "data.Property.value_counts()"
      ],
      "metadata": {
        "colab": {
          "base_uri": "https://localhost:8080/"
        },
        "id": "ufthim0Z-XfA",
        "outputId": "cc33aacd-021c-4209-f073-b86192504805"
      },
      "execution_count": null,
      "outputs": [
        {
          "output_type": "execute_result",
          "data": {
            "text/plain": [
              "car or other                                         486\n",
              "real estate                                          282\n",
              "building society savings agreement/life insurance    232\n",
              "Name: Property, dtype: int64"
            ]
          },
          "metadata": {},
          "execution_count": 22
        }
      ]
    },
    {
      "cell_type": "code",
      "source": [
        "data.Other_EMI_plans.unique()"
      ],
      "metadata": {
        "colab": {
          "base_uri": "https://localhost:8080/"
        },
        "id": "K2vVDVBr-i92",
        "outputId": "3c1e9f8c-abe4-4683-c324-ac0b4ac7462c"
      },
      "execution_count": null,
      "outputs": [
        {
          "output_type": "execute_result",
          "data": {
            "text/plain": [
              "array([nan, 'bank', 'stores'], dtype=object)"
            ]
          },
          "metadata": {},
          "execution_count": 23
        }
      ]
    },
    {
      "cell_type": "code",
      "source": [
        "data = data.drop(['Other_EMI_plans'], axis = 1)\n",
        "data.shape"
      ],
      "metadata": {
        "colab": {
          "base_uri": "https://localhost:8080/"
        },
        "id": "E8zXnJjF7aP9",
        "outputId": "65046b36-1a66-475e-e46b-87d3661c4b26"
      },
      "execution_count": null,
      "outputs": [
        {
          "output_type": "execute_result",
          "data": {
            "text/plain": [
              "(1000, 23)"
            ]
          },
          "metadata": {},
          "execution_count": 24
        }
      ]
    },
    {
      "cell_type": "code",
      "source": [
        "data.Loan_history.value_counts()"
      ],
      "metadata": {
        "colab": {
          "base_uri": "https://localhost:8080/"
        },
        "id": "wf1mt1tY-0vy",
        "outputId": "aa042d44-f73e-4885-e737-e7463e0c03df"
      },
      "execution_count": null,
      "outputs": [
        {
          "output_type": "execute_result",
          "data": {
            "text/plain": [
              "existing loans paid back duly till now     530\n",
              "critical/pending loans at other banks      293\n",
              "delay in paying off loans in the past       88\n",
              "all loans at this bank paid back duly       49\n",
              "no loans taken/all loans paid back duly     40\n",
              "Name: Loan_history, dtype: int64"
            ]
          },
          "metadata": {},
          "execution_count": 25
        }
      ]
    },
    {
      "cell_type": "markdown",
      "source": [
        "# Data Modelling"
      ],
      "metadata": {
        "id": "5uqjLZ7y77OJ"
      }
    },
    {
      "cell_type": "markdown",
      "source": [
        "Since wee need to decide whether the user is high risk or low risk, it is a categorical analysis with two possible outcomes. Hence, we are going to try 3 different ML models: Logistic Regression, Decision Trees, and Random Forests.\n",
        "\n",
        "For all of them, we will need to convert all required columns into categorical data format."
      ],
      "metadata": {
        "id": "PAFXP8JIzuZe"
      }
    },
    {
      "cell_type": "code",
      "source": [
        "data.info()"
      ],
      "metadata": {
        "colab": {
          "base_uri": "https://localhost:8080/"
        },
        "id": "F_brJVN27en7",
        "outputId": "5a287dba-9033-4a62-c18f-d7878a9d9e68"
      },
      "execution_count": null,
      "outputs": [
        {
          "output_type": "stream",
          "name": "stdout",
          "text": [
            "<class 'pandas.core.frame.DataFrame'>\n",
            "Int64Index: 1000 entries, 0 to 999\n",
            "Data columns (total 23 columns):\n",
            " #   Column                                       Non-Null Count  Dtype  \n",
            "---  ------                                       --------------  -----  \n",
            " 0   applicant_id                                 1000 non-null   int64  \n",
            " 1   Primary_applicant_age_in_years               1000 non-null   int64  \n",
            " 2   Gender                                       1000 non-null   object \n",
            " 3   Marital_status                               1000 non-null   object \n",
            " 4   Number_of_dependents                         1000 non-null   int64  \n",
            " 5   Housing                                      1000 non-null   object \n",
            " 6   Years_at_current_residence                   1000 non-null   int64  \n",
            " 7   Employment_status                            1000 non-null   object \n",
            " 8   Has_been_employed_for_at_least               1000 non-null   float64\n",
            " 9   Has_been_employed_for_at_most                1000 non-null   float64\n",
            " 10  Foreign_worker                               1000 non-null   int64  \n",
            " 11  Savings_account_balance                      1000 non-null   object \n",
            " 12  loan_application_id                          1000 non-null   object \n",
            " 13  Months_loan_taken_for                        1000 non-null   int64  \n",
            " 14  Purpose                                      1000 non-null   object \n",
            " 15  Principal_loan_amount                        1000 non-null   int64  \n",
            " 16  EMI_rate_in_percentage_of_disposable_income  1000 non-null   int64  \n",
            " 17  Property                                     1000 non-null   object \n",
            " 18  Has_coapplicant                              1000 non-null   int64  \n",
            " 19  Has_guarantor                                1000 non-null   int64  \n",
            " 20  Number_of_existing_loans_at_this_bank        1000 non-null   int64  \n",
            " 21  Loan_history                                 1000 non-null   object \n",
            " 22  high_risk_applicant                          1000 non-null   int64  \n",
            "dtypes: float64(2), int64(12), object(9)\n",
            "memory usage: 187.5+ KB\n"
          ]
        }
      ]
    },
    {
      "cell_type": "code",
      "source": [
        "# Identifying non categorical columns and converting to categorical form\n",
        "\n",
        "x = 0\n",
        "for i in data.columns:\n",
        "  print(x, len(data[i].unique()))\n",
        "  x += 1"
      ],
      "metadata": {
        "colab": {
          "base_uri": "https://localhost:8080/"
        },
        "id": "kEpE0l9AyARL",
        "outputId": "6820831b-9d52-46c2-84f2-029e1fb3b75e"
      },
      "execution_count": null,
      "outputs": [
        {
          "output_type": "stream",
          "name": "stdout",
          "text": [
            "0 1000\n",
            "1 53\n",
            "2 2\n",
            "3 4\n",
            "4 2\n",
            "5 3\n",
            "6 4\n",
            "7 4\n",
            "8 4\n",
            "9 4\n",
            "10 2\n",
            "11 4\n",
            "12 1000\n",
            "13 33\n",
            "14 9\n",
            "15 921\n",
            "16 4\n",
            "17 3\n",
            "18 2\n",
            "19 2\n",
            "20 4\n",
            "21 5\n",
            "22 2\n"
          ]
        }
      ]
    },
    {
      "cell_type": "code",
      "source": [
        "# Rwmoving applicant_id for modelling\n",
        "data = data.drop(['applicant_id', 'loan_application_id'], axis = 1)"
      ],
      "metadata": {
        "id": "wXhD5rNF2bcu"
      },
      "execution_count": null,
      "outputs": []
    },
    {
      "cell_type": "code",
      "source": [
        "# Classifying required columns\n",
        "\n",
        "bins = [15, 25, 35, 45, 55, 65, 75]\n",
        "data['Primary_applicant_age_in_years'] = pd.cut(data['Primary_applicant_age_in_years'], bins)\n",
        "data['Primary_applicant_age_in_years'] = data['Primary_applicant_age_in_years'].astype(str)\n",
        "bins = [0, 1000000, 5000000, 10000000, 20000000]\n",
        "data['Principal_loan_amount'] = pd.cut(data['Principal_loan_amount'], bins)\n",
        "data['Principal_loan_amount'] = data['Principal_loan_amount'].astype(str)\n",
        "bins = [0, 12, 24, 36, 48, 60, 72]\n",
        "data['Months_loan_taken_for'] = pd.cut(data['Months_loan_taken_for'], bins)\n",
        "data['Months_loan_taken_for'] = data['Months_loan_taken_for'].astype(str)"
      ],
      "metadata": {
        "id": "kuNSW-8wIYxJ"
      },
      "execution_count": null,
      "outputs": []
    },
    {
      "cell_type": "code",
      "source": [
        "# Extract all the columns which is having object format data\n",
        "col_list=[]\n",
        "for col in data.columns:\n",
        "    if(data[col].dtype=='object'):\n",
        "        col_list.append(col)\n",
        "col_list"
      ],
      "metadata": {
        "id": "LuClgjNJAEJL",
        "colab": {
          "base_uri": "https://localhost:8080/"
        },
        "outputId": "e95d78dc-5c99-4bc5-b087-41ef89f06c79"
      },
      "execution_count": null,
      "outputs": [
        {
          "output_type": "execute_result",
          "data": {
            "text/plain": [
              "['Primary_applicant_age_in_years',\n",
              " 'Gender',\n",
              " 'Marital_status',\n",
              " 'Housing',\n",
              " 'Employment_status',\n",
              " 'Savings_account_balance',\n",
              " 'Months_loan_taken_for',\n",
              " 'Purpose',\n",
              " 'Principal_loan_amount',\n",
              " 'Property',\n",
              " 'Loan_history']"
            ]
          },
          "metadata": {},
          "execution_count": 30
        }
      ]
    },
    {
      "cell_type": "code",
      "source": [
        "le = LabelEncoder()\n",
        "for i in col_list:\n",
        "  data[i] = le.fit_transform(data[i])\n",
        "data.head()"
      ],
      "metadata": {
        "id": "RJGXTE95_15Z",
        "colab": {
          "base_uri": "https://localhost:8080/",
          "height": 299
        },
        "outputId": "cbdc8a03-6ba9-40aa-e0a3-9056466f11a4"
      },
      "execution_count": null,
      "outputs": [
        {
          "output_type": "execute_result",
          "data": {
            "text/plain": [
              "   Primary_applicant_age_in_years  Gender  Marital_status  \\\n",
              "0                               5       1               3   \n",
              "1                               0       0               1   \n",
              "2                               3       1               3   \n",
              "3                               2       1               3   \n",
              "4                               3       1               3   \n",
              "\n",
              "   Number_of_dependents  Housing  Years_at_current_residence  \\\n",
              "0                     1        1                           4   \n",
              "1                     1        1                           2   \n",
              "2                     2        1                           3   \n",
              "3                     2        0                           4   \n",
              "4                     2        0                           4   \n",
              "\n",
              "   Employment_status  Has_been_employed_for_at_least  \\\n",
              "0                  1                             7.0   \n",
              "1                  1                             1.0   \n",
              "2                  3                             4.0   \n",
              "3                  1                             4.0   \n",
              "4                  1                             1.0   \n",
              "\n",
              "   Has_been_employed_for_at_most  Foreign_worker  ...  Months_loan_taken_for  \\\n",
              "0                            4.0               1  ...                      0   \n",
              "1                            4.0               1  ...                      3   \n",
              "2                            7.0               1  ...                      0   \n",
              "3                            7.0               1  ...                      3   \n",
              "4                            4.0               1  ...                      1   \n",
              "\n",
              "   Purpose  Principal_loan_amount  \\\n",
              "0        5                      1   \n",
              "1        5                      3   \n",
              "2        4                      1   \n",
              "3        0                      3   \n",
              "4        6                      1   \n",
              "\n",
              "   EMI_rate_in_percentage_of_disposable_income  Property  Has_coapplicant  \\\n",
              "0                                            4         2                0   \n",
              "1                                            2         2                0   \n",
              "2                                            2         2                0   \n",
              "3                                            2         0                0   \n",
              "4                                            3         1                0   \n",
              "\n",
              "   Has_guarantor  Number_of_existing_loans_at_this_bank  Loan_history  \\\n",
              "0              0                                      2             1   \n",
              "1              0                                      1             3   \n",
              "2              0                                      1             1   \n",
              "3              1                                      1             3   \n",
              "4              0                                      2             2   \n",
              "\n",
              "   high_risk_applicant  \n",
              "0                    0  \n",
              "1                    1  \n",
              "2                    0  \n",
              "3                    0  \n",
              "4                    1  \n",
              "\n",
              "[5 rows x 21 columns]"
            ],
            "text/html": [
              "\n",
              "  <div id=\"df-54301d60-5bfc-400e-8c96-0af2d24e11b2\">\n",
              "    <div class=\"colab-df-container\">\n",
              "      <div>\n",
              "<style scoped>\n",
              "    .dataframe tbody tr th:only-of-type {\n",
              "        vertical-align: middle;\n",
              "    }\n",
              "\n",
              "    .dataframe tbody tr th {\n",
              "        vertical-align: top;\n",
              "    }\n",
              "\n",
              "    .dataframe thead th {\n",
              "        text-align: right;\n",
              "    }\n",
              "</style>\n",
              "<table border=\"1\" class=\"dataframe\">\n",
              "  <thead>\n",
              "    <tr style=\"text-align: right;\">\n",
              "      <th></th>\n",
              "      <th>Primary_applicant_age_in_years</th>\n",
              "      <th>Gender</th>\n",
              "      <th>Marital_status</th>\n",
              "      <th>Number_of_dependents</th>\n",
              "      <th>Housing</th>\n",
              "      <th>Years_at_current_residence</th>\n",
              "      <th>Employment_status</th>\n",
              "      <th>Has_been_employed_for_at_least</th>\n",
              "      <th>Has_been_employed_for_at_most</th>\n",
              "      <th>Foreign_worker</th>\n",
              "      <th>...</th>\n",
              "      <th>Months_loan_taken_for</th>\n",
              "      <th>Purpose</th>\n",
              "      <th>Principal_loan_amount</th>\n",
              "      <th>EMI_rate_in_percentage_of_disposable_income</th>\n",
              "      <th>Property</th>\n",
              "      <th>Has_coapplicant</th>\n",
              "      <th>Has_guarantor</th>\n",
              "      <th>Number_of_existing_loans_at_this_bank</th>\n",
              "      <th>Loan_history</th>\n",
              "      <th>high_risk_applicant</th>\n",
              "    </tr>\n",
              "  </thead>\n",
              "  <tbody>\n",
              "    <tr>\n",
              "      <th>0</th>\n",
              "      <td>5</td>\n",
              "      <td>1</td>\n",
              "      <td>3</td>\n",
              "      <td>1</td>\n",
              "      <td>1</td>\n",
              "      <td>4</td>\n",
              "      <td>1</td>\n",
              "      <td>7.0</td>\n",
              "      <td>4.0</td>\n",
              "      <td>1</td>\n",
              "      <td>...</td>\n",
              "      <td>0</td>\n",
              "      <td>5</td>\n",
              "      <td>1</td>\n",
              "      <td>4</td>\n",
              "      <td>2</td>\n",
              "      <td>0</td>\n",
              "      <td>0</td>\n",
              "      <td>2</td>\n",
              "      <td>1</td>\n",
              "      <td>0</td>\n",
              "    </tr>\n",
              "    <tr>\n",
              "      <th>1</th>\n",
              "      <td>0</td>\n",
              "      <td>0</td>\n",
              "      <td>1</td>\n",
              "      <td>1</td>\n",
              "      <td>1</td>\n",
              "      <td>2</td>\n",
              "      <td>1</td>\n",
              "      <td>1.0</td>\n",
              "      <td>4.0</td>\n",
              "      <td>1</td>\n",
              "      <td>...</td>\n",
              "      <td>3</td>\n",
              "      <td>5</td>\n",
              "      <td>3</td>\n",
              "      <td>2</td>\n",
              "      <td>2</td>\n",
              "      <td>0</td>\n",
              "      <td>0</td>\n",
              "      <td>1</td>\n",
              "      <td>3</td>\n",
              "      <td>1</td>\n",
              "    </tr>\n",
              "    <tr>\n",
              "      <th>2</th>\n",
              "      <td>3</td>\n",
              "      <td>1</td>\n",
              "      <td>3</td>\n",
              "      <td>2</td>\n",
              "      <td>1</td>\n",
              "      <td>3</td>\n",
              "      <td>3</td>\n",
              "      <td>4.0</td>\n",
              "      <td>7.0</td>\n",
              "      <td>1</td>\n",
              "      <td>...</td>\n",
              "      <td>0</td>\n",
              "      <td>4</td>\n",
              "      <td>1</td>\n",
              "      <td>2</td>\n",
              "      <td>2</td>\n",
              "      <td>0</td>\n",
              "      <td>0</td>\n",
              "      <td>1</td>\n",
              "      <td>1</td>\n",
              "      <td>0</td>\n",
              "    </tr>\n",
              "    <tr>\n",
              "      <th>3</th>\n",
              "      <td>2</td>\n",
              "      <td>1</td>\n",
              "      <td>3</td>\n",
              "      <td>2</td>\n",
              "      <td>0</td>\n",
              "      <td>4</td>\n",
              "      <td>1</td>\n",
              "      <td>4.0</td>\n",
              "      <td>7.0</td>\n",
              "      <td>1</td>\n",
              "      <td>...</td>\n",
              "      <td>3</td>\n",
              "      <td>0</td>\n",
              "      <td>3</td>\n",
              "      <td>2</td>\n",
              "      <td>0</td>\n",
              "      <td>0</td>\n",
              "      <td>1</td>\n",
              "      <td>1</td>\n",
              "      <td>3</td>\n",
              "      <td>0</td>\n",
              "    </tr>\n",
              "    <tr>\n",
              "      <th>4</th>\n",
              "      <td>3</td>\n",
              "      <td>1</td>\n",
              "      <td>3</td>\n",
              "      <td>2</td>\n",
              "      <td>0</td>\n",
              "      <td>4</td>\n",
              "      <td>1</td>\n",
              "      <td>1.0</td>\n",
              "      <td>4.0</td>\n",
              "      <td>1</td>\n",
              "      <td>...</td>\n",
              "      <td>1</td>\n",
              "      <td>6</td>\n",
              "      <td>1</td>\n",
              "      <td>3</td>\n",
              "      <td>1</td>\n",
              "      <td>0</td>\n",
              "      <td>0</td>\n",
              "      <td>2</td>\n",
              "      <td>2</td>\n",
              "      <td>1</td>\n",
              "    </tr>\n",
              "  </tbody>\n",
              "</table>\n",
              "<p>5 rows × 21 columns</p>\n",
              "</div>\n",
              "      <button class=\"colab-df-convert\" onclick=\"convertToInteractive('df-54301d60-5bfc-400e-8c96-0af2d24e11b2')\"\n",
              "              title=\"Convert this dataframe to an interactive table.\"\n",
              "              style=\"display:none;\">\n",
              "        \n",
              "  <svg xmlns=\"http://www.w3.org/2000/svg\" height=\"24px\"viewBox=\"0 0 24 24\"\n",
              "       width=\"24px\">\n",
              "    <path d=\"M0 0h24v24H0V0z\" fill=\"none\"/>\n",
              "    <path d=\"M18.56 5.44l.94 2.06.94-2.06 2.06-.94-2.06-.94-.94-2.06-.94 2.06-2.06.94zm-11 1L8.5 8.5l.94-2.06 2.06-.94-2.06-.94L8.5 2.5l-.94 2.06-2.06.94zm10 10l.94 2.06.94-2.06 2.06-.94-2.06-.94-.94-2.06-.94 2.06-2.06.94z\"/><path d=\"M17.41 7.96l-1.37-1.37c-.4-.4-.92-.59-1.43-.59-.52 0-1.04.2-1.43.59L10.3 9.45l-7.72 7.72c-.78.78-.78 2.05 0 2.83L4 21.41c.39.39.9.59 1.41.59.51 0 1.02-.2 1.41-.59l7.78-7.78 2.81-2.81c.8-.78.8-2.07 0-2.86zM5.41 20L4 18.59l7.72-7.72 1.47 1.35L5.41 20z\"/>\n",
              "  </svg>\n",
              "      </button>\n",
              "      \n",
              "  <style>\n",
              "    .colab-df-container {\n",
              "      display:flex;\n",
              "      flex-wrap:wrap;\n",
              "      gap: 12px;\n",
              "    }\n",
              "\n",
              "    .colab-df-convert {\n",
              "      background-color: #E8F0FE;\n",
              "      border: none;\n",
              "      border-radius: 50%;\n",
              "      cursor: pointer;\n",
              "      display: none;\n",
              "      fill: #1967D2;\n",
              "      height: 32px;\n",
              "      padding: 0 0 0 0;\n",
              "      width: 32px;\n",
              "    }\n",
              "\n",
              "    .colab-df-convert:hover {\n",
              "      background-color: #E2EBFA;\n",
              "      box-shadow: 0px 1px 2px rgba(60, 64, 67, 0.3), 0px 1px 3px 1px rgba(60, 64, 67, 0.15);\n",
              "      fill: #174EA6;\n",
              "    }\n",
              "\n",
              "    [theme=dark] .colab-df-convert {\n",
              "      background-color: #3B4455;\n",
              "      fill: #D2E3FC;\n",
              "    }\n",
              "\n",
              "    [theme=dark] .colab-df-convert:hover {\n",
              "      background-color: #434B5C;\n",
              "      box-shadow: 0px 1px 3px 1px rgba(0, 0, 0, 0.15);\n",
              "      filter: drop-shadow(0px 1px 2px rgba(0, 0, 0, 0.3));\n",
              "      fill: #FFFFFF;\n",
              "    }\n",
              "  </style>\n",
              "\n",
              "      <script>\n",
              "        const buttonEl =\n",
              "          document.querySelector('#df-54301d60-5bfc-400e-8c96-0af2d24e11b2 button.colab-df-convert');\n",
              "        buttonEl.style.display =\n",
              "          google.colab.kernel.accessAllowed ? 'block' : 'none';\n",
              "\n",
              "        async function convertToInteractive(key) {\n",
              "          const element = document.querySelector('#df-54301d60-5bfc-400e-8c96-0af2d24e11b2');\n",
              "          const dataTable =\n",
              "            await google.colab.kernel.invokeFunction('convertToInteractive',\n",
              "                                                     [key], {});\n",
              "          if (!dataTable) return;\n",
              "\n",
              "          const docLinkHtml = 'Like what you see? Visit the ' +\n",
              "            '<a target=\"_blank\" href=https://colab.research.google.com/notebooks/data_table.ipynb>data table notebook</a>'\n",
              "            + ' to learn more about interactive tables.';\n",
              "          element.innerHTML = '';\n",
              "          dataTable['output_type'] = 'display_data';\n",
              "          await google.colab.output.renderOutput(dataTable, element);\n",
              "          const docLink = document.createElement('div');\n",
              "          docLink.innerHTML = docLinkHtml;\n",
              "          element.appendChild(docLink);\n",
              "        }\n",
              "      </script>\n",
              "    </div>\n",
              "  </div>\n",
              "  "
            ]
          },
          "metadata": {},
          "execution_count": 31
        }
      ]
    },
    {
      "cell_type": "markdown",
      "source": [
        "## Logistic Regression Model"
      ],
      "metadata": {
        "id": "FCsJJS3WDHKh"
      }
    },
    {
      "cell_type": "code",
      "source": [
        "ldata = data.copy()\n",
        "ldata.info()"
      ],
      "metadata": {
        "colab": {
          "base_uri": "https://localhost:8080/"
        },
        "id": "G0ynjMZ3UD7e",
        "outputId": "58693f76-3844-48ab-85b0-27fb3bbad6d9"
      },
      "execution_count": null,
      "outputs": [
        {
          "output_type": "stream",
          "name": "stdout",
          "text": [
            "<class 'pandas.core.frame.DataFrame'>\n",
            "Int64Index: 1000 entries, 0 to 999\n",
            "Data columns (total 21 columns):\n",
            " #   Column                                       Non-Null Count  Dtype  \n",
            "---  ------                                       --------------  -----  \n",
            " 0   Primary_applicant_age_in_years               1000 non-null   int64  \n",
            " 1   Gender                                       1000 non-null   int64  \n",
            " 2   Marital_status                               1000 non-null   int64  \n",
            " 3   Number_of_dependents                         1000 non-null   int64  \n",
            " 4   Housing                                      1000 non-null   int64  \n",
            " 5   Years_at_current_residence                   1000 non-null   int64  \n",
            " 6   Employment_status                            1000 non-null   int64  \n",
            " 7   Has_been_employed_for_at_least               1000 non-null   float64\n",
            " 8   Has_been_employed_for_at_most                1000 non-null   float64\n",
            " 9   Foreign_worker                               1000 non-null   int64  \n",
            " 10  Savings_account_balance                      1000 non-null   int64  \n",
            " 11  Months_loan_taken_for                        1000 non-null   int64  \n",
            " 12  Purpose                                      1000 non-null   int64  \n",
            " 13  Principal_loan_amount                        1000 non-null   int64  \n",
            " 14  EMI_rate_in_percentage_of_disposable_income  1000 non-null   int64  \n",
            " 15  Property                                     1000 non-null   int64  \n",
            " 16  Has_coapplicant                              1000 non-null   int64  \n",
            " 17  Has_guarantor                                1000 non-null   int64  \n",
            " 18  Number_of_existing_loans_at_this_bank        1000 non-null   int64  \n",
            " 19  Loan_history                                 1000 non-null   int64  \n",
            " 20  high_risk_applicant                          1000 non-null   int64  \n",
            "dtypes: float64(2), int64(19)\n",
            "memory usage: 171.9 KB\n"
          ]
        }
      ]
    },
    {
      "cell_type": "code",
      "source": [
        "# Checking for any preexisting correlations\n",
        "\n",
        "col_list = []\n",
        "for col in ldata.columns:\n",
        "  if ((ldata[col].dtypes != 'object') & (col != 'high_risk_applicant')):\n",
        "    col_list.append(col)\n",
        "col_list"
      ],
      "metadata": {
        "colab": {
          "base_uri": "https://localhost:8080/"
        },
        "id": "BWgCOrLKCm8p",
        "outputId": "ac009057-06f9-44a5-f185-052bd2c776c4"
      },
      "execution_count": null,
      "outputs": [
        {
          "output_type": "execute_result",
          "data": {
            "text/plain": [
              "['Primary_applicant_age_in_years',\n",
              " 'Gender',\n",
              " 'Marital_status',\n",
              " 'Number_of_dependents',\n",
              " 'Housing',\n",
              " 'Years_at_current_residence',\n",
              " 'Employment_status',\n",
              " 'Has_been_employed_for_at_least',\n",
              " 'Has_been_employed_for_at_most',\n",
              " 'Foreign_worker',\n",
              " 'Savings_account_balance',\n",
              " 'Months_loan_taken_for',\n",
              " 'Purpose',\n",
              " 'Principal_loan_amount',\n",
              " 'EMI_rate_in_percentage_of_disposable_income',\n",
              " 'Property',\n",
              " 'Has_coapplicant',\n",
              " 'Has_guarantor',\n",
              " 'Number_of_existing_loans_at_this_bank',\n",
              " 'Loan_history']"
            ]
          },
          "metadata": {},
          "execution_count": 432
        }
      ]
    },
    {
      "cell_type": "code",
      "source": [
        "x = ldata[col_list]\n",
        "vif_data = pd.DataFrame()\n",
        "vif_data['feature'] = x.columns\n",
        "vif_data['VIF'] = [variance_inflation_factor(x.values, i) for i in range(len(x.columns))]\n",
        "\n",
        "print(vif_data)"
      ],
      "metadata": {
        "colab": {
          "base_uri": "https://localhost:8080/"
        },
        "id": "UOzisQRVT7hl",
        "outputId": "9d5e80fb-16df-4095-a00c-d2bed275b7d4"
      },
      "execution_count": null,
      "outputs": [
        {
          "output_type": "stream",
          "name": "stdout",
          "text": [
            "                                        feature        VIF\n",
            "0                Primary_applicant_age_in_years   3.460959\n",
            "1                                        Gender   7.552302\n",
            "2                                Marital_status  13.249058\n",
            "3                          Number_of_dependents  11.496608\n",
            "4                                       Housing   5.496623\n",
            "5                    Years_at_current_residence   8.695657\n",
            "6                             Employment_status   3.192398\n",
            "7                Has_been_employed_for_at_least   3.444417\n",
            "8                 Has_been_employed_for_at_most   5.941748\n",
            "9                                Foreign_worker  19.806134\n",
            "10                      Savings_account_balance   4.685077\n",
            "11                        Months_loan_taken_for   3.006426\n",
            "12                                      Purpose   3.714688\n",
            "13                        Principal_loan_amount   4.801763\n",
            "14  EMI_rate_in_percentage_of_disposable_income   8.625034\n",
            "15                                     Property   3.288999\n",
            "16                              Has_coapplicant   1.057580\n",
            "17                                Has_guarantor   1.090131\n",
            "18        Number_of_existing_loans_at_this_bank   7.828320\n",
            "19                                 Loan_history   5.554479\n"
          ]
        }
      ]
    },
    {
      "cell_type": "code",
      "source": [
        "col_list.remove('Number_of_dependents')\n",
        "ldata = ldata.drop('Number_of_dependents', axis = 1)\n",
        "x = ldata[col_list]\n",
        "vif_data = pd.DataFrame()\n",
        "vif_data['feature'] = x.columns\n",
        "vif_data['VIF'] = [variance_inflation_factor(x.values, i) for i in range(len(x.columns))]\n",
        "\n",
        "print(vif_data)"
      ],
      "metadata": {
        "colab": {
          "base_uri": "https://localhost:8080/"
        },
        "id": "rNhQgZWbUh0p",
        "outputId": "942a6d41-27c7-422d-a16b-3f46e46acf0f"
      },
      "execution_count": null,
      "outputs": [
        {
          "output_type": "stream",
          "name": "stdout",
          "text": [
            "                                        feature       VIF\n",
            "0                Primary_applicant_age_in_years  3.430702\n",
            "1                                        Gender  3.527409\n",
            "2                                       Housing  5.316346\n",
            "3                    Years_at_current_residence  8.290617\n",
            "4                             Employment_status  3.037917\n",
            "5                Has_been_employed_for_at_least  3.439428\n",
            "6                 Has_been_employed_for_at_most  5.836601\n",
            "7                       Savings_account_balance  4.610366\n",
            "8                         Months_loan_taken_for  2.978482\n",
            "9                                       Purpose  3.619204\n",
            "10                        Principal_loan_amount  4.620578\n",
            "11  EMI_rate_in_percentage_of_disposable_income  7.536398\n",
            "12                                     Property  3.243509\n",
            "13                              Has_coapplicant  1.052867\n",
            "14                                Has_guarantor  1.082327\n",
            "15        Number_of_existing_loans_at_this_bank  7.144551\n",
            "16                                 Loan_history  4.974827\n"
          ]
        }
      ]
    },
    {
      "cell_type": "code",
      "source": [
        "# Defining dependent and independent variables and splitting for Logistic Regression\n",
        "\n",
        "x = ldata[col_list]\n",
        "y = ldata['high_risk_applicant']\n",
        "\n",
        "x_train, x_test, y_train, y_test = train_test_split(x, y, test_size = 0.25, random_state = 1)"
      ],
      "metadata": {
        "id": "zIlTTRwkXwud"
      },
      "execution_count": null,
      "outputs": []
    },
    {
      "cell_type": "code",
      "source": [
        "# Fitting Logistic Regression model\n",
        "\n",
        "model = LogisticRegression()\n",
        "model.fit(x_train, y_train)"
      ],
      "metadata": {
        "colab": {
          "base_uri": "https://localhost:8080/"
        },
        "id": "tNtOKfUvYhEb",
        "outputId": "0cc3db82-b8d4-4ef7-9eb8-3c77a5e3e166"
      },
      "execution_count": null,
      "outputs": [
        {
          "output_type": "execute_result",
          "data": {
            "text/plain": [
              "LogisticRegression()"
            ]
          },
          "metadata": {},
          "execution_count": 449
        }
      ]
    },
    {
      "cell_type": "code",
      "source": [
        "y_pred = model.predict(x_test)\n",
        "\n",
        "accuracy_score(y_test, y_pred)"
      ],
      "metadata": {
        "colab": {
          "base_uri": "https://localhost:8080/"
        },
        "id": "zw7p0-E6aSgG",
        "outputId": "0e8b428d-7c66-44cb-a22a-67b1692c99cc"
      },
      "execution_count": null,
      "outputs": [
        {
          "output_type": "execute_result",
          "data": {
            "text/plain": [
              "0.724"
            ]
          },
          "metadata": {},
          "execution_count": 450
        }
      ]
    },
    {
      "cell_type": "code",
      "source": [
        "confusion_matrix(y_test, y_pred)"
      ],
      "metadata": {
        "colab": {
          "base_uri": "https://localhost:8080/"
        },
        "id": "uPaNzduGasyg",
        "outputId": "60829be2-2a7e-415c-c403-f214114cbf52"
      },
      "execution_count": null,
      "outputs": [
        {
          "output_type": "execute_result",
          "data": {
            "text/plain": [
              "array([[165,  11],\n",
              "       [ 58,  16]])"
            ]
          },
          "metadata": {},
          "execution_count": 451
        }
      ]
    },
    {
      "cell_type": "markdown",
      "source": [
        "## Decision Tree Classifier"
      ],
      "metadata": {
        "id": "LmxL2qgFchPT"
      }
    },
    {
      "cell_type": "code",
      "source": [
        "cols = list(data.columns)\n",
        "cols.remove('high_risk_applicant')\n",
        "x = data[cols]\n",
        "y = data['high_risk_applicant']"
      ],
      "metadata": {
        "id": "J0dm8xIJbBj4"
      },
      "execution_count": null,
      "outputs": []
    },
    {
      "cell_type": "code",
      "source": [
        "x_train, x_test, y_train, y_test = train_test_split(x, y, test_size = 0.3, random_state = 1)"
      ],
      "metadata": {
        "id": "ggaZVBpOdIUE"
      },
      "execution_count": null,
      "outputs": []
    },
    {
      "cell_type": "code",
      "source": [
        "model = DecisionTreeClassifier()\n",
        "model.fit(x_train, y_train)"
      ],
      "metadata": {
        "colab": {
          "base_uri": "https://localhost:8080/"
        },
        "id": "kQyLHi0fejuS",
        "outputId": "b500f88e-cf14-4925-e394-82ea685ec383"
      },
      "execution_count": null,
      "outputs": [
        {
          "output_type": "execute_result",
          "data": {
            "text/plain": [
              "DecisionTreeClassifier()"
            ]
          },
          "metadata": {},
          "execution_count": 473
        }
      ]
    },
    {
      "cell_type": "code",
      "source": [
        "y_pred = model.predict(x_test)"
      ],
      "metadata": {
        "id": "TAJgLooOfDL2"
      },
      "execution_count": null,
      "outputs": []
    },
    {
      "cell_type": "code",
      "source": [
        "accuracy_score(y_test, y_pred)"
      ],
      "metadata": {
        "colab": {
          "base_uri": "https://localhost:8080/"
        },
        "id": "LTk21YEBfKFf",
        "outputId": "6be40269-b492-48ac-bc7a-c294c927d955"
      },
      "execution_count": null,
      "outputs": [
        {
          "output_type": "execute_result",
          "data": {
            "text/plain": [
              "0.6266666666666667"
            ]
          },
          "metadata": {},
          "execution_count": 475
        }
      ]
    },
    {
      "cell_type": "code",
      "source": [
        "confusion_matrix(y_test, y_pred)"
      ],
      "metadata": {
        "colab": {
          "base_uri": "https://localhost:8080/"
        },
        "id": "pH6LYip6ff8Y",
        "outputId": "db309da0-0790-4327-d641-77a971a64ee7"
      },
      "execution_count": null,
      "outputs": [
        {
          "output_type": "execute_result",
          "data": {
            "text/plain": [
              "array([[152,  62],\n",
              "       [ 50,  36]])"
            ]
          },
          "metadata": {},
          "execution_count": 476
        }
      ]
    },
    {
      "cell_type": "markdown",
      "source": [
        "## Random Forest Classifier"
      ],
      "metadata": {
        "id": "C_cPgJotgMBZ"
      }
    },
    {
      "cell_type": "code",
      "source": [
        "cols = list(data.columns)\n",
        "cols.remove('high_risk_applicant')\n",
        "x = data[cols]\n",
        "y = data['high_risk_applicant']"
      ],
      "metadata": {
        "id": "OhNcnEXsf16o"
      },
      "execution_count": null,
      "outputs": []
    },
    {
      "cell_type": "code",
      "source": [
        "x_train, x_test, y_train, y_test = train_test_split(x, y, test_size = 0.3, random_state = 1)"
      ],
      "metadata": {
        "id": "AXAufKZlh1bd"
      },
      "execution_count": null,
      "outputs": []
    },
    {
      "cell_type": "code",
      "source": [
        "model = RandomForestClassifier(n_estimators = 500)\n",
        "model.fit(x_train, y_train)"
      ],
      "metadata": {
        "colab": {
          "base_uri": "https://localhost:8080/"
        },
        "id": "E1pXTYHLh5ZG",
        "outputId": "b92a7e07-b065-4eb8-e96a-18ef1749898c"
      },
      "execution_count": null,
      "outputs": [
        {
          "output_type": "execute_result",
          "data": {
            "text/plain": [
              "RandomForestClassifier(n_estimators=500)"
            ]
          },
          "metadata": {},
          "execution_count": 519
        }
      ]
    },
    {
      "cell_type": "code",
      "source": [
        "y_pred = model.predict(x_test)"
      ],
      "metadata": {
        "id": "dhfhHrMziTwX"
      },
      "execution_count": null,
      "outputs": []
    },
    {
      "cell_type": "code",
      "source": [
        "accuracy_score(y_test, y_pred)"
      ],
      "metadata": {
        "colab": {
          "base_uri": "https://localhost:8080/"
        },
        "id": "UyZMPyLeiaXg",
        "outputId": "957d0f29-ce34-41a9-b91c-c8480446f170"
      },
      "execution_count": null,
      "outputs": [
        {
          "output_type": "execute_result",
          "data": {
            "text/plain": [
              "0.7166666666666667"
            ]
          },
          "metadata": {},
          "execution_count": 521
        }
      ]
    },
    {
      "cell_type": "code",
      "source": [
        "confusion_matrix(y_test, y_pred)"
      ],
      "metadata": {
        "colab": {
          "base_uri": "https://localhost:8080/"
        },
        "id": "a43DfCxXik_G",
        "outputId": "9cbc663d-0961-4811-8bcb-23f0e63a5745"
      },
      "execution_count": null,
      "outputs": [
        {
          "output_type": "execute_result",
          "data": {
            "text/plain": [
              "array([[197,  17],\n",
              "       [ 68,  18]])"
            ]
          },
          "metadata": {},
          "execution_count": 522
        }
      ]
    },
    {
      "cell_type": "markdown",
      "source": [
        "## AI Model using Tensorflow"
      ],
      "metadata": {
        "id": "YRR75wncDT66"
      }
    },
    {
      "cell_type": "code",
      "source": [
        "from tensorflow.keras.utils import to_categorical\n",
        "from tensorflow.keras.models import Sequential\n",
        "from tensorflow.keras.layers import Dense, Input\n",
        "from tensorflow.keras.optimizers import Adam\n",
        "from tensorflow.keras.regularizers import l1, l2, l1_l2"
      ],
      "metadata": {
        "id": "d1vUGJChiyUq"
      },
      "execution_count": null,
      "outputs": []
    },
    {
      "cell_type": "code",
      "source": [
        "cols = list(data.columns)\n",
        "cols.remove('high_risk_applicant')\n",
        "x = data[cols]\n",
        "y = data['high_risk_applicant']\n",
        "\n",
        "x_train, x_test, y_train, y_test = train_test_split(x, y, test_size = 0.3, random_state = 1)"
      ],
      "metadata": {
        "id": "sEEDwQMODSUc"
      },
      "execution_count": null,
      "outputs": []
    },
    {
      "cell_type": "code",
      "source": [
        "x_train.shape"
      ],
      "metadata": {
        "colab": {
          "base_uri": "https://localhost:8080/"
        },
        "id": "3wTloC9IDnl6",
        "outputId": "b6943d0c-d276-46c9-8750-0ac1a1ca811c"
      },
      "execution_count": null,
      "outputs": [
        {
          "output_type": "execute_result",
          "data": {
            "text/plain": [
              "(700, 20)"
            ]
          },
          "metadata": {},
          "execution_count": 34
        }
      ]
    },
    {
      "cell_type": "code",
      "source": [
        "y_train.shape"
      ],
      "metadata": {
        "colab": {
          "base_uri": "https://localhost:8080/"
        },
        "id": "Ncn-Vp6gDztI",
        "outputId": "fe4ca5ef-b64e-406b-95d8-0958abae24ec"
      },
      "execution_count": null,
      "outputs": [
        {
          "output_type": "execute_result",
          "data": {
            "text/plain": [
              "(700,)"
            ]
          },
          "metadata": {},
          "execution_count": 35
        }
      ]
    },
    {
      "cell_type": "code",
      "source": [
        "y_train = to_categorical(y_train)\n",
        "y_test = to_categorical(y_test)"
      ],
      "metadata": {
        "id": "UxSDOZm-EEvz"
      },
      "execution_count": null,
      "outputs": []
    },
    {
      "cell_type": "markdown",
      "source": [
        "### Model Building with Tensorflow\n",
        "1. Model Initialization - Defining the architecture of the DL model\n",
        "2. Model Compilation - Define the loss function, optimization functions\n",
        "3. Model Training - # Epochs, etc."
      ],
      "metadata": {
        "id": "s9Ve6NFzEmAp"
      }
    },
    {
      "cell_type": "code",
      "source": [
        "# Model Initialization\n",
        "\n",
        "model = Sequential() # Blank Model\n",
        "model.add(Input(shape = (20))) # Input Layer\n",
        "model.add(Dense(units = 10, activation='relu', kernel_regularizer = l1_l2(0.001))) # Middle Layer\n",
        "model.add(Dense(units = 2, activation='sigmoid')) # Output Layer"
      ],
      "metadata": {
        "id": "SS6VDPXYEcct"
      },
      "execution_count": null,
      "outputs": []
    },
    {
      "cell_type": "code",
      "source": [
        "# Model Compilation\n",
        "model.compile(optimizer = Adam(learning_rate=0.001),\n",
        "              loss=\"binary_crossentropy\", \n",
        "              metrics=\"accuracy\")"
      ],
      "metadata": {
        "id": "VSrSBhtrlFHp"
      },
      "execution_count": null,
      "outputs": []
    },
    {
      "cell_type": "code",
      "source": [
        "# Model fit\n",
        "history = model.fit(x=x_train,\n",
        "                    y= y_train, \n",
        "                    epochs=30, \n",
        "                    batch_size = 20,\n",
        "                    validation_data= (x_test,y_test))"
      ],
      "metadata": {
        "colab": {
          "base_uri": "https://localhost:8080/"
        },
        "id": "DDj8EJMvkEB5",
        "outputId": "5de719b6-a44b-43b9-9e1b-31bcdac7e288"
      },
      "execution_count": null,
      "outputs": [
        {
          "output_type": "stream",
          "name": "stdout",
          "text": [
            "Epoch 1/30\n",
            "35/35 [==============================] - 1s 12ms/step - loss: 1.1990 - accuracy: 0.3357 - val_loss: 0.9834 - val_accuracy: 0.4067\n",
            "Epoch 2/30\n",
            "35/35 [==============================] - 0s 7ms/step - loss: 0.9026 - accuracy: 0.5200 - val_loss: 0.8148 - val_accuracy: 0.6600\n",
            "Epoch 3/30\n",
            "35/35 [==============================] - 0s 7ms/step - loss: 0.7962 - accuracy: 0.6457 - val_loss: 0.7653 - val_accuracy: 0.6933\n",
            "Epoch 4/30\n",
            "35/35 [==============================] - 0s 5ms/step - loss: 0.7589 - accuracy: 0.6857 - val_loss: 0.7455 - val_accuracy: 0.7067\n",
            "Epoch 5/30\n",
            "35/35 [==============================] - 0s 6ms/step - loss: 0.7388 - accuracy: 0.6914 - val_loss: 0.7321 - val_accuracy: 0.7067\n",
            "Epoch 6/30\n",
            "35/35 [==============================] - 0s 4ms/step - loss: 0.7229 - accuracy: 0.6943 - val_loss: 0.7209 - val_accuracy: 0.7067\n",
            "Epoch 7/30\n",
            "35/35 [==============================] - 0s 6ms/step - loss: 0.7095 - accuracy: 0.6943 - val_loss: 0.7105 - val_accuracy: 0.7100\n",
            "Epoch 8/30\n",
            "35/35 [==============================] - 0s 8ms/step - loss: 0.6972 - accuracy: 0.6943 - val_loss: 0.7037 - val_accuracy: 0.7100\n",
            "Epoch 9/30\n",
            "35/35 [==============================] - 0s 4ms/step - loss: 0.6861 - accuracy: 0.6943 - val_loss: 0.7005 - val_accuracy: 0.7100\n",
            "Epoch 10/30\n",
            "35/35 [==============================] - 0s 7ms/step - loss: 0.6766 - accuracy: 0.6943 - val_loss: 0.6953 - val_accuracy: 0.7100\n",
            "Epoch 11/30\n",
            "35/35 [==============================] - 0s 6ms/step - loss: 0.6682 - accuracy: 0.6943 - val_loss: 0.6902 - val_accuracy: 0.7100\n",
            "Epoch 12/30\n",
            "35/35 [==============================] - 0s 11ms/step - loss: 0.6615 - accuracy: 0.6943 - val_loss: 0.6846 - val_accuracy: 0.7100\n",
            "Epoch 13/30\n",
            "35/35 [==============================] - 0s 7ms/step - loss: 0.6547 - accuracy: 0.6943 - val_loss: 0.6799 - val_accuracy: 0.7100\n",
            "Epoch 14/30\n",
            "35/35 [==============================] - 0s 5ms/step - loss: 0.6494 - accuracy: 0.6943 - val_loss: 0.6771 - val_accuracy: 0.7100\n",
            "Epoch 15/30\n",
            "35/35 [==============================] - 0s 6ms/step - loss: 0.6442 - accuracy: 0.6943 - val_loss: 0.6718 - val_accuracy: 0.7100\n",
            "Epoch 16/30\n",
            "35/35 [==============================] - 0s 5ms/step - loss: 0.6406 - accuracy: 0.6943 - val_loss: 0.6683 - val_accuracy: 0.7100\n",
            "Epoch 17/30\n",
            "35/35 [==============================] - 0s 6ms/step - loss: 0.6361 - accuracy: 0.6957 - val_loss: 0.6640 - val_accuracy: 0.7100\n",
            "Epoch 18/30\n",
            "35/35 [==============================] - 0s 4ms/step - loss: 0.6316 - accuracy: 0.6957 - val_loss: 0.6608 - val_accuracy: 0.7100\n",
            "Epoch 19/30\n",
            "35/35 [==============================] - 0s 5ms/step - loss: 0.6284 - accuracy: 0.6957 - val_loss: 0.6585 - val_accuracy: 0.7100\n",
            "Epoch 20/30\n",
            "35/35 [==============================] - 0s 6ms/step - loss: 0.6260 - accuracy: 0.6971 - val_loss: 0.6562 - val_accuracy: 0.7100\n",
            "Epoch 21/30\n",
            "35/35 [==============================] - 0s 7ms/step - loss: 0.6220 - accuracy: 0.6943 - val_loss: 0.6532 - val_accuracy: 0.7067\n",
            "Epoch 22/30\n",
            "35/35 [==============================] - 0s 10ms/step - loss: 0.6192 - accuracy: 0.6957 - val_loss: 0.6515 - val_accuracy: 0.7067\n",
            "Epoch 23/30\n",
            "35/35 [==============================] - 0s 8ms/step - loss: 0.6162 - accuracy: 0.6957 - val_loss: 0.6495 - val_accuracy: 0.7100\n",
            "Epoch 24/30\n",
            "35/35 [==============================] - 0s 7ms/step - loss: 0.6148 - accuracy: 0.6957 - val_loss: 0.6465 - val_accuracy: 0.7100\n",
            "Epoch 25/30\n",
            "35/35 [==============================] - 0s 7ms/step - loss: 0.6117 - accuracy: 0.6957 - val_loss: 0.6451 - val_accuracy: 0.7100\n",
            "Epoch 26/30\n",
            "35/35 [==============================] - 0s 4ms/step - loss: 0.6092 - accuracy: 0.6943 - val_loss: 0.6413 - val_accuracy: 0.7100\n",
            "Epoch 27/30\n",
            "35/35 [==============================] - 0s 6ms/step - loss: 0.6072 - accuracy: 0.6957 - val_loss: 0.6405 - val_accuracy: 0.7133\n",
            "Epoch 28/30\n",
            "35/35 [==============================] - 0s 7ms/step - loss: 0.6045 - accuracy: 0.6943 - val_loss: 0.6384 - val_accuracy: 0.7100\n",
            "Epoch 29/30\n",
            "35/35 [==============================] - 0s 6ms/step - loss: 0.6030 - accuracy: 0.6957 - val_loss: 0.6382 - val_accuracy: 0.7133\n",
            "Epoch 30/30\n",
            "35/35 [==============================] - 0s 4ms/step - loss: 0.6013 - accuracy: 0.6943 - val_loss: 0.6364 - val_accuracy: 0.7133\n"
          ]
        }
      ]
    },
    {
      "cell_type": "code",
      "source": [
        "# Loss curve\n",
        "train_loss = history.history['loss']\n",
        "val_loss = history.history['val_loss']\n",
        "\n",
        "plt.plot(train_loss)\n",
        "plt.plot(val_loss)\n",
        "plt.legend(['Train', 'Validation'])\n",
        "plt.xlabel('Epochs')\n",
        "plt.ylabel('Loss')\n",
        "plt.title(\"Loss Curve\")\n",
        "plt.grid()\n",
        "plt.show()"
      ],
      "metadata": {
        "colab": {
          "base_uri": "https://localhost:8080/",
          "height": 295
        },
        "id": "qiTazgXukujS",
        "outputId": "ff7cd85f-0547-4666-b01a-f56002705470"
      },
      "execution_count": null,
      "outputs": [
        {
          "output_type": "display_data",
          "data": {
            "text/plain": [
              "<Figure size 432x288 with 1 Axes>"
            ],
            "image/png": "[encoded data removed]"
          },
          "metadata": {
            "needs_background": "light"
          }
        }
      ]
    },
    {
      "cell_type": "code",
      "source": [
        "# Metric curve\n",
        "train_metric = history.history['accuracy']\n",
        "val_metric = history.history['val_accuracy']\n",
        "\n",
        "plt.plot(train_metric)\n",
        "plt.plot(val_metric)\n",
        "plt.legend(['Train', 'Validation'])\n",
        "plt.xlabel('Epochs')\n",
        "plt.ylabel('Metric')\n",
        "plt.title(\"Metric Curve\")\n",
        "plt.grid()\n",
        "plt.show()"
      ],
      "metadata": {
        "colab": {
          "base_uri": "https://localhost:8080/",
          "height": 295
        },
        "id": "kb2Qe4EjlbBF",
        "outputId": "260ce05b-997d-49e1-86f1-ba1f3e86b650"
      },
      "execution_count": null,
      "outputs": [
        {
          "output_type": "display_data",
          "data": {
            "text/plain": [
              "<Figure size 432x288 with 1 Axes>"
            ],
            "image/png": "[encoded data removed]"
          },
          "metadata": {
            "needs_background": "light"
          }
        }
      ]
    },
    {
      "cell_type": "code",
      "source": [],
      "metadata": {
        "id": "wopkwcPpavf3"
      },
      "execution_count": null,
      "outputs": []
    }
  ]
}